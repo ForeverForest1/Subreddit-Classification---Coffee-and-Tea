{
 "cells": [
  {
   "cell_type": "markdown",
   "id": "fa782939",
   "metadata": {},
   "source": [
    "## Overview"
   ]
  },
  {
   "cell_type": "markdown",
   "id": "d25f387d",
   "metadata": {},
   "source": [
    "In this notebook, data cleaning, preprocessng and exploratory analysis were carried out on the previously downloaded subreddit posts from r/tea and r/Coffee. \n",
    "\n",
    "The following steps were taken:\n",
    "\n",
    "**Data cleaning**: \n",
    "* Imputed nulls with empty spaces\n",
    "* Removal of duplicate rows (2 rounds), web addresses, punctuation, numbers \n",
    "* Changed words to all lowercase\n",
    "\n",
    "**Exploratory data analysis**:\n",
    "* Examined word count on title and self text\n",
    "* Derived top 15 single words, bigrams and trigrams (before lemmatizing and stopword removal)\n",
    "\n",
    "**Preprocessing** :\n",
    "* Combined title and self text into a new column\n",
    "* Stopword removal\n",
    "* Lemmatizing\n",
    "* Tokenisation\n",
    "* Dummify target variable ('subreddit' column)\n",
    "\n",
    "**Results**:\n",
    "\n",
    "* From the total of 5943 rows and 109 (r/Coffee) /118 (r/tea) columns of data, the final merged dataframe had 1578 rows and 18 columns. \n",
    "* The cleaned dataframes for tea and coffee were merged and exported as a csv file to be used in the next notebook on modeling. "
   ]
  },
  {
   "cell_type": "markdown",
   "id": "59823732",
   "metadata": {},
   "source": [
    "## Import Python modules"
   ]
  },
  {
   "cell_type": "code",
   "execution_count": 228,
   "id": "a8a04d46",
   "metadata": {},
   "outputs": [],
   "source": [
    "import requests \n",
    "import pandas as pd\n",
    "import numpy as np\n",
    "import time\n",
    "import string\n",
    "import re\n",
    "import nltk\n",
    "import seaborn as sns\n",
    "import matplotlib.pyplot as plt\n",
    "from sklearn.feature_extraction.text import CountVectorizer\n",
    "from nltk.tokenize import sent_tokenize, word_tokenize, RegexpTokenizer\n",
    "#import nltk\n",
    "from nltk.stem import WordNetLemmatizer\n",
    "from nltk.stem.porter import PorterStemmer\n",
    "from nltk.corpus import stopwords\n",
    "\n",
    "# this setting widens how many characters pandas will display in a column:\n",
    "pd.options.display.max_colwidth = 400"
   ]
  },
  {
   "cell_type": "markdown",
   "id": "94bbe30e",
   "metadata": {},
   "source": [
    "## Import earlier scraped subreddit posts"
   ]
  },
  {
   "cell_type": "code",
   "execution_count": 690,
   "id": "e25b5f63",
   "metadata": {},
   "outputs": [
    {
     "name": "stdout",
     "output_type": "stream",
     "text": [
      "Shape of df_tea: (2958, 118)\n",
      "Shape of df_coffee: (2985, 109)\n"
     ]
    }
   ],
   "source": [
    "#import csvs of earlier scraped posts\n",
    "\n",
    "df_tea = pd.read_csv('data/tea.csv')\n",
    "df_coffee = pd.read_csv('data/coffee.csv')\n",
    "\n",
    "print(f'Shape of df_tea: {df_tea.shape}') #(2958, 118) \n",
    "print(f'Shape of df_coffee: {df_coffee.shape}') #(2985, 109) "
   ]
  },
  {
   "cell_type": "code",
   "execution_count": 691,
   "id": "2bada215",
   "metadata": {},
   "outputs": [
    {
     "data": {
      "text/html": [
       "<div>\n",
       "<style scoped>\n",
       "    .dataframe tbody tr th:only-of-type {\n",
       "        vertical-align: middle;\n",
       "    }\n",
       "\n",
       "    .dataframe tbody tr th {\n",
       "        vertical-align: top;\n",
       "    }\n",
       "\n",
       "    .dataframe thead th {\n",
       "        text-align: right;\n",
       "    }\n",
       "</style>\n",
       "<table border=\"1\" class=\"dataframe\">\n",
       "  <thead>\n",
       "    <tr style=\"text-align: right;\">\n",
       "      <th></th>\n",
       "      <th>approved_at_utc</th>\n",
       "      <th>subreddit</th>\n",
       "      <th>selftext</th>\n",
       "      <th>author_fullname</th>\n",
       "      <th>saved</th>\n",
       "      <th>mod_reason_title</th>\n",
       "      <th>gilded</th>\n",
       "      <th>clicked</th>\n",
       "      <th>title</th>\n",
       "      <th>link_flair_richtext</th>\n",
       "      <th>...</th>\n",
       "      <th>url_overridden_by_dest</th>\n",
       "      <th>preview</th>\n",
       "      <th>is_gallery</th>\n",
       "      <th>media_metadata</th>\n",
       "      <th>gallery_data</th>\n",
       "      <th>crosspost_parent_list</th>\n",
       "      <th>crosspost_parent</th>\n",
       "      <th>call_to_action</th>\n",
       "      <th>poll_data</th>\n",
       "      <th>author_cakeday</th>\n",
       "    </tr>\n",
       "  </thead>\n",
       "  <tbody>\n",
       "    <tr>\n",
       "      <th>0</th>\n",
       "      <td>NaN</td>\n",
       "      <td>tea</td>\n",
       "      <td>What are you drinking today?  What questions have been on your mind?  Any stories to share?  And don't worry, no one will make fun of you for what you drink or the questions you ask. \\n\\nYou can also talk about anything else on your mind, from your specific routine while making tea, or how you've been on an oolong kick lately. Feel free to link to pictures in here, as well.  You can even talk ...</td>\n",
       "      <td>t2_6l4z3</td>\n",
       "      <td>False</td>\n",
       "      <td>NaN</td>\n",
       "      <td>0</td>\n",
       "      <td>False</td>\n",
       "      <td>What's in your cup? Daily discussion, questions and stories - May 23, 2022</td>\n",
       "      <td>[{'e': 'text', 't': 'Recurring'}]</td>\n",
       "      <td>...</td>\n",
       "      <td>NaN</td>\n",
       "      <td>NaN</td>\n",
       "      <td>NaN</td>\n",
       "      <td>NaN</td>\n",
       "      <td>NaN</td>\n",
       "      <td>NaN</td>\n",
       "      <td>NaN</td>\n",
       "      <td>NaN</td>\n",
       "      <td>NaN</td>\n",
       "      <td>NaN</td>\n",
       "    </tr>\n",
       "    <tr>\n",
       "      <th>1</th>\n",
       "      <td>NaN</td>\n",
       "      <td>tea</td>\n",
       "      <td>We realize there are lots of people involved in the tea industry here, so this thread is a weekly feature where anyone can promote their current projects without worrying about the self-promotion rules.  Feel free to include links to your shop, crowdfunding sites, surveys, sales, or discount codes.  The rule against claims of health benefits remains in effect here.  It should go without saying...</td>\n",
       "      <td>t2_6l4z3</td>\n",
       "      <td>False</td>\n",
       "      <td>NaN</td>\n",
       "      <td>0</td>\n",
       "      <td>False</td>\n",
       "      <td>Marketing Monday! - May 23, 2022</td>\n",
       "      <td>[{'e': 'text', 't': 'Recurring'}]</td>\n",
       "      <td>...</td>\n",
       "      <td>NaN</td>\n",
       "      <td>NaN</td>\n",
       "      <td>NaN</td>\n",
       "      <td>NaN</td>\n",
       "      <td>NaN</td>\n",
       "      <td>NaN</td>\n",
       "      <td>NaN</td>\n",
       "      <td>NaN</td>\n",
       "      <td>NaN</td>\n",
       "      <td>NaN</td>\n",
       "    </tr>\n",
       "    <tr>\n",
       "      <th>2</th>\n",
       "      <td>NaN</td>\n",
       "      <td>tea</td>\n",
       "      <td>NaN</td>\n",
       "      <td>t2_3jjsa</td>\n",
       "      <td>False</td>\n",
       "      <td>NaN</td>\n",
       "      <td>0</td>\n",
       "      <td>False</td>\n",
       "      <td>I’m in London. I like tea. (Thank you for the recommendations)</td>\n",
       "      <td>[{'e': 'text', 't': 'Photo'}]</td>\n",
       "      <td>...</td>\n",
       "      <td>https://i.imgur.com/PcuYX6j.jpg</td>\n",
       "      <td>{'images': [{'source': {'url': 'https://external-preview.redd.it/BmXPNeAJwl8Nyljhbeicqms8GXjsQohmNcAG3NWayGE.jpg?auto=webp&amp;amp;s=4700af7b6b5ffc5ce7f1ce48263935965c4fcac2', 'width': 4032, 'height': 3024}, 'resolutions': [{'url': 'https://external-preview.redd.it/BmXPNeAJwl8Nyljhbeicqms8GXjsQohmNcAG3NWayGE.jpg?width=108&amp;amp;crop=smart&amp;amp;auto=webp&amp;amp;s=533b50a166421fc2c3bce0e6f59bbd10afeb0e19'...</td>\n",
       "      <td>NaN</td>\n",
       "      <td>NaN</td>\n",
       "      <td>NaN</td>\n",
       "      <td>NaN</td>\n",
       "      <td>NaN</td>\n",
       "      <td>NaN</td>\n",
       "      <td>NaN</td>\n",
       "      <td>NaN</td>\n",
       "    </tr>\n",
       "  </tbody>\n",
       "</table>\n",
       "<p>3 rows × 118 columns</p>\n",
       "</div>"
      ],
      "text/plain": [
       "   approved_at_utc subreddit  \\\n",
       "0              NaN       tea   \n",
       "1              NaN       tea   \n",
       "2              NaN       tea   \n",
       "\n",
       "                                                                                                                                                                                                                                                                                                                                                                                                          selftext  \\\n",
       "0  What are you drinking today?  What questions have been on your mind?  Any stories to share?  And don't worry, no one will make fun of you for what you drink or the questions you ask. \\n\\nYou can also talk about anything else on your mind, from your specific routine while making tea, or how you've been on an oolong kick lately. Feel free to link to pictures in here, as well.  You can even talk ...   \n",
       "1  We realize there are lots of people involved in the tea industry here, so this thread is a weekly feature where anyone can promote their current projects without worrying about the self-promotion rules.  Feel free to include links to your shop, crowdfunding sites, surveys, sales, or discount codes.  The rule against claims of health benefits remains in effect here.  It should go without saying...   \n",
       "2                                                                                                                                                                                                                                                                                                                                                                                                              NaN   \n",
       "\n",
       "  author_fullname  saved  mod_reason_title  gilded  clicked  \\\n",
       "0        t2_6l4z3  False               NaN       0    False   \n",
       "1        t2_6l4z3  False               NaN       0    False   \n",
       "2        t2_3jjsa  False               NaN       0    False   \n",
       "\n",
       "                                                                        title  \\\n",
       "0  What's in your cup? Daily discussion, questions and stories - May 23, 2022   \n",
       "1                                            Marketing Monday! - May 23, 2022   \n",
       "2              I’m in London. I like tea. (Thank you for the recommendations)   \n",
       "\n",
       "                 link_flair_richtext  ...           url_overridden_by_dest  \\\n",
       "0  [{'e': 'text', 't': 'Recurring'}]  ...                              NaN   \n",
       "1  [{'e': 'text', 't': 'Recurring'}]  ...                              NaN   \n",
       "2      [{'e': 'text', 't': 'Photo'}]  ...  https://i.imgur.com/PcuYX6j.jpg   \n",
       "\n",
       "                                                                                                                                                                                                                                                                                                                                                                                                           preview  \\\n",
       "0                                                                                                                                                                                                                                                                                                                                                                                                              NaN   \n",
       "1                                                                                                                                                                                                                                                                                                                                                                                                              NaN   \n",
       "2  {'images': [{'source': {'url': 'https://external-preview.redd.it/BmXPNeAJwl8Nyljhbeicqms8GXjsQohmNcAG3NWayGE.jpg?auto=webp&amp;s=4700af7b6b5ffc5ce7f1ce48263935965c4fcac2', 'width': 4032, 'height': 3024}, 'resolutions': [{'url': 'https://external-preview.redd.it/BmXPNeAJwl8Nyljhbeicqms8GXjsQohmNcAG3NWayGE.jpg?width=108&amp;crop=smart&amp;auto=webp&amp;s=533b50a166421fc2c3bce0e6f59bbd10afeb0e19'...   \n",
       "\n",
       "   is_gallery media_metadata  gallery_data  crosspost_parent_list  \\\n",
       "0         NaN            NaN           NaN                    NaN   \n",
       "1         NaN            NaN           NaN                    NaN   \n",
       "2         NaN            NaN           NaN                    NaN   \n",
       "\n",
       "   crosspost_parent  call_to_action poll_data  author_cakeday  \n",
       "0               NaN             NaN       NaN             NaN  \n",
       "1               NaN             NaN       NaN             NaN  \n",
       "2               NaN             NaN       NaN             NaN  \n",
       "\n",
       "[3 rows x 118 columns]"
      ]
     },
     "execution_count": 691,
     "metadata": {},
     "output_type": "execute_result"
    }
   ],
   "source": [
    "#check results of importing\n",
    "df_tea.head(3) #tea dataframe"
   ]
  },
  {
   "cell_type": "code",
   "execution_count": 692,
   "id": "522303fe",
   "metadata": {},
   "outputs": [
    {
     "data": {
      "text/html": [
       "<div>\n",
       "<style scoped>\n",
       "    .dataframe tbody tr th:only-of-type {\n",
       "        vertical-align: middle;\n",
       "    }\n",
       "\n",
       "    .dataframe tbody tr th {\n",
       "        vertical-align: top;\n",
       "    }\n",
       "\n",
       "    .dataframe thead th {\n",
       "        text-align: right;\n",
       "    }\n",
       "</style>\n",
       "<table border=\"1\" class=\"dataframe\">\n",
       "  <thead>\n",
       "    <tr style=\"text-align: right;\">\n",
       "      <th></th>\n",
       "      <th>approved_at_utc</th>\n",
       "      <th>subreddit</th>\n",
       "      <th>selftext</th>\n",
       "      <th>author_fullname</th>\n",
       "      <th>saved</th>\n",
       "      <th>mod_reason_title</th>\n",
       "      <th>gilded</th>\n",
       "      <th>clicked</th>\n",
       "      <th>title</th>\n",
       "      <th>link_flair_richtext</th>\n",
       "      <th>...</th>\n",
       "      <th>subreddit_subscribers</th>\n",
       "      <th>created_utc</th>\n",
       "      <th>num_crossposts</th>\n",
       "      <th>media</th>\n",
       "      <th>is_video</th>\n",
       "      <th>media_metadata</th>\n",
       "      <th>call_to_action</th>\n",
       "      <th>url_overridden_by_dest</th>\n",
       "      <th>is_gallery</th>\n",
       "      <th>gallery_data</th>\n",
       "    </tr>\n",
       "  </thead>\n",
       "  <tbody>\n",
       "    <tr>\n",
       "      <th>0</th>\n",
       "      <td>NaN</td>\n",
       "      <td>Coffee</td>\n",
       "      <td>\\n\\nWelcome to the daily [/r/Coffee](https://www.reddit.com/r/Coffee) question thread!\\n\\nThere are no stupid questions here, ask a question and get an answer! We all have to start somewhere and sometimes it is hard to figure out just what you are doing right or doing wrong. Luckily, the [/r/Coffee](https://www.reddit.com/r/Coffee) community loves to help out.\\n\\nDo you have a question about ...</td>\n",
       "      <td>t2_a04m4</td>\n",
       "      <td>False</td>\n",
       "      <td>NaN</td>\n",
       "      <td>0</td>\n",
       "      <td>False</td>\n",
       "      <td>[MOD] The Daily Question Thread</td>\n",
       "      <td>[]</td>\n",
       "      <td>...</td>\n",
       "      <td>999603</td>\n",
       "      <td>1.653300e+09</td>\n",
       "      <td>0</td>\n",
       "      <td>NaN</td>\n",
       "      <td>False</td>\n",
       "      <td>NaN</td>\n",
       "      <td>NaN</td>\n",
       "      <td>NaN</td>\n",
       "      <td>NaN</td>\n",
       "      <td>NaN</td>\n",
       "    </tr>\n",
       "    <tr>\n",
       "      <th>1</th>\n",
       "      <td>NaN</td>\n",
       "      <td>Coffee</td>\n",
       "      <td>Welcome to the /r/Coffee deal and promotional thread! In this weekly thread, industry folk can post upcoming deals or other promotions their companies are holding, or promote new products to /r/Coffee subscribers! Regular users can also post deals they come across. Come check out some of the roasters and other coffee-related businesses that Redditors work for!\\n\\nNote that this thread will be ...</td>\n",
       "      <td>t2_a04m4</td>\n",
       "      <td>False</td>\n",
       "      <td>NaN</td>\n",
       "      <td>0</td>\n",
       "      <td>False</td>\n",
       "      <td>[MOD] The Official Deal Thread</td>\n",
       "      <td>[]</td>\n",
       "      <td>...</td>\n",
       "      <td>999603</td>\n",
       "      <td>1.653261e+09</td>\n",
       "      <td>0</td>\n",
       "      <td>NaN</td>\n",
       "      <td>False</td>\n",
       "      <td>NaN</td>\n",
       "      <td>NaN</td>\n",
       "      <td>NaN</td>\n",
       "      <td>NaN</td>\n",
       "      <td>NaN</td>\n",
       "    </tr>\n",
       "    <tr>\n",
       "      <th>2</th>\n",
       "      <td>NaN</td>\n",
       "      <td>Coffee</td>\n",
       "      <td>Went to make my annual summer toddy filter purchase today and noticed a few metal options I hadn't seen before, but looked suspiciously like the reusable steel filters for the Aeropress. On a whim, I went into my kitchen and boom: almost a perfect fit. I'll probably double-filter this batch through a french press or something, but should be more than enough to keep the majority of the grinds o...</td>\n",
       "      <td>t2_6qnov</td>\n",
       "      <td>False</td>\n",
       "      <td>NaN</td>\n",
       "      <td>0</td>\n",
       "      <td>False</td>\n",
       "      <td>TIL: The diameters of the Aeropress and Toddy Cold Brew bucket filters are almost exactly the same.</td>\n",
       "      <td>[]</td>\n",
       "      <td>...</td>\n",
       "      <td>999603</td>\n",
       "      <td>1.653337e+09</td>\n",
       "      <td>0</td>\n",
       "      <td>NaN</td>\n",
       "      <td>False</td>\n",
       "      <td>NaN</td>\n",
       "      <td>NaN</td>\n",
       "      <td>NaN</td>\n",
       "      <td>NaN</td>\n",
       "      <td>NaN</td>\n",
       "    </tr>\n",
       "  </tbody>\n",
       "</table>\n",
       "<p>3 rows × 109 columns</p>\n",
       "</div>"
      ],
      "text/plain": [
       "   approved_at_utc subreddit  \\\n",
       "0              NaN    Coffee   \n",
       "1              NaN    Coffee   \n",
       "2              NaN    Coffee   \n",
       "\n",
       "                                                                                                                                                                                                                                                                                                                                                                                                          selftext  \\\n",
       "0   \\n\\nWelcome to the daily [/r/Coffee](https://www.reddit.com/r/Coffee) question thread!\\n\\nThere are no stupid questions here, ask a question and get an answer! We all have to start somewhere and sometimes it is hard to figure out just what you are doing right or doing wrong. Luckily, the [/r/Coffee](https://www.reddit.com/r/Coffee) community loves to help out.\\n\\nDo you have a question about ...   \n",
       "1  Welcome to the /r/Coffee deal and promotional thread! In this weekly thread, industry folk can post upcoming deals or other promotions their companies are holding, or promote new products to /r/Coffee subscribers! Regular users can also post deals they come across. Come check out some of the roasters and other coffee-related businesses that Redditors work for!\\n\\nNote that this thread will be ...   \n",
       "2  Went to make my annual summer toddy filter purchase today and noticed a few metal options I hadn't seen before, but looked suspiciously like the reusable steel filters for the Aeropress. On a whim, I went into my kitchen and boom: almost a perfect fit. I'll probably double-filter this batch through a french press or something, but should be more than enough to keep the majority of the grinds o...   \n",
       "\n",
       "  author_fullname  saved  mod_reason_title  gilded  clicked  \\\n",
       "0        t2_a04m4  False               NaN       0    False   \n",
       "1        t2_a04m4  False               NaN       0    False   \n",
       "2        t2_6qnov  False               NaN       0    False   \n",
       "\n",
       "                                                                                                 title  \\\n",
       "0                                                                      [MOD] The Daily Question Thread   \n",
       "1                                                                       [MOD] The Official Deal Thread   \n",
       "2  TIL: The diameters of the Aeropress and Toddy Cold Brew bucket filters are almost exactly the same.   \n",
       "\n",
       "  link_flair_richtext  ... subreddit_subscribers   created_utc  \\\n",
       "0                  []  ...                999603  1.653300e+09   \n",
       "1                  []  ...                999603  1.653261e+09   \n",
       "2                  []  ...                999603  1.653337e+09   \n",
       "\n",
       "   num_crossposts  media  is_video  media_metadata  call_to_action  \\\n",
       "0               0    NaN     False             NaN             NaN   \n",
       "1               0    NaN     False             NaN             NaN   \n",
       "2               0    NaN     False             NaN             NaN   \n",
       "\n",
       "  url_overridden_by_dest  is_gallery gallery_data  \n",
       "0                    NaN         NaN          NaN  \n",
       "1                    NaN         NaN          NaN  \n",
       "2                    NaN         NaN          NaN  \n",
       "\n",
       "[3 rows x 109 columns]"
      ]
     },
     "execution_count": 692,
     "metadata": {},
     "output_type": "execute_result"
    }
   ],
   "source": [
    "#coffee dataframe\n",
    "df_coffee.head(3)"
   ]
  },
  {
   "cell_type": "markdown",
   "id": "ebfe473c",
   "metadata": {},
   "source": [
    "## Select relevant columns"
   ]
  },
  {
   "cell_type": "code",
   "execution_count": 693,
   "id": "55672202",
   "metadata": {},
   "outputs": [],
   "source": [
    "tea = df_tea[['subreddit', 'title', 'selftext']]\n",
    "coffee = df_coffee[['subreddit', 'title', 'selftext']]"
   ]
  },
  {
   "cell_type": "markdown",
   "id": "471371f0",
   "metadata": {},
   "source": [
    "## Examine null values in each column"
   ]
  },
  {
   "cell_type": "code",
   "execution_count": 694,
   "id": "e5ab90ff",
   "metadata": {
    "scrolled": true
   },
   "outputs": [
    {
     "name": "stdout",
     "output_type": "stream",
     "text": [
      " Proportion of nulls in tea: selftext    0.537525\n",
      "dtype: float64\n",
      "\n",
      " Proportion of nulls in coffee: selftext    0.01876\n",
      "dtype: float64\n"
     ]
    }
   ],
   "source": [
    "print(f\" Proportion of nulls in tea: {tea.isnull().mean()[tea.isnull().mean()>0]}\\n\") \n",
    "print(f\" Proportion of nulls in coffee: {coffee.isnull().mean()[coffee.isnull().mean()>0]}\")"
   ]
  },
  {
   "cell_type": "markdown",
   "id": "d13a2c9f",
   "metadata": {},
   "source": [
    "There are about 53% null values for self text in 'tea', and about 19% null values for self text in 'coffee'."
   ]
  },
  {
   "cell_type": "markdown",
   "id": "f1be3ca3",
   "metadata": {},
   "source": [
    "## Impute nulls with empty space"
   ]
  },
  {
   "cell_type": "code",
   "execution_count": 695,
   "id": "a7d971b6",
   "metadata": {},
   "outputs": [
    {
     "name": "stdout",
     "output_type": "stream",
     "text": [
      "Nulls left for tea: 0.0\n",
      "Nulls left for coffee: 0.0\n"
     ]
    },
    {
     "name": "stderr",
     "output_type": "stream",
     "text": [
      "C:\\Users\\yongl\\anaconda3\\lib\\site-packages\\pandas\\core\\frame.py:5176: SettingWithCopyWarning: \n",
      "A value is trying to be set on a copy of a slice from a DataFrame\n",
      "\n",
      "See the caveats in the documentation: https://pandas.pydata.org/pandas-docs/stable/user_guide/indexing.html#returning-a-view-versus-a-copy\n",
      "  return super().fillna(\n"
     ]
    }
   ],
   "source": [
    "tea.fillna(\" \", inplace = True)\n",
    "coffee.fillna(\" \", inplace = True)\n",
    "\n",
    "print(f'Nulls left for tea: {tea.isnull().mean().sum()}') #no nulls left\n",
    "print(f'Nulls left for coffee: {coffee.isnull().mean().sum()}') #no nulls left"
   ]
  },
  {
   "cell_type": "markdown",
   "id": "4dbb5339",
   "metadata": {},
   "source": [
    "## Create a new column 'alltext'"
   ]
  },
  {
   "cell_type": "code",
   "execution_count": 696,
   "id": "1208d8f7",
   "metadata": {
    "scrolled": false
   },
   "outputs": [
    {
     "name": "stderr",
     "output_type": "stream",
     "text": [
      "C:\\Users\\yongl\\AppData\\Local\\Temp/ipykernel_34828/1049417101.py:2: SettingWithCopyWarning: \n",
      "A value is trying to be set on a copy of a slice from a DataFrame.\n",
      "Try using .loc[row_indexer,col_indexer] = value instead\n",
      "\n",
      "See the caveats in the documentation: https://pandas.pydata.org/pandas-docs/stable/user_guide/indexing.html#returning-a-view-versus-a-copy\n",
      "  tea['alltext'] = tea['title'].astype(str) + \" \" + tea['selftext'].astype(str)\n",
      "C:\\Users\\yongl\\AppData\\Local\\Temp/ipykernel_34828/1049417101.py:4: SettingWithCopyWarning: \n",
      "A value is trying to be set on a copy of a slice from a DataFrame.\n",
      "Try using .loc[row_indexer,col_indexer] = value instead\n",
      "\n",
      "See the caveats in the documentation: https://pandas.pydata.org/pandas-docs/stable/user_guide/indexing.html#returning-a-view-versus-a-copy\n",
      "  coffee['alltext'] = coffee['title'].astype(str) + \" \" + coffee['selftext'].astype(str)\n"
     ]
    }
   ],
   "source": [
    "#create new column for tea\n",
    "tea['alltext'] = tea['title'].astype(str) + \" \" + tea['selftext'].astype(str)\n",
    "#create new column for coffee\n",
    "coffee['alltext'] = coffee['title'].astype(str) + \" \" + coffee['selftext'].astype(str)"
   ]
  },
  {
   "cell_type": "code",
   "execution_count": 697,
   "id": "1d86a404",
   "metadata": {},
   "outputs": [
    {
     "data": {
      "text/plain": [
       "0    What's in your cup? Daily discussion, questions and stories - May 23, 2022 What are you drinking today?  What questions have been on your mind?  Any stories to share?  And don't worry, no one will make fun of you for what you drink or the questions you ask. \\n\\nYou can also talk about anything else on your mind, from your specific routine while making tea, or how you've been on an oolong kick ...\n",
       "1    Marketing Monday! - May 23, 2022 We realize there are lots of people involved in the tea industry here, so this thread is a weekly feature where anyone can promote their current projects without worrying about the self-promotion rules.  Feel free to include links to your shop, crowdfunding sites, surveys, sales, or discount codes.  The rule against claims of health benefits remains in effect h...\n",
       "2                                                                                                                                                                                                                                                                                                                                                   I’m in London. I like tea. (Thank you for the recommendations)  \n",
       "3                                                                                                                                                                                                                                                                                                                                                Gifted myself a set of Shui Xian oolong on International Tea Day.  \n",
       "4                                                                                                                                                                                                                                                                                                                                                          when you drink so much tea, you just buy it by the kilo  \n",
       "Name: alltext, dtype: object"
      ]
     },
     "execution_count": 697,
     "metadata": {},
     "output_type": "execute_result"
    }
   ],
   "source": [
    "#checking new alltext column - tea\n",
    "tea['alltext'].head()"
   ]
  },
  {
   "cell_type": "code",
   "execution_count": 698,
   "id": "9c1e48c4",
   "metadata": {},
   "outputs": [
    {
     "data": {
      "text/plain": [
       "0    [MOD] The Daily Question Thread  \\n\\nWelcome to the daily [/r/Coffee](https://www.reddit.com/r/Coffee) question thread!\\n\\nThere are no stupid questions here, ask a question and get an answer! We all have to start somewhere and sometimes it is hard to figure out just what you are doing right or doing wrong. Luckily, the [/r/Coffee](https://www.reddit.com/r/Coffee) community loves to help out.\\...\n",
       "1    [MOD] The Official Deal Thread Welcome to the /r/Coffee deal and promotional thread! In this weekly thread, industry folk can post upcoming deals or other promotions their companies are holding, or promote new products to /r/Coffee subscribers! Regular users can also post deals they come across. Come check out some of the roasters and other coffee-related businesses that Redditors work for!\\n\\...\n",
       "2    TIL: The diameters of the Aeropress and Toddy Cold Brew bucket filters are almost exactly the same. Went to make my annual summer toddy filter purchase today and noticed a few metal options I hadn't seen before, but looked suspiciously like the reusable steel filters for the Aeropress. On a whim, I went into my kitchen and boom: almost a perfect fit. I'll probably double-filter this batch thro...\n",
       "3                                                                                                             Coffee in Honduras Honduras may be a tiny country, but its coffee is world-class.\\n\\nAfter traveling and tasting a wide variety of coffees, I've concluded that my statement is true; Honduras has the best coffee I have ever tasted. \\n\\nDo you agree with this? Have you tried Honduran coffee yet?\n",
       "4    Where have you tried your best coffee? I wonder where you have tried your best coffee or what was the best moment when you realized that the coffee is the most delightful? Many of you might share stories about your trips to Europe or other places with the best coffee. I’ve tried the best coffee in my own house.\\n\\n&amp;#x200B;\\n\\nWhen my BF and I decided to purchase a house, the story started....\n",
       "Name: alltext, dtype: object"
      ]
     },
     "execution_count": 698,
     "metadata": {},
     "output_type": "execute_result"
    }
   ],
   "source": [
    "#checking new alltext column - coffee\n",
    "coffee['alltext'].head()"
   ]
  },
  {
   "cell_type": "markdown",
   "id": "c3e3f98e",
   "metadata": {},
   "source": [
    "## Remove duplicates, web addresses, punctuation, numbers and change to lowercase"
   ]
  },
  {
   "cell_type": "markdown",
   "id": "432f4242",
   "metadata": {},
   "source": [
    "We will first search and remove duplicate rows using the `alltext` column. Followed by web addresses inside `selftext` and `alltext`, followed by punctuations and numbers in all columns. Order of operation is important, as removing punctuations and numbers first will break up the web address string."
   ]
  },
  {
   "cell_type": "markdown",
   "id": "8daecc6a",
   "metadata": {},
   "source": [
    "#### Create cleaning functions"
   ]
  },
  {
   "cell_type": "code",
   "execution_count": 699,
   "id": "ed4dfde9",
   "metadata": {},
   "outputs": [],
   "source": [
    "#define list of columns to be used in functions\n",
    "original_cols = ['title', 'selftext', 'alltext']\n",
    "cleaned_cols = [str(col) + '_cleaned' for col in original_cols]\n",
    "\n",
    "#create function to remove duplicates using alltext column #works\n",
    "def remove_duplicates(df):\n",
    "    df.drop_duplicates(subset=['alltext'], inplace = True)\n",
    "    return df\n",
    "\n",
    "#create function to replace web addresses with \" \"  #works\n",
    "def remove_web(df):\n",
    "    for col in original_cols:\n",
    "        cleaned_col = str(col) + '_cleaned'\n",
    "        df[cleaned_col] = df[col].str.replace(r'http\\S+|https\\S+|www.\\S+',' ')\n",
    "    return df  \n",
    "\n",
    "#create function to replace punctuations with \" \" #works\n",
    "def remove_punct(df):\n",
    "    pattern = r\"[{}]\".format(string.punctuation)\n",
    "    for col in cleaned_cols:\n",
    "        df[col] = df[col].str.replace(pattern, ' ')\n",
    "    return df\n",
    "\n",
    "#create function to replace numbers with \" \" #works\n",
    "def remove_num(df):\n",
    "    for col in cleaned_cols:\n",
    "        df[col] = df[col].str.replace(r'\\d', ' ', regex = True)\n",
    "    return df\n",
    "\n",
    "#create function to convert all words to lower case\n",
    "def to_lower(df):\n",
    "    for col in cleaned_cols:\n",
    "        df[col] = df[col].str.lower()\n",
    "    return df\n",
    "\n",
    "#consolidate all cleaning processes in one function\n",
    "def cleaning(df):\n",
    "    \n",
    "    remove_duplicates(df)\n",
    "    remove_web(df)\n",
    "    remove_punct(df)\n",
    "    remove_num(df)\n",
    "    to_lower(df)\n",
    "    \n",
    "    return df"
   ]
  },
  {
   "cell_type": "code",
   "execution_count": 700,
   "id": "17ed6d66",
   "metadata": {},
   "outputs": [
    {
     "name": "stderr",
     "output_type": "stream",
     "text": [
      "C:\\Users\\yongl\\anaconda3\\lib\\site-packages\\pandas\\util\\_decorators.py:311: SettingWithCopyWarning: \n",
      "A value is trying to be set on a copy of a slice from a DataFrame\n",
      "\n",
      "See the caveats in the documentation: https://pandas.pydata.org/pandas-docs/stable/user_guide/indexing.html#returning-a-view-versus-a-copy\n",
      "  return func(*args, **kwargs)\n",
      "C:\\Users\\yongl\\AppData\\Local\\Temp/ipykernel_34828/2295051407.py:14: FutureWarning: The default value of regex will change from True to False in a future version.\n",
      "  df[cleaned_col] = df[col].str.replace(r'http\\S+|https\\S+|www.\\S+',' ')\n",
      "C:\\Users\\yongl\\AppData\\Local\\Temp/ipykernel_34828/2295051407.py:14: SettingWithCopyWarning: \n",
      "A value is trying to be set on a copy of a slice from a DataFrame.\n",
      "Try using .loc[row_indexer,col_indexer] = value instead\n",
      "\n",
      "See the caveats in the documentation: https://pandas.pydata.org/pandas-docs/stable/user_guide/indexing.html#returning-a-view-versus-a-copy\n",
      "  df[cleaned_col] = df[col].str.replace(r'http\\S+|https\\S+|www.\\S+',' ')\n",
      "C:\\Users\\yongl\\AppData\\Local\\Temp/ipykernel_34828/2295051407.py:21: FutureWarning: The default value of regex will change from True to False in a future version.\n",
      "  df[col] = df[col].str.replace(pattern, ' ')\n",
      "C:\\Users\\yongl\\AppData\\Local\\Temp/ipykernel_34828/2295051407.py:21: SettingWithCopyWarning: \n",
      "A value is trying to be set on a copy of a slice from a DataFrame.\n",
      "Try using .loc[row_indexer,col_indexer] = value instead\n",
      "\n",
      "See the caveats in the documentation: https://pandas.pydata.org/pandas-docs/stable/user_guide/indexing.html#returning-a-view-versus-a-copy\n",
      "  df[col] = df[col].str.replace(pattern, ' ')\n",
      "C:\\Users\\yongl\\AppData\\Local\\Temp/ipykernel_34828/2295051407.py:27: SettingWithCopyWarning: \n",
      "A value is trying to be set on a copy of a slice from a DataFrame.\n",
      "Try using .loc[row_indexer,col_indexer] = value instead\n",
      "\n",
      "See the caveats in the documentation: https://pandas.pydata.org/pandas-docs/stable/user_guide/indexing.html#returning-a-view-versus-a-copy\n",
      "  df[col] = df[col].str.replace(r'\\d', ' ', regex = True)\n",
      "C:\\Users\\yongl\\AppData\\Local\\Temp/ipykernel_34828/2295051407.py:33: SettingWithCopyWarning: \n",
      "A value is trying to be set on a copy of a slice from a DataFrame.\n",
      "Try using .loc[row_indexer,col_indexer] = value instead\n",
      "\n",
      "See the caveats in the documentation: https://pandas.pydata.org/pandas-docs/stable/user_guide/indexing.html#returning-a-view-versus-a-copy\n",
      "  df[col] = df[col].str.lower()\n"
     ]
    },
    {
     "data": {
      "text/html": [
       "<div>\n",
       "<style scoped>\n",
       "    .dataframe tbody tr th:only-of-type {\n",
       "        vertical-align: middle;\n",
       "    }\n",
       "\n",
       "    .dataframe tbody tr th {\n",
       "        vertical-align: top;\n",
       "    }\n",
       "\n",
       "    .dataframe thead th {\n",
       "        text-align: right;\n",
       "    }\n",
       "</style>\n",
       "<table border=\"1\" class=\"dataframe\">\n",
       "  <thead>\n",
       "    <tr style=\"text-align: right;\">\n",
       "      <th></th>\n",
       "      <th>subreddit</th>\n",
       "      <th>title</th>\n",
       "      <th>selftext</th>\n",
       "      <th>alltext</th>\n",
       "      <th>title_cleaned</th>\n",
       "      <th>selftext_cleaned</th>\n",
       "      <th>alltext_cleaned</th>\n",
       "    </tr>\n",
       "  </thead>\n",
       "  <tbody>\n",
       "    <tr>\n",
       "      <th>0</th>\n",
       "      <td>Coffee</td>\n",
       "      <td>[MOD] The Daily Question Thread</td>\n",
       "      <td>\\n\\nWelcome to the daily [/r/Coffee](https://www.reddit.com/r/Coffee) question thread!\\n\\nThere are no stupid questions here, ask a question and get an answer! We all have to start somewhere and sometimes it is hard to figure out just what you are doing right or doing wrong. Luckily, the [/r/Coffee](https://www.reddit.com/r/Coffee) community loves to help out.\\n\\nDo you have a question about ...</td>\n",
       "      <td>[MOD] The Daily Question Thread  \\n\\nWelcome to the daily [/r/Coffee](https://www.reddit.com/r/Coffee) question thread!\\n\\nThere are no stupid questions here, ask a question and get an answer! We all have to start somewhere and sometimes it is hard to figure out just what you are doing right or doing wrong. Luckily, the [/r/Coffee](https://www.reddit.com/r/Coffee) community loves to help out.\\...</td>\n",
       "      <td>mod  the daily question thread</td>\n",
       "      <td>\\n\\nwelcome to the daily   r coffee    question thread \\n\\nthere are no stupid questions here  ask a question and get an answer  we all have to start somewhere and sometimes it is hard to figure out just what you are doing right or doing wrong  luckily  the   r coffee    community loves to help out \\n\\ndo you have a question about how to use a specific piece of gear or what gear you should be...</td>\n",
       "      <td>mod  the daily question thread  \\n\\nwelcome to the daily   r coffee    question thread \\n\\nthere are no stupid questions here  ask a question and get an answer  we all have to start somewhere and sometimes it is hard to figure out just what you are doing right or doing wrong  luckily  the   r coffee    community loves to help out \\n\\ndo you have a question about how to use a specific piece of...</td>\n",
       "    </tr>\n",
       "    <tr>\n",
       "      <th>1</th>\n",
       "      <td>Coffee</td>\n",
       "      <td>[MOD] The Official Deal Thread</td>\n",
       "      <td>Welcome to the /r/Coffee deal and promotional thread! In this weekly thread, industry folk can post upcoming deals or other promotions their companies are holding, or promote new products to /r/Coffee subscribers! Regular users can also post deals they come across. Come check out some of the roasters and other coffee-related businesses that Redditors work for!\\n\\nNote that this thread will be ...</td>\n",
       "      <td>[MOD] The Official Deal Thread Welcome to the /r/Coffee deal and promotional thread! In this weekly thread, industry folk can post upcoming deals or other promotions their companies are holding, or promote new products to /r/Coffee subscribers! Regular users can also post deals they come across. Come check out some of the roasters and other coffee-related businesses that Redditors work for!\\n\\...</td>\n",
       "      <td>mod  the official deal thread</td>\n",
       "      <td>welcome to the  r coffee deal and promotional thread  in this weekly thread  industry folk can post upcoming deals or other promotions their companies are holding  or promote new products to  r coffee subscribers  regular users can also post deals they come across  come check out some of the roasters and other coffee related businesses that redditors work for \\n\\nnote that this thread will be ...</td>\n",
       "      <td>mod  the official deal thread welcome to the  r coffee deal and promotional thread  in this weekly thread  industry folk can post upcoming deals or other promotions their companies are holding  or promote new products to  r coffee subscribers  regular users can also post deals they come across  come check out some of the roasters and other coffee related businesses that redditors work for \\n\\...</td>\n",
       "    </tr>\n",
       "    <tr>\n",
       "      <th>2</th>\n",
       "      <td>Coffee</td>\n",
       "      <td>TIL: The diameters of the Aeropress and Toddy Cold Brew bucket filters are almost exactly the same.</td>\n",
       "      <td>Went to make my annual summer toddy filter purchase today and noticed a few metal options I hadn't seen before, but looked suspiciously like the reusable steel filters for the Aeropress. On a whim, I went into my kitchen and boom: almost a perfect fit. I'll probably double-filter this batch through a french press or something, but should be more than enough to keep the majority of the grinds o...</td>\n",
       "      <td>TIL: The diameters of the Aeropress and Toddy Cold Brew bucket filters are almost exactly the same. Went to make my annual summer toddy filter purchase today and noticed a few metal options I hadn't seen before, but looked suspiciously like the reusable steel filters for the Aeropress. On a whim, I went into my kitchen and boom: almost a perfect fit. I'll probably double-filter this batch thro...</td>\n",
       "      <td>til  the diameters of the aeropress and toddy cold brew bucket filters are almost exactly the same</td>\n",
       "      <td>went to make my annual summer toddy filter purchase today and noticed a few metal options i hadn t seen before  but looked suspiciously like the reusable steel filters for the aeropress  on a whim  i went into my kitchen and boom  almost a perfect fit  i ll probably double filter this batch through a french press or something  but should be more than enough to keep the majority of the grinds o...</td>\n",
       "      <td>til  the diameters of the aeropress and toddy cold brew bucket filters are almost exactly the same  went to make my annual summer toddy filter purchase today and noticed a few metal options i hadn t seen before  but looked suspiciously like the reusable steel filters for the aeropress  on a whim  i went into my kitchen and boom  almost a perfect fit  i ll probably double filter this batch thro...</td>\n",
       "    </tr>\n",
       "    <tr>\n",
       "      <th>3</th>\n",
       "      <td>Coffee</td>\n",
       "      <td>Coffee in Honduras</td>\n",
       "      <td>Honduras may be a tiny country, but its coffee is world-class.\\n\\nAfter traveling and tasting a wide variety of coffees, I've concluded that my statement is true; Honduras has the best coffee I have ever tasted. \\n\\nDo you agree with this? Have you tried Honduran coffee yet?</td>\n",
       "      <td>Coffee in Honduras Honduras may be a tiny country, but its coffee is world-class.\\n\\nAfter traveling and tasting a wide variety of coffees, I've concluded that my statement is true; Honduras has the best coffee I have ever tasted. \\n\\nDo you agree with this? Have you tried Honduran coffee yet?</td>\n",
       "      <td>coffee in honduras</td>\n",
       "      <td>honduras may be a tiny country  but its coffee is world class \\n\\nafter traveling and tasting a wide variety of coffees  i ve concluded that my statement is true  honduras has the best coffee i have ever tasted  \\n\\ndo you agree with this  have you tried honduran coffee yet</td>\n",
       "      <td>coffee in honduras honduras may be a tiny country  but its coffee is world class \\n\\nafter traveling and tasting a wide variety of coffees  i ve concluded that my statement is true  honduras has the best coffee i have ever tasted  \\n\\ndo you agree with this  have you tried honduran coffee yet</td>\n",
       "    </tr>\n",
       "    <tr>\n",
       "      <th>4</th>\n",
       "      <td>Coffee</td>\n",
       "      <td>Where have you tried your best coffee?</td>\n",
       "      <td>I wonder where you have tried your best coffee or what was the best moment when you realized that the coffee is the most delightful? Many of you might share stories about your trips to Europe or other places with the best coffee. I’ve tried the best coffee in my own house.\\n\\n&amp;amp;#x200B;\\n\\nWhen my BF and I decided to purchase a house, the story started. It wasn’t a spontaneous decision. We d...</td>\n",
       "      <td>Where have you tried your best coffee? I wonder where you have tried your best coffee or what was the best moment when you realized that the coffee is the most delightful? Many of you might share stories about your trips to Europe or other places with the best coffee. I’ve tried the best coffee in my own house.\\n\\n&amp;amp;#x200B;\\n\\nWhen my BF and I decided to purchase a house, the story started....</td>\n",
       "      <td>where have you tried your best coffee</td>\n",
       "      <td>i wonder where you have tried your best coffee or what was the best moment when you realized that the coffee is the most delightful  many of you might share stories about your trips to europe or other places with the best coffee  i’ve tried the best coffee in my own house \\n\\n amp  x   b \\n\\nwhen my bf and i decided to purchase a house  the story started  it wasn’t a spontaneous decision  we d...</td>\n",
       "      <td>where have you tried your best coffee  i wonder where you have tried your best coffee or what was the best moment when you realized that the coffee is the most delightful  many of you might share stories about your trips to europe or other places with the best coffee  i’ve tried the best coffee in my own house \\n\\n amp  x   b \\n\\nwhen my bf and i decided to purchase a house  the story started ...</td>\n",
       "    </tr>\n",
       "    <tr>\n",
       "      <th>...</th>\n",
       "      <td>...</td>\n",
       "      <td>...</td>\n",
       "      <td>...</td>\n",
       "      <td>...</td>\n",
       "      <td>...</td>\n",
       "      <td>...</td>\n",
       "      <td>...</td>\n",
       "    </tr>\n",
       "    <tr>\n",
       "      <th>789</th>\n",
       "      <td>Coffee</td>\n",
       "      <td>How do people get a decent cup with Hoffmans Aeropress recipe?</td>\n",
       "      <td>I was not able to get a single tasty cup using Hoffmans AP method. They all have been bitter as they were all way over extracted.\\n\\nWhich makes sense if you look at the aeropress world champion recipes ([https://aeropress.com/pages/wac-recipes](https://aeropress.com/pages/wac-recipes)) or the original one ([https://aeropress.com/pages/how-it-works](https://aeropress.com/pages/how-it-works)). ...</td>\n",
       "      <td>How do people get a decent cup with Hoffmans Aeropress recipe? I was not able to get a single tasty cup using Hoffmans AP method. They all have been bitter as they were all way over extracted.\\n\\nWhich makes sense if you look at the aeropress world champion recipes ([https://aeropress.com/pages/wac-recipes](https://aeropress.com/pages/wac-recipes)) or the original one ([https://aeropress.com/p...</td>\n",
       "      <td>how do people get a decent cup with hoffmans aeropress recipe</td>\n",
       "      <td>i was not able to get a single tasty cup using hoffmans ap method  they all have been bitter as they were all way over extracted \\n\\nwhich makes sense if you look at the aeropress world champion recipes     or the original one      both using half the amount of water and a much lower temperature  i  tried many different beans and really do wonder how people can enjoy a  cup using hoffmans meth...</td>\n",
       "      <td>how do people get a decent cup with hoffmans aeropress recipe  i was not able to get a single tasty cup using hoffmans ap method  they all have been bitter as they were all way over extracted \\n\\nwhich makes sense if you look at the aeropress world champion recipes     or the original one      both using half the amount of water and a much lower temperature  i  tried many different beans and r...</td>\n",
       "    </tr>\n",
       "    <tr>\n",
       "      <th>790</th>\n",
       "      <td>Coffee</td>\n",
       "      <td>[MOD] Show off your gear! - Battle-Station Central</td>\n",
       "      <td>Let's see your battle-stations or new purchases! Tell us what it is you have, post pictures if you want, let us know what you think and how you use it all to make your daily Cup of Joe.\\n\\nFeel free to discuss gear here as well - recommendations, reviews, etc.\\n\\nFeel free to post links to where people can get the gear but please no sketchy deal sites and none of those Amazon (or other site) l...</td>\n",
       "      <td>[MOD] Show off your gear! - Battle-Station Central Let's see your battle-stations or new purchases! Tell us what it is you have, post pictures if you want, let us know what you think and how you use it all to make your daily Cup of Joe.\\n\\nFeel free to discuss gear here as well - recommendations, reviews, etc.\\n\\nFeel free to post links to where people can get the gear but please no sketchy de...</td>\n",
       "      <td>mod  show off your gear    battle station central</td>\n",
       "      <td>let s see your battle stations or new purchases  tell us what it is you have  post pictures if you want  let us know what you think and how you use it all to make your daily cup of joe \\n\\nfeel free to discuss gear here as well   recommendations  reviews  etc \\n\\nfeel free to post links to where people can get the gear but please no sketchy deal sites and none of those amazon  or other site  l...</td>\n",
       "      <td>mod  show off your gear    battle station central let s see your battle stations or new purchases  tell us what it is you have  post pictures if you want  let us know what you think and how you use it all to make your daily cup of joe \\n\\nfeel free to discuss gear here as well   recommendations  reviews  etc \\n\\nfeel free to post links to where people can get the gear but please no sketchy de...</td>\n",
       "    </tr>\n",
       "    <tr>\n",
       "      <th>792</th>\n",
       "      <td>Coffee</td>\n",
       "      <td>Poor experience with fellow ode</td>\n",
       "      <td>I purchased my ode in June of 2021. This is when the 1.1 burrs were supposed to be in the machines (anything manufactured after Q1 2021). The machine I received was manufactured in Q4 of 2020 (no 1.1 burrs). I thought ok…. I’ll reach out to customer service and just see if they will send me the burrs as I purchased the machine with the belief that it came with the 1.1 burrs. I was told that du...</td>\n",
       "      <td>Poor experience with fellow ode I purchased my ode in June of 2021. This is when the 1.1 burrs were supposed to be in the machines (anything manufactured after Q1 2021). The machine I received was manufactured in Q4 of 2020 (no 1.1 burrs). I thought ok…. I’ll reach out to customer service and just see if they will send me the burrs as I purchased the machine with the belief that it came with t...</td>\n",
       "      <td>poor experience with fellow ode</td>\n",
       "      <td>i purchased my ode in june of       this is when the     burrs were supposed to be in the machines  anything manufactured after q         the machine i received was manufactured in q  of       no     burrs   i thought ok…  i’ll reach out to customer service and just see if they will send me the burrs as i purchased the machine with the belief that it came with the     burrs  i was told that du...</td>\n",
       "      <td>poor experience with fellow ode i purchased my ode in june of       this is when the     burrs were supposed to be in the machines  anything manufactured after q         the machine i received was manufactured in q  of       no     burrs   i thought ok…  i’ll reach out to customer service and just see if they will send me the burrs as i purchased the machine with the belief that it came with t...</td>\n",
       "    </tr>\n",
       "    <tr>\n",
       "      <th>793</th>\n",
       "      <td>Coffee</td>\n",
       "      <td>Homebuilt Espresso Machine. I was a barista for 7 years, and am sad that I dont serve coffee anymore. I have always been a very mechanical person, therefore I obsessed over this idea for a long time. I spent the last 1 1/2 years designing, coding, and building my own machine. Hope you enjoy :)</td>\n",
       "      <td></td>\n",
       "      <td>Homebuilt Espresso Machine. I was a barista for 7 years, and am sad that I dont serve coffee anymore. I have always been a very mechanical person, therefore I obsessed over this idea for a long time. I spent the last 1 1/2 years designing, coding, and building my own machine. Hope you enjoy :)</td>\n",
       "      <td>homebuilt espresso machine  i was a barista for   years  and am sad that i dont serve coffee anymore  i have always been a very mechanical person  therefore i obsessed over this idea for a long time  i spent the last       years designing  coding  and building my own machine  hope you enjoy</td>\n",
       "      <td></td>\n",
       "      <td>homebuilt espresso machine  i was a barista for   years  and am sad that i dont serve coffee anymore  i have always been a very mechanical person  therefore i obsessed over this idea for a long time  i spent the last       years designing  coding  and building my own machine  hope you enjoy</td>\n",
       "    </tr>\n",
       "    <tr>\n",
       "      <th>2382</th>\n",
       "      <td>Coffee</td>\n",
       "      <td>I can drink coffee again!</td>\n",
       "      <td>Okay, I’m sure there is a very anti-decaf leaning in this sub, and I understand why. My situation is that my body really rejects stimulants. One cup of regular coffee for me is like six cups in a row for someone else — I get the sweats, nausea, shaking so hard I have to lie down. \\n\\nA few years ago I had a cup of “decaf” to which I reacted this way. Not knowing whether my body’s sensitivity h...</td>\n",
       "      <td>I can drink coffee again! Okay, I’m sure there is a very anti-decaf leaning in this sub, and I understand why. My situation is that my body really rejects stimulants. One cup of regular coffee for me is like six cups in a row for someone else — I get the sweats, nausea, shaking so hard I have to lie down. \\n\\nA few years ago I had a cup of “decaf” to which I reacted this way. Not knowing wheth...</td>\n",
       "      <td>i can drink coffee again</td>\n",
       "      <td>okay  i’m sure there is a very anti decaf leaning in this sub  and i understand why  my situation is that my body really rejects stimulants  one cup of regular coffee for me is like six cups in a row for someone else — i get the sweats  nausea  shaking so hard i have to lie down  \\n\\na few years ago i had a cup of “decaf” to which i reacted this way  not knowing whether my body’s sensitivity h...</td>\n",
       "      <td>i can drink coffee again  okay  i’m sure there is a very anti decaf leaning in this sub  and i understand why  my situation is that my body really rejects stimulants  one cup of regular coffee for me is like six cups in a row for someone else — i get the sweats  nausea  shaking so hard i have to lie down  \\n\\na few years ago i had a cup of “decaf” to which i reacted this way  not knowing wheth...</td>\n",
       "    </tr>\n",
       "  </tbody>\n",
       "</table>\n",
       "<p>630 rows × 7 columns</p>\n",
       "</div>"
      ],
      "text/plain": [
       "     subreddit  \\\n",
       "0       Coffee   \n",
       "1       Coffee   \n",
       "2       Coffee   \n",
       "3       Coffee   \n",
       "4       Coffee   \n",
       "...        ...   \n",
       "789     Coffee   \n",
       "790     Coffee   \n",
       "792     Coffee   \n",
       "793     Coffee   \n",
       "2382    Coffee   \n",
       "\n",
       "                                                                                                                                                                                                                                                                                                       title  \\\n",
       "0                                                                                                                                                                                                                                                                            [MOD] The Daily Question Thread   \n",
       "1                                                                                                                                                                                                                                                                             [MOD] The Official Deal Thread   \n",
       "2                                                                                                                                                                                                        TIL: The diameters of the Aeropress and Toddy Cold Brew bucket filters are almost exactly the same.   \n",
       "3                                                                                                                                                                                                                                                                                         Coffee in Honduras   \n",
       "4                                                                                                                                                                                                                                                                     Where have you tried your best coffee?   \n",
       "...                                                                                                                                                                                                                                                                                                      ...   \n",
       "789                                                                                                                                                                                                                                           How do people get a decent cup with Hoffmans Aeropress recipe?   \n",
       "790                                                                                                                                                                                                                                                       [MOD] Show off your gear! - Battle-Station Central   \n",
       "792                                                                                                                                                                                                                                                                          Poor experience with fellow ode   \n",
       "793   Homebuilt Espresso Machine. I was a barista for 7 years, and am sad that I dont serve coffee anymore. I have always been a very mechanical person, therefore I obsessed over this idea for a long time. I spent the last 1 1/2 years designing, coding, and building my own machine. Hope you enjoy :)   \n",
       "2382                                                                                                                                                                                                                                                                               I can drink coffee again!   \n",
       "\n",
       "                                                                                                                                                                                                                                                                                                                                                                                                             selftext  \\\n",
       "0      \\n\\nWelcome to the daily [/r/Coffee](https://www.reddit.com/r/Coffee) question thread!\\n\\nThere are no stupid questions here, ask a question and get an answer! We all have to start somewhere and sometimes it is hard to figure out just what you are doing right or doing wrong. Luckily, the [/r/Coffee](https://www.reddit.com/r/Coffee) community loves to help out.\\n\\nDo you have a question about ...   \n",
       "1     Welcome to the /r/Coffee deal and promotional thread! In this weekly thread, industry folk can post upcoming deals or other promotions their companies are holding, or promote new products to /r/Coffee subscribers! Regular users can also post deals they come across. Come check out some of the roasters and other coffee-related businesses that Redditors work for!\\n\\nNote that this thread will be ...   \n",
       "2     Went to make my annual summer toddy filter purchase today and noticed a few metal options I hadn't seen before, but looked suspiciously like the reusable steel filters for the Aeropress. On a whim, I went into my kitchen and boom: almost a perfect fit. I'll probably double-filter this batch through a french press or something, but should be more than enough to keep the majority of the grinds o...   \n",
       "3                                                                                                                                 Honduras may be a tiny country, but its coffee is world-class.\\n\\nAfter traveling and tasting a wide variety of coffees, I've concluded that my statement is true; Honduras has the best coffee I have ever tasted. \\n\\nDo you agree with this? Have you tried Honduran coffee yet?   \n",
       "4     I wonder where you have tried your best coffee or what was the best moment when you realized that the coffee is the most delightful? Many of you might share stories about your trips to Europe or other places with the best coffee. I’ve tried the best coffee in my own house.\\n\\n&amp;#x200B;\\n\\nWhen my BF and I decided to purchase a house, the story started. It wasn’t a spontaneous decision. We d...   \n",
       "...                                                                                                                                                                                                                                                                                                                                                                                                               ...   \n",
       "789   I was not able to get a single tasty cup using Hoffmans AP method. They all have been bitter as they were all way over extracted.\\n\\nWhich makes sense if you look at the aeropress world champion recipes ([https://aeropress.com/pages/wac-recipes](https://aeropress.com/pages/wac-recipes)) or the original one ([https://aeropress.com/pages/how-it-works](https://aeropress.com/pages/how-it-works)). ...   \n",
       "790   Let's see your battle-stations or new purchases! Tell us what it is you have, post pictures if you want, let us know what you think and how you use it all to make your daily Cup of Joe.\\n\\nFeel free to discuss gear here as well - recommendations, reviews, etc.\\n\\nFeel free to post links to where people can get the gear but please no sketchy deal sites and none of those Amazon (or other site) l...   \n",
       "792   I purchased my ode in June of 2021. This is when the 1.1 burrs were supposed to be in the machines (anything manufactured after Q1 2021). The machine I received was manufactured in Q4 of 2020 (no 1.1 burrs). I thought ok…. I’ll reach out to customer service and just see if they will send me the burrs as I purchased the machine with the belief that it came with the 1.1 burrs. I was told that du...   \n",
       "793                                                                                                                                                                                                                                                                                                                                                                                                                     \n",
       "2382  Okay, I’m sure there is a very anti-decaf leaning in this sub, and I understand why. My situation is that my body really rejects stimulants. One cup of regular coffee for me is like six cups in a row for someone else — I get the sweats, nausea, shaking so hard I have to lie down. \\n\\nA few years ago I had a cup of “decaf” to which I reacted this way. Not knowing whether my body’s sensitivity h...   \n",
       "\n",
       "                                                                                                                                                                                                                                                                                                                                                                                                              alltext  \\\n",
       "0     [MOD] The Daily Question Thread  \\n\\nWelcome to the daily [/r/Coffee](https://www.reddit.com/r/Coffee) question thread!\\n\\nThere are no stupid questions here, ask a question and get an answer! We all have to start somewhere and sometimes it is hard to figure out just what you are doing right or doing wrong. Luckily, the [/r/Coffee](https://www.reddit.com/r/Coffee) community loves to help out.\\...   \n",
       "1     [MOD] The Official Deal Thread Welcome to the /r/Coffee deal and promotional thread! In this weekly thread, industry folk can post upcoming deals or other promotions their companies are holding, or promote new products to /r/Coffee subscribers! Regular users can also post deals they come across. Come check out some of the roasters and other coffee-related businesses that Redditors work for!\\n\\...   \n",
       "2     TIL: The diameters of the Aeropress and Toddy Cold Brew bucket filters are almost exactly the same. Went to make my annual summer toddy filter purchase today and noticed a few metal options I hadn't seen before, but looked suspiciously like the reusable steel filters for the Aeropress. On a whim, I went into my kitchen and boom: almost a perfect fit. I'll probably double-filter this batch thro...   \n",
       "3                                                                                                              Coffee in Honduras Honduras may be a tiny country, but its coffee is world-class.\\n\\nAfter traveling and tasting a wide variety of coffees, I've concluded that my statement is true; Honduras has the best coffee I have ever tasted. \\n\\nDo you agree with this? Have you tried Honduran coffee yet?   \n",
       "4     Where have you tried your best coffee? I wonder where you have tried your best coffee or what was the best moment when you realized that the coffee is the most delightful? Many of you might share stories about your trips to Europe or other places with the best coffee. I’ve tried the best coffee in my own house.\\n\\n&amp;#x200B;\\n\\nWhen my BF and I decided to purchase a house, the story started....   \n",
       "...                                                                                                                                                                                                                                                                                                                                                                                                               ...   \n",
       "789   How do people get a decent cup with Hoffmans Aeropress recipe? I was not able to get a single tasty cup using Hoffmans AP method. They all have been bitter as they were all way over extracted.\\n\\nWhich makes sense if you look at the aeropress world champion recipes ([https://aeropress.com/pages/wac-recipes](https://aeropress.com/pages/wac-recipes)) or the original one ([https://aeropress.com/p...   \n",
       "790   [MOD] Show off your gear! - Battle-Station Central Let's see your battle-stations or new purchases! Tell us what it is you have, post pictures if you want, let us know what you think and how you use it all to make your daily Cup of Joe.\\n\\nFeel free to discuss gear here as well - recommendations, reviews, etc.\\n\\nFeel free to post links to where people can get the gear but please no sketchy de...   \n",
       "792   Poor experience with fellow ode I purchased my ode in June of 2021. This is when the 1.1 burrs were supposed to be in the machines (anything manufactured after Q1 2021). The machine I received was manufactured in Q4 of 2020 (no 1.1 burrs). I thought ok…. I’ll reach out to customer service and just see if they will send me the burrs as I purchased the machine with the belief that it came with t...   \n",
       "793                                                                                                          Homebuilt Espresso Machine. I was a barista for 7 years, and am sad that I dont serve coffee anymore. I have always been a very mechanical person, therefore I obsessed over this idea for a long time. I spent the last 1 1/2 years designing, coding, and building my own machine. Hope you enjoy :)     \n",
       "2382  I can drink coffee again! Okay, I’m sure there is a very anti-decaf leaning in this sub, and I understand why. My situation is that my body really rejects stimulants. One cup of regular coffee for me is like six cups in a row for someone else — I get the sweats, nausea, shaking so hard I have to lie down. \\n\\nA few years ago I had a cup of “decaf” to which I reacted this way. Not knowing wheth...   \n",
       "\n",
       "                                                                                                                                                                                                                                                                                               title_cleaned  \\\n",
       "0                                                                                                                                                                                                                                                                             mod  the daily question thread   \n",
       "1                                                                                                                                                                                                                                                                              mod  the official deal thread   \n",
       "2                                                                                                                                                                                                        til  the diameters of the aeropress and toddy cold brew bucket filters are almost exactly the same    \n",
       "3                                                                                                                                                                                                                                                                                         coffee in honduras   \n",
       "4                                                                                                                                                                                                                                                                     where have you tried your best coffee    \n",
       "...                                                                                                                                                                                                                                                                                                      ...   \n",
       "789                                                                                                                                                                                                                                           how do people get a decent cup with hoffmans aeropress recipe    \n",
       "790                                                                                                                                                                                                                                                        mod  show off your gear    battle station central   \n",
       "792                                                                                                                                                                                                                                                                          poor experience with fellow ode   \n",
       "793   homebuilt espresso machine  i was a barista for   years  and am sad that i dont serve coffee anymore  i have always been a very mechanical person  therefore i obsessed over this idea for a long time  i spent the last       years designing  coding  and building my own machine  hope you enjoy      \n",
       "2382                                                                                                                                                                                                                                                                               i can drink coffee again    \n",
       "\n",
       "                                                                                                                                                                                                                                                                                                                                                                                                     selftext_cleaned  \\\n",
       "0      \\n\\nwelcome to the daily   r coffee    question thread \\n\\nthere are no stupid questions here  ask a question and get an answer  we all have to start somewhere and sometimes it is hard to figure out just what you are doing right or doing wrong  luckily  the   r coffee    community loves to help out \\n\\ndo you have a question about how to use a specific piece of gear or what gear you should be...   \n",
       "1     welcome to the  r coffee deal and promotional thread  in this weekly thread  industry folk can post upcoming deals or other promotions their companies are holding  or promote new products to  r coffee subscribers  regular users can also post deals they come across  come check out some of the roasters and other coffee related businesses that redditors work for \\n\\nnote that this thread will be ...   \n",
       "2     went to make my annual summer toddy filter purchase today and noticed a few metal options i hadn t seen before  but looked suspiciously like the reusable steel filters for the aeropress  on a whim  i went into my kitchen and boom  almost a perfect fit  i ll probably double filter this batch through a french press or something  but should be more than enough to keep the majority of the grinds o...   \n",
       "3                                                                                                                                 honduras may be a tiny country  but its coffee is world class \\n\\nafter traveling and tasting a wide variety of coffees  i ve concluded that my statement is true  honduras has the best coffee i have ever tasted  \\n\\ndo you agree with this  have you tried honduran coffee yet    \n",
       "4     i wonder where you have tried your best coffee or what was the best moment when you realized that the coffee is the most delightful  many of you might share stories about your trips to europe or other places with the best coffee  i’ve tried the best coffee in my own house \\n\\n amp  x   b \\n\\nwhen my bf and i decided to purchase a house  the story started  it wasn’t a spontaneous decision  we d...   \n",
       "...                                                                                                                                                                                                                                                                                                                                                                                                               ...   \n",
       "789   i was not able to get a single tasty cup using hoffmans ap method  they all have been bitter as they were all way over extracted \\n\\nwhich makes sense if you look at the aeropress world champion recipes     or the original one      both using half the amount of water and a much lower temperature  i  tried many different beans and really do wonder how people can enjoy a  cup using hoffmans meth...   \n",
       "790   let s see your battle stations or new purchases  tell us what it is you have  post pictures if you want  let us know what you think and how you use it all to make your daily cup of joe \\n\\nfeel free to discuss gear here as well   recommendations  reviews  etc \\n\\nfeel free to post links to where people can get the gear but please no sketchy deal sites and none of those amazon  or other site  l...   \n",
       "792   i purchased my ode in june of       this is when the     burrs were supposed to be in the machines  anything manufactured after q         the machine i received was manufactured in q  of       no     burrs   i thought ok…  i’ll reach out to customer service and just see if they will send me the burrs as i purchased the machine with the belief that it came with the     burrs  i was told that du...   \n",
       "793                                                                                                                                                                                                                                                                                                                                                                                                                     \n",
       "2382  okay  i’m sure there is a very anti decaf leaning in this sub  and i understand why  my situation is that my body really rejects stimulants  one cup of regular coffee for me is like six cups in a row for someone else — i get the sweats  nausea  shaking so hard i have to lie down  \\n\\na few years ago i had a cup of “decaf” to which i reacted this way  not knowing whether my body’s sensitivity h...   \n",
       "\n",
       "                                                                                                                                                                                                                                                                                                                                                                                                      alltext_cleaned  \n",
       "0      mod  the daily question thread  \\n\\nwelcome to the daily   r coffee    question thread \\n\\nthere are no stupid questions here  ask a question and get an answer  we all have to start somewhere and sometimes it is hard to figure out just what you are doing right or doing wrong  luckily  the   r coffee    community loves to help out \\n\\ndo you have a question about how to use a specific piece of...  \n",
       "1      mod  the official deal thread welcome to the  r coffee deal and promotional thread  in this weekly thread  industry folk can post upcoming deals or other promotions their companies are holding  or promote new products to  r coffee subscribers  regular users can also post deals they come across  come check out some of the roasters and other coffee related businesses that redditors work for \\n\\...  \n",
       "2     til  the diameters of the aeropress and toddy cold brew bucket filters are almost exactly the same  went to make my annual summer toddy filter purchase today and noticed a few metal options i hadn t seen before  but looked suspiciously like the reusable steel filters for the aeropress  on a whim  i went into my kitchen and boom  almost a perfect fit  i ll probably double filter this batch thro...  \n",
       "3                                                                                                              coffee in honduras honduras may be a tiny country  but its coffee is world class \\n\\nafter traveling and tasting a wide variety of coffees  i ve concluded that my statement is true  honduras has the best coffee i have ever tasted  \\n\\ndo you agree with this  have you tried honduran coffee yet   \n",
       "4     where have you tried your best coffee  i wonder where you have tried your best coffee or what was the best moment when you realized that the coffee is the most delightful  many of you might share stories about your trips to europe or other places with the best coffee  i’ve tried the best coffee in my own house \\n\\n amp  x   b \\n\\nwhen my bf and i decided to purchase a house  the story started ...  \n",
       "...                                                                                                                                                                                                                                                                                                                                                                                                               ...  \n",
       "789   how do people get a decent cup with hoffmans aeropress recipe  i was not able to get a single tasty cup using hoffmans ap method  they all have been bitter as they were all way over extracted \\n\\nwhich makes sense if you look at the aeropress world champion recipes     or the original one      both using half the amount of water and a much lower temperature  i  tried many different beans and r...  \n",
       "790    mod  show off your gear    battle station central let s see your battle stations or new purchases  tell us what it is you have  post pictures if you want  let us know what you think and how you use it all to make your daily cup of joe \\n\\nfeel free to discuss gear here as well   recommendations  reviews  etc \\n\\nfeel free to post links to where people can get the gear but please no sketchy de...  \n",
       "792   poor experience with fellow ode i purchased my ode in june of       this is when the     burrs were supposed to be in the machines  anything manufactured after q         the machine i received was manufactured in q  of       no     burrs   i thought ok…  i’ll reach out to customer service and just see if they will send me the burrs as i purchased the machine with the belief that it came with t...  \n",
       "793                                                                                                          homebuilt espresso machine  i was a barista for   years  and am sad that i dont serve coffee anymore  i have always been a very mechanical person  therefore i obsessed over this idea for a long time  i spent the last       years designing  coding  and building my own machine  hope you enjoy       \n",
       "2382  i can drink coffee again  okay  i’m sure there is a very anti decaf leaning in this sub  and i understand why  my situation is that my body really rejects stimulants  one cup of regular coffee for me is like six cups in a row for someone else — i get the sweats  nausea  shaking so hard i have to lie down  \\n\\na few years ago i had a cup of “decaf” to which i reacted this way  not knowing wheth...  \n",
       "\n",
       "[630 rows x 7 columns]"
      ]
     },
     "execution_count": 700,
     "metadata": {},
     "output_type": "execute_result"
    }
   ],
   "source": [
    "#carrying out cleaning on tea and coffee dataframes\n",
    "cleaning(tea)\n",
    "cleaning(coffee)"
   ]
  },
  {
   "cell_type": "markdown",
   "id": "34a4f83c",
   "metadata": {},
   "source": [
    "#### Checking cleaning results"
   ]
  },
  {
   "cell_type": "code",
   "execution_count": 701,
   "id": "fae08fda",
   "metadata": {
    "scrolled": true
   },
   "outputs": [
    {
     "name": "stdout",
     "output_type": "stream",
     "text": [
      "Shape of tea dataframe: (985, 7)\n",
      "Shape of coffee dataframe: (630, 7)\n"
     ]
    }
   ],
   "source": [
    "#check shape of dataframes after cleaning\n",
    "print(f'Shape of tea dataframe: {tea.shape}') #(985, 7)\n",
    "print(f'Shape of coffee dataframe: {coffee.shape}') #(630, 7)"
   ]
  },
  {
   "cell_type": "code",
   "execution_count": 702,
   "id": "92da6501",
   "metadata": {},
   "outputs": [
    {
     "data": {
      "text/html": [
       "<div>\n",
       "<style scoped>\n",
       "    .dataframe tbody tr th:only-of-type {\n",
       "        vertical-align: middle;\n",
       "    }\n",
       "\n",
       "    .dataframe tbody tr th {\n",
       "        vertical-align: top;\n",
       "    }\n",
       "\n",
       "    .dataframe thead th {\n",
       "        text-align: right;\n",
       "    }\n",
       "</style>\n",
       "<table border=\"1\" class=\"dataframe\">\n",
       "  <thead>\n",
       "    <tr style=\"text-align: right;\">\n",
       "      <th></th>\n",
       "      <th>title_cleaned</th>\n",
       "      <th>selftext_cleaned</th>\n",
       "      <th>alltext_cleaned</th>\n",
       "    </tr>\n",
       "  </thead>\n",
       "  <tbody>\n",
       "    <tr>\n",
       "      <th>0</th>\n",
       "      <td>what s in your cup  daily discussion  questions and stories   may</td>\n",
       "      <td>what are you drinking today   what questions have been on your mind   any stories to share   and don t worry  no one will make fun of you for what you drink or the questions you ask  \\n\\nyou can also talk about anything else on your mind  from your specific routine while making tea  or how you ve been on an oolong kick lately  feel free to link to pictures in here  as well   you can even talk ...</td>\n",
       "      <td>what s in your cup  daily discussion  questions and stories   may          what are you drinking today   what questions have been on your mind   any stories to share   and don t worry  no one will make fun of you for what you drink or the questions you ask  \\n\\nyou can also talk about anything else on your mind  from your specific routine while making tea  or how you ve been on an oolong kick ...</td>\n",
       "    </tr>\n",
       "    <tr>\n",
       "      <th>1</th>\n",
       "      <td>marketing monday    may</td>\n",
       "      <td>we realize there are lots of people involved in the tea industry here  so this thread is a weekly feature where anyone can promote their current projects without worrying about the self promotion rules   feel free to include links to your shop  crowdfunding sites  surveys  sales  or discount codes   the rule against claims of health benefits remains in effect here   it should go without saying...</td>\n",
       "      <td>marketing monday    may          we realize there are lots of people involved in the tea industry here  so this thread is a weekly feature where anyone can promote their current projects without worrying about the self promotion rules   feel free to include links to your shop  crowdfunding sites  surveys  sales  or discount codes   the rule against claims of health benefits remains in effect h...</td>\n",
       "    </tr>\n",
       "    <tr>\n",
       "      <th>2</th>\n",
       "      <td>i’m in london  i like tea   thank you for the recommendations</td>\n",
       "      <td></td>\n",
       "      <td>i’m in london  i like tea   thank you for the recommendations</td>\n",
       "    </tr>\n",
       "  </tbody>\n",
       "</table>\n",
       "</div>"
      ],
      "text/plain": [
       "                                                                title_cleaned  \\\n",
       "0  what s in your cup  daily discussion  questions and stories   may            \n",
       "1                                            marketing monday    may            \n",
       "2              i’m in london  i like tea   thank you for the recommendations    \n",
       "\n",
       "                                                                                                                                                                                                                                                                                                                                                                                                  selftext_cleaned  \\\n",
       "0  what are you drinking today   what questions have been on your mind   any stories to share   and don t worry  no one will make fun of you for what you drink or the questions you ask  \\n\\nyou can also talk about anything else on your mind  from your specific routine while making tea  or how you ve been on an oolong kick lately  feel free to link to pictures in here  as well   you can even talk ...   \n",
       "1  we realize there are lots of people involved in the tea industry here  so this thread is a weekly feature where anyone can promote their current projects without worrying about the self promotion rules   feel free to include links to your shop  crowdfunding sites  surveys  sales  or discount codes   the rule against claims of health benefits remains in effect here   it should go without saying...   \n",
       "2                                                                                                                                                                                                                                                                                                                                                                                                                    \n",
       "\n",
       "                                                                                                                                                                                                                                                                                                                                                                                                   alltext_cleaned  \n",
       "0  what s in your cup  daily discussion  questions and stories   may          what are you drinking today   what questions have been on your mind   any stories to share   and don t worry  no one will make fun of you for what you drink or the questions you ask  \\n\\nyou can also talk about anything else on your mind  from your specific routine while making tea  or how you ve been on an oolong kick ...  \n",
       "1  marketing monday    may          we realize there are lots of people involved in the tea industry here  so this thread is a weekly feature where anyone can promote their current projects without worrying about the self promotion rules   feel free to include links to your shop  crowdfunding sites  surveys  sales  or discount codes   the rule against claims of health benefits remains in effect h...  \n",
       "2                                                                                                                                                                                                                                                                                                                                                 i’m in london  i like tea   thank you for the recommendations     "
      ]
     },
     "execution_count": 702,
     "metadata": {},
     "output_type": "execute_result"
    }
   ],
   "source": [
    "#checking cleaning results\n",
    "tea[['title_cleaned', 'selftext_cleaned', 'alltext_cleaned']].head(3)"
   ]
  },
  {
   "cell_type": "code",
   "execution_count": 703,
   "id": "dd0cca83",
   "metadata": {},
   "outputs": [
    {
     "data": {
      "text/html": [
       "<div>\n",
       "<style scoped>\n",
       "    .dataframe tbody tr th:only-of-type {\n",
       "        vertical-align: middle;\n",
       "    }\n",
       "\n",
       "    .dataframe tbody tr th {\n",
       "        vertical-align: top;\n",
       "    }\n",
       "\n",
       "    .dataframe thead th {\n",
       "        text-align: right;\n",
       "    }\n",
       "</style>\n",
       "<table border=\"1\" class=\"dataframe\">\n",
       "  <thead>\n",
       "    <tr style=\"text-align: right;\">\n",
       "      <th></th>\n",
       "      <th>title_cleaned</th>\n",
       "      <th>selftext_cleaned</th>\n",
       "      <th>alltext_cleaned</th>\n",
       "    </tr>\n",
       "  </thead>\n",
       "  <tbody>\n",
       "    <tr>\n",
       "      <th>0</th>\n",
       "      <td>mod  the daily question thread</td>\n",
       "      <td>\\n\\nwelcome to the daily   r coffee    question thread \\n\\nthere are no stupid questions here  ask a question and get an answer  we all have to start somewhere and sometimes it is hard to figure out just what you are doing right or doing wrong  luckily  the   r coffee    community loves to help out \\n\\ndo you have a question about how to use a specific piece of gear or what gear you should be...</td>\n",
       "      <td>mod  the daily question thread  \\n\\nwelcome to the daily   r coffee    question thread \\n\\nthere are no stupid questions here  ask a question and get an answer  we all have to start somewhere and sometimes it is hard to figure out just what you are doing right or doing wrong  luckily  the   r coffee    community loves to help out \\n\\ndo you have a question about how to use a specific piece of...</td>\n",
       "    </tr>\n",
       "    <tr>\n",
       "      <th>1</th>\n",
       "      <td>mod  the official deal thread</td>\n",
       "      <td>welcome to the  r coffee deal and promotional thread  in this weekly thread  industry folk can post upcoming deals or other promotions their companies are holding  or promote new products to  r coffee subscribers  regular users can also post deals they come across  come check out some of the roasters and other coffee related businesses that redditors work for \\n\\nnote that this thread will be ...</td>\n",
       "      <td>mod  the official deal thread welcome to the  r coffee deal and promotional thread  in this weekly thread  industry folk can post upcoming deals or other promotions their companies are holding  or promote new products to  r coffee subscribers  regular users can also post deals they come across  come check out some of the roasters and other coffee related businesses that redditors work for \\n\\...</td>\n",
       "    </tr>\n",
       "    <tr>\n",
       "      <th>2</th>\n",
       "      <td>til  the diameters of the aeropress and toddy cold brew bucket filters are almost exactly the same</td>\n",
       "      <td>went to make my annual summer toddy filter purchase today and noticed a few metal options i hadn t seen before  but looked suspiciously like the reusable steel filters for the aeropress  on a whim  i went into my kitchen and boom  almost a perfect fit  i ll probably double filter this batch through a french press or something  but should be more than enough to keep the majority of the grinds o...</td>\n",
       "      <td>til  the diameters of the aeropress and toddy cold brew bucket filters are almost exactly the same  went to make my annual summer toddy filter purchase today and noticed a few metal options i hadn t seen before  but looked suspiciously like the reusable steel filters for the aeropress  on a whim  i went into my kitchen and boom  almost a perfect fit  i ll probably double filter this batch thro...</td>\n",
       "    </tr>\n",
       "  </tbody>\n",
       "</table>\n",
       "</div>"
      ],
      "text/plain": [
       "                                                                                         title_cleaned  \\\n",
       "0                                                                       mod  the daily question thread   \n",
       "1                                                                        mod  the official deal thread   \n",
       "2  til  the diameters of the aeropress and toddy cold brew bucket filters are almost exactly the same    \n",
       "\n",
       "                                                                                                                                                                                                                                                                                                                                                                                                  selftext_cleaned  \\\n",
       "0   \\n\\nwelcome to the daily   r coffee    question thread \\n\\nthere are no stupid questions here  ask a question and get an answer  we all have to start somewhere and sometimes it is hard to figure out just what you are doing right or doing wrong  luckily  the   r coffee    community loves to help out \\n\\ndo you have a question about how to use a specific piece of gear or what gear you should be...   \n",
       "1  welcome to the  r coffee deal and promotional thread  in this weekly thread  industry folk can post upcoming deals or other promotions their companies are holding  or promote new products to  r coffee subscribers  regular users can also post deals they come across  come check out some of the roasters and other coffee related businesses that redditors work for \\n\\nnote that this thread will be ...   \n",
       "2  went to make my annual summer toddy filter purchase today and noticed a few metal options i hadn t seen before  but looked suspiciously like the reusable steel filters for the aeropress  on a whim  i went into my kitchen and boom  almost a perfect fit  i ll probably double filter this batch through a french press or something  but should be more than enough to keep the majority of the grinds o...   \n",
       "\n",
       "                                                                                                                                                                                                                                                                                                                                                                                                   alltext_cleaned  \n",
       "0   mod  the daily question thread  \\n\\nwelcome to the daily   r coffee    question thread \\n\\nthere are no stupid questions here  ask a question and get an answer  we all have to start somewhere and sometimes it is hard to figure out just what you are doing right or doing wrong  luckily  the   r coffee    community loves to help out \\n\\ndo you have a question about how to use a specific piece of...  \n",
       "1   mod  the official deal thread welcome to the  r coffee deal and promotional thread  in this weekly thread  industry folk can post upcoming deals or other promotions their companies are holding  or promote new products to  r coffee subscribers  regular users can also post deals they come across  come check out some of the roasters and other coffee related businesses that redditors work for \\n\\...  \n",
       "2  til  the diameters of the aeropress and toddy cold brew bucket filters are almost exactly the same  went to make my annual summer toddy filter purchase today and noticed a few metal options i hadn t seen before  but looked suspiciously like the reusable steel filters for the aeropress  on a whim  i went into my kitchen and boom  almost a perfect fit  i ll probably double filter this batch thro...  "
      ]
     },
     "execution_count": 703,
     "metadata": {},
     "output_type": "execute_result"
    }
   ],
   "source": [
    "coffee[['title_cleaned', 'selftext_cleaned', 'alltext_cleaned']].head(3)"
   ]
  },
  {
   "cell_type": "markdown",
   "id": "0f0fb816",
   "metadata": {},
   "source": [
    "## Check and remove duplicates again"
   ]
  },
  {
   "cell_type": "markdown",
   "id": "c7a80c9b",
   "metadata": {},
   "source": [
    "After the above cleaning, we will check for duplicate rows again to remove regular posts which are largely similar and would affect subsequent modeling. We will check using the `alltext_cleaned` column."
   ]
  },
  {
   "cell_type": "markdown",
   "id": "f14ee26b",
   "metadata": {},
   "source": [
    "#### Checking for presence of duplicates"
   ]
  },
  {
   "cell_type": "code",
   "execution_count": 704,
   "id": "c48c2580",
   "metadata": {},
   "outputs": [
    {
     "name": "stdout",
     "output_type": "stream",
     "text": [
      " Number of duplicated tea posts after cleaning: 3\n",
      " Number of duplicated coffee posts after cleaning: 2\n"
     ]
    }
   ],
   "source": [
    "print(f\" Number of duplicated tea posts after cleaning: {(tea['alltext_cleaned'].value_counts()>1).sum()}\") #3 sets of duplicated\n",
    "print(f\" Number of duplicated coffee posts after cleaning: {(coffee['alltext_cleaned'].value_counts()>1).sum()}\") #2 sets of duplicated"
   ]
  },
  {
   "cell_type": "code",
   "execution_count": 705,
   "id": "41cf2563",
   "metadata": {
    "scrolled": true
   },
   "outputs": [
    {
     "data": {
      "text/plain": [
       "what s in your cup  daily discussion  questions and stories   may          what are you drinking today   what questions have been on your mind   any stories to share   and don t worry  no one will make fun of you for what you drink or the questions you ask  \\n\\nyou can also talk about anything else on your mind  from your specific routine while making tea  or how you ve been on an oolong kick lately  feel free to link to pictures in here  as well   you can even talk about non tea related topics  maybe you want advice on a guy gal  or just to talk about life in general                                                                  True\n",
       "what s in your cup  daily discussion  questions and stories   april          what are you drinking today   what questions have been on your mind   any stories to share   and don t worry  no one will make fun of you for what you drink or the questions you ask  \\n\\nyou can also talk about anything else on your mind  from your specific routine while making tea  or how you ve been on an oolong kick lately  feel free to link to pictures in here  as well   you can even talk about non tea related topics  maybe you want advice on a guy gal  or just to talk about life in general                                                                True\n",
       "marketing monday    may          we realize there are lots of people involved in the tea industry here  so this thread is a weekly feature where anyone can promote their current projects without worrying about the self promotion rules   feel free to include links to your shop  crowdfunding sites  surveys  sales  or discount codes   the rule against claims of health benefits remains in effect here   it should go without saying that we still expect people to be respectful and follow the reddiquette   while we intend for this to be a free for all promotion zone  please don t overrun the thread posting the same thing over and over      True\n",
       "sugar free for my tea i am regular tea drinker  but being pre diabetic  i have been trying my best to go sugar free  tried few and have been happy with sugar derived from monkey fruit  most other popular brands i have used gove some uncomfortable after taste  obe of my friend suggested purecane and this seems to taste exactly like pure sugar after all it is derived from sugarcane  one thing i like about purecane i only need use lesser than     the quantity i used for others  thought i will pass along                                                                                                                                      False\n",
       "overcast sunday morning indoors                                                                                                                                                                                                                                                                                                                                                                                                                                                                                                                                                                                                                                False\n",
       "                                                                                                                                                                                                                                                                                                                                                                                                                                                                                                                                                                                                                                                               ...  \n",
       "just another pic of my gorgeous pot                                                                                                                                                                                                                                                                                                                                                                                                                                                                                                                                                                                                                            False\n",
       "my coil in my kettle developed this black caked on stuff after the first use  does anyone know what this is                                                                                                                                                                                                                                                                                                                                                                                                                                                                                                                                                    False\n",
       "a delicious oolong while strawberry picking here in nc  kind of looks like small tea bushes in the background                                                                                                                                                                                                                                                                                                                                                                                                                                                                                                                                                  False\n",
       "new tea house   a new tea house just opened near mean and it’s the most wonderful place i’ve ever been  it’s like a bar for tea  incredible                                                                                                                                                                                                                                                                                                                                                                                                                                                                                                                    False\n",
       "found in my sample of ys fuding guo xiang gong mei white tea cake                                                                                                                                                                                                                                                                                                                                                                                                                                                                                                                                                                                              False\n",
       "Name: alltext_cleaned, Length: 950, dtype: bool"
      ]
     },
     "execution_count": 705,
     "metadata": {},
     "output_type": "execute_result"
    }
   ],
   "source": [
    "#checking repeated posts - tea\n",
    "tea['alltext_cleaned'].value_counts()>1"
   ]
  },
  {
   "cell_type": "code",
   "execution_count": 706,
   "id": "f169f615",
   "metadata": {},
   "outputs": [
    {
     "data": {
      "text/plain": [
       " mod  the official deal thread welcome to the  r coffee deal and promotional thread  in this weekly thread  industry folk can post upcoming deals or other promotions their companies are holding  or promote new products to  r coffee subscribers  regular users can also post deals they come across  come check out some of the roasters and other coffee related businesses that redditors work for \\n\\nnote that this thread will be weekly at least for the duration of the covid    outbreak  since many roasters are running more specials than usual to drum up business \\n\\nwe encourage everyone to post deals here especially since many roasters are holding specials to drive business affected by the covid    outbreak  however  note that there will be zero tolerance for shady behavior  if you re found to be acting dishonestly here  your posting will be removed and we will consider banning you on the spot  if you yourself are affiliated with a business  please be transparent about it \\n\\nthere are a few rules for businesses posting promotional material \\n\\n  you need to be active in  r coffee in a non self promotional context to participate in this thread  if it seems you are only here to promote your business in this thread  your submissions will be removed  build up some  r coffee karma first  the official noob tastic question fest weekly thread  posted every friday  would be a good place to start  and check out what is on the front page and jump in on some discussions  please maintain a high ratio of general  r coffee participation to posts in this thread \\n\\n  if you are posting in this thread representing a business  please make sure to request your industry flair from the mods before posting \\n\\n  don t just drop a link  say something worthwhile  start a discussion  say something about your roasting process or the exciting new batch of beans you linked to \\n\\n  promotions in this thread must be actual deals specials or new products  please don t promote the same online store with the same products week after week  there should be something interesting going on  having generally “good prices” does not constitute a deal \\n\\n  no crowdfunding campaigns  kickstarter  indiegogo  etc   do not promote a business or product that does not exist yet  do not bait people to ask about your campaign  do not use this thread to survey  r coffee members or gauge interest in a business idea you have \\n\\n  please do not promote affiliate referral programs here  and do not post referral links in this thread \\n\\n  this thread is not a place for private parties to sell gear   r coffeeswap is the place for private party gear transactions \\n\\n  top level comments in this thread must be listings of deals  please do not comment asking for deals in your area or the like \\n\\n  more rules may be added as needed  if you re not sure whether or not whatever you re posting is acceptable  message the mods and ask  and please  ask for permission first rather than forgiveness later      True\n",
       " mod  show off your gear    battle station central let s see your battle stations or new purchases  tell us what it is you have  post pictures if you want  let us know what you think and how you use it all to make your daily cup of joe \\n\\nfeel free to discuss gear here as well   recommendations  reviews  etc \\n\\nfeel free to post links to where people can get the gear but please no sketchy deal sites and none of those amazon  or other site  links where you get a percentage if people buy it  they will be removed  also  if you want battle stations every day of the week  check out  r coffeestations \\n\\nplease keep coffee station pictures limited to this thread  any such pictures posted as their own thread will be removed \\n\\nthanks                                                                                                                                                                                                                                                                                                                                                                                                                                                                                                                                                                                                                                                                                                                                                                                                                                                                                                                                                                                                                                                                                                                                                                                                                                                                                                                                                                                                                                                                                                                                                                                                                                                                                                                                                                                                                                                                                                                                                                                                                                                                                                                                                                                                                                                                                                                                                True\n",
       "gauging temperature without a thermometer  my theremometer on my electric kettle no longer works  when my water boils   l   i put ice in to “crash” the temperature  i have been using guess work on this  but every day i’m curious if i could weigh the ice and correctly measure the temperature of the water  any ideas                                                                                                                                                                                                                                                                                                                                                                                                                                                                                                                                                                                                                                                                                                                                                                                                                                                                                                                                                                                                                                                                                                                                                                                                                                                                                                                                                                                                                                                                                                                                                                                                                                                                                                                                                                                                                                                                                                                                                                                                                                                                                                                                                                                                                                                                                                                                                                                                                                                                                                                                                                                                                                                                                                                                                                                       False\n",
       "travelling with gear hi everyone  i m going on a camping trip soon and could really use some perspective on how people bring their kit with them  \\n\\ni m looking at bringing an aeropress and it s accessories  a porlex mini grinder  beans and a mug and was just wondering how people carry their kit properly aka not just putting them a plastic bag in my main bag \\n\\ni saw the basal coffee travel bag but i d rather something more affordable and easy to get                                                                                                                                                                                                                                                                                                                                                                                                                                                                                                                                                                                                                                                                                                                                                                                                                                                                                                                                                                                                                                                                                                                                                                                                                                                                                                                                                                                                                                                                                                                                                                                                                                                                                                                                                                                                                                                                                                                                                                                                                                                                                                                                                                                                                                                                                                                                                                                                                                                                                                                                                                                                                                          False\n",
       "any recommendations for quality roasters in aberdeen  scotland  i ll be there for   weeks soon and would like to find some good roasters  looking on google maps it s not immediately evident which are just cafes serving breakfast and coffee and which really care about specialty coffee \\n\\nthanks                                                                                                                                                                                                                                                                                                                                                                                                                                                                                                                                                                                                                                                                                                                                                                                                                                                                                                                                                                                                                                                                                                                                                                                                                                                                                                                                                                                                                                                                                                                                                                                                                                                                                                                                                                                                                                                                                                                                                                                                                                                                                                                                                                                                                                                                                                                                                                                                                                                                                                                                                                                                                                                                                                                                                                                                           False\n",
       "                                                                                                                                                                                                                                                                                                                                                                                                                                                                                                                                                                                                                                                                                                                                                                                                                                                                                                                                                                                                                                                                                                                                                                                                                                                                                                                                                                                                                                                                                                                                                                                                                                                                                                                                                                                                                                                                                                                                                                                                                                                                                                                                                                                                                                                                                                                                                                                                                                                                                                                                                                                                                                                                                                                                                                                                                                                                                                                                                                                                                                                                                                                  ...  \n",
       "automatic pour over machines so i went to verve today and got a pour over  i wanted to try their new single origin costa rican and i noticed they  along with many other larger roasters  have switched over to a completely machine processed pour over  while i understand the reasons for transitioning to this method  for me it lost a little of the nostalgia i get when visiting local cafes  i love watching the barista prepare the carafe and kettle  analyzing their technique  and even asking them questions on occasion  and i swear it didn’t taste as good as when someone manually does it themselves  does anyone else feel this way                                                                                                                                                                                                                                                                                                                                                                                                                                                                                                                                                                                                                                                                                                                                                                                                                                                                                                                                                                                                                                                                                                                                                                                                                                                                                                                                                                                                                                                                                                                                                                                                                                                                                                                                                                                                                                                                                                                                                                                                                                                                                                                                                                                                                                                                                                                                                                                                                                                            False\n",
       "amazing espresso machine confiscated in ukraine highlighted on rachel maddow show tonight  anyone else enjoy seeing the beautiful gold plated espresso machine shown on the rachel maddow show tonight   it was located in a replica train car dining in a replica train station on the estate of a russian that was just seized in ukraine   wondering if any experts here are able to identify it                                                                                                                                                                                                                                                                                                                                                                                                                                                                                                                                                                                                                                                                                                                                                                                                                                                                                                                                                                                                                                                                                                                                                                                                                                                                                                                                                                                                                                                                                                                                                                                                                                                                                                                                                                                                                                                                                                                                                                                                                                                                                                                                                                                                                                                                                                                                                                                                                                                                                                                                                                                                                                                                                                               False\n",
       "favorite coffee environment what is the best possible environment to enhance your coffee  morning read in a sunlit window  alone  shower coffee  night time café  with a donut before your kids are up    \\n\\n\\nmine is probably around the embers of last night s campfire in the brisk  but not cold  morning air with a few friends                                                                                                                                                                                                                                                                                                                                                                                                                                                                                                                                                                                                                                                                                                                                                                                                                                                                                                                                                                                                                                                                                                                                                                                                                                                                                                                                                                                                                                                                                                                                                                                                                                                                                                                                                                                                                                                                                                                                                                                                                                                                                                                                                                                                                                                                                                                                                                                                                                                                                                                                                                                                                                                                                                                                                                            False\n",
       "pour over  how important is a variable temperature kettle  hello everyone  i just bought my first pour over coffee brewer  a chemex with the typical chemex paper filters  after a bit of trial and error  i ve got the grind dose right  and i m now making some really wonderful coffee \\n\\ni would like to buy a gooseneck kettle for easier pouring  and i m wondering how important variable temperature can be  as electric models are more expensive than models you just put on the stove until it boils \\n\\ni live at a higher altitude than many  in calgary  canada   so water here boils at     c or      f \\n\\nthere s little point in getting a kettle that attempts to get water hotter than that  right  and i m a little bit confused as to if lower temperatures can be helpful                                                                                                                                                                                                                                                                                                                                                                                                                                                                                                                                                                                                                                                                                                                                                                                                                                                                                                                                                                                                                                                                                                                                                                                                                                                                                                                                                                                                                                                                                                                                                                                                                                                                                                                                                                                                                                                                                                                                                                                                                                                                                                                                                                                                                                                                                                                 False\n",
       "i can drink coffee again  okay  i’m sure there is a very anti decaf leaning in this sub  and i understand why  my situation is that my body really rejects stimulants  one cup of regular coffee for me is like six cups in a row for someone else — i get the sweats  nausea  shaking so hard i have to lie down  \\n\\na few years ago i had a cup of “decaf” to which i reacted this way  not knowing whether my body’s sensitivity had skyrocketed  i’m disabled by ms and other things  so my reactions to things can change   or whether it was just a mislabeled cup  i gave up coffee entirely  \\n\\ni figured recently it was time to find out for sure  so i had my husband buy some new decaf and teach me how to use the chemex  and ohhhhh the sweet delight of delicious  wonderful coffee without all the side effects of the caffeine  it definitely was an error in labeling that last time as i’ve had numerous cups since then and no problems at all  \\n\\njust felt like celebrating that here  i understand if i get downvoted because “decaf ” but having had to give up or not even try other things because of my stupid self hating body  it’s been so great to have back something i love \\n\\nedit  thank you all so much for your support  i guess i was a little defensive at the outset but i love to know that all manner of coffee lovers are welcome here  you have a new member of this sub                                                                                                                                                                                                                                                                                                                                                                                                                                                                                                                                                                                                                                                                                                                                                                                                                                                                                                                                                                                                                                                                                                                                                                                                                                                                                                                                                                                                                                                                                                                                                                                                                                                                                         False\n",
       "Name: alltext_cleaned, Length: 628, dtype: bool"
      ]
     },
     "execution_count": 706,
     "metadata": {},
     "output_type": "execute_result"
    }
   ],
   "source": [
    "#checking repeated posts - coffee\n",
    "coffee['alltext_cleaned'].value_counts()>1"
   ]
  },
  {
   "cell_type": "markdown",
   "id": "35360bfe",
   "metadata": {},
   "source": [
    "We found repeated posts that are put up by moderators. Our cleaning operations stripped away date elements which prevented these posts from being removed in the first round of cleaning. As these moderator posts are identical except for the dates, their duplicates will be dropped."
   ]
  },
  {
   "cell_type": "markdown",
   "id": "6880cfde",
   "metadata": {},
   "source": [
    "#### Drop duplicates again"
   ]
  },
  {
   "cell_type": "code",
   "execution_count": 707,
   "id": "86c43475",
   "metadata": {},
   "outputs": [
    {
     "name": "stderr",
     "output_type": "stream",
     "text": [
      "C:\\Users\\yongl\\anaconda3\\lib\\site-packages\\pandas\\util\\_decorators.py:311: SettingWithCopyWarning: \n",
      "A value is trying to be set on a copy of a slice from a DataFrame\n",
      "\n",
      "See the caveats in the documentation: https://pandas.pydata.org/pandas-docs/stable/user_guide/indexing.html#returning-a-view-versus-a-copy\n",
      "  return func(*args, **kwargs)\n"
     ]
    }
   ],
   "source": [
    "#drop duplicates\n",
    "tea.drop_duplicates(subset=['alltext_cleaned'], inplace = True)\n",
    "coffee.drop_duplicates(subset=['alltext_cleaned'], inplace = True)"
   ]
  },
  {
   "cell_type": "code",
   "execution_count": 708,
   "id": "8b31f9e6",
   "metadata": {
    "scrolled": true
   },
   "outputs": [
    {
     "name": "stdout",
     "output_type": "stream",
     "text": [
      "Tea rows left: 950\n",
      "Coffee rows left: 628\n"
     ]
    }
   ],
   "source": [
    "print(f'Tea rows left: {tea.shape[0]}') #950 rows left #35 rows dropped\n",
    "print(f'Coffee rows left: {coffee.shape[0]}') #628 rows left #2 rows dropped"
   ]
  },
  {
   "cell_type": "markdown",
   "id": "a6638561",
   "metadata": {},
   "source": [
    "## Exploring word counts"
   ]
  },
  {
   "cell_type": "markdown",
   "id": "9c3109b9",
   "metadata": {},
   "source": [
    "#### Create title word count column"
   ]
  },
  {
   "cell_type": "code",
   "execution_count": 709,
   "id": "65fd7b69",
   "metadata": {},
   "outputs": [
    {
     "name": "stderr",
     "output_type": "stream",
     "text": [
      "C:\\Users\\yongl\\AppData\\Local\\Temp/ipykernel_34828/2695646711.py:1: SettingWithCopyWarning: \n",
      "A value is trying to be set on a copy of a slice from a DataFrame.\n",
      "Try using .loc[row_indexer,col_indexer] = value instead\n",
      "\n",
      "See the caveats in the documentation: https://pandas.pydata.org/pandas-docs/stable/user_guide/indexing.html#returning-a-view-versus-a-copy\n",
      "  tea['title_word_count'] = tea['title_cleaned'].str.split(\" \").map(len)\n",
      "C:\\Users\\yongl\\AppData\\Local\\Temp/ipykernel_34828/2695646711.py:2: SettingWithCopyWarning: \n",
      "A value is trying to be set on a copy of a slice from a DataFrame.\n",
      "Try using .loc[row_indexer,col_indexer] = value instead\n",
      "\n",
      "See the caveats in the documentation: https://pandas.pydata.org/pandas-docs/stable/user_guide/indexing.html#returning-a-view-versus-a-copy\n",
      "  coffee['title_word_count'] = coffee['title_cleaned'].str.split(\" \").map(len)\n"
     ]
    }
   ],
   "source": [
    "tea['title_word_count'] = tea['title_cleaned'].str.split(\" \").map(len)\n",
    "coffee['title_word_count'] = coffee['title_cleaned'].str.split(\" \").map(len)"
   ]
  },
  {
   "cell_type": "code",
   "execution_count": 710,
   "id": "2d7b7d7d",
   "metadata": {},
   "outputs": [
    {
     "data": {
      "text/plain": [
       "count    950.000000\n",
       "mean      11.953684\n",
       "std        9.393065\n",
       "min        1.000000\n",
       "25%        6.000000\n",
       "50%        9.000000\n",
       "75%       15.000000\n",
       "max       74.000000\n",
       "Name: title_word_count, dtype: float64"
      ]
     },
     "execution_count": 710,
     "metadata": {},
     "output_type": "execute_result"
    }
   ],
   "source": [
    "tea['title_word_count'].describe()"
   ]
  },
  {
   "cell_type": "code",
   "execution_count": 711,
   "id": "b8df522a",
   "metadata": {},
   "outputs": [
    {
     "data": {
      "text/plain": [
       "count    628.000000\n",
       "mean       9.937898\n",
       "std        6.345273\n",
       "min        1.000000\n",
       "25%        6.000000\n",
       "50%        9.000000\n",
       "75%       13.000000\n",
       "max       70.000000\n",
       "Name: title_word_count, dtype: float64"
      ]
     },
     "execution_count": 711,
     "metadata": {},
     "output_type": "execute_result"
    }
   ],
   "source": [
    "coffee['title_word_count'].describe()"
   ]
  },
  {
   "cell_type": "code",
   "execution_count": 712,
   "id": "a5fcad8d",
   "metadata": {},
   "outputs": [
    {
     "name": "stderr",
     "output_type": "stream",
     "text": [
      "No handles with labels found to put in legend.\n"
     ]
    },
    {
     "data": {
      "text/plain": [
       "<matplotlib.legend.Legend at 0x20457f88460>"
      ]
     },
     "execution_count": 712,
     "metadata": {},
     "output_type": "execute_result"
    },
    {
     "data": {
      "image/png": "[encoded data removed]",
      "text/plain": [
       "<Figure size 432x288 with 1 Axes>"
      ]
     },
     "metadata": {
      "needs_background": "light"
     },
     "output_type": "display_data"
    }
   ],
   "source": [
    "sns.histplot(data = tea['title_word_count'], kde = False, color = 'g')\n",
    "sns.histplot(data = coffee['title_word_count'], kde = False, color ='b')\n",
    "plt.legend()"
   ]
  },
  {
   "cell_type": "markdown",
   "id": "11ba502a",
   "metadata": {},
   "source": [
    "There are more tea posts (green) left after cleaning compared to coffee posts (blue), which is reflected in the generally higher bars in the tea histogram.  "
   ]
  },
  {
   "cell_type": "code",
   "execution_count": 713,
   "id": "ee09fb8d",
   "metadata": {
    "scrolled": true
   },
   "outputs": [
    {
     "data": {
      "text/plain": [
       "Text(0.5, 1.0, 'title word count for coffee')"
      ]
     },
     "execution_count": 713,
     "metadata": {},
     "output_type": "execute_result"
    },
    {
     "data": {
      "image/png": "[encoded data removed]",
      "text/plain": [
       "<Figure size 720x288 with 2 Axes>"
      ]
     },
     "metadata": {
      "needs_background": "light"
     },
     "output_type": "display_data"
    }
   ],
   "source": [
    "#visualising range of word count for title\n",
    "\n",
    "plt.figure(figsize=(10,4))\n",
    "plt.tight_layout()\n",
    "\n",
    "plt.subplot(1,2,1)\n",
    "sns.boxplot(data=tea['title_word_count'], orient='h').set_title(\n",
    "    'title word count for tea',fontsize=16)\n",
    "#plt.setp(ax[0][1].get_xticklabels(), fontsize=14);\n",
    "\n",
    "plt.subplot(1,2,2)\n",
    "sns.boxplot(data=coffee['title_word_count'], orient='h').set_title(\n",
    "    'title word count for coffee',fontsize=16)\n",
    "#plt.setp(ax[1][0].get_xticklabels(), fontsize=14);\n"
   ]
  },
  {
   "cell_type": "markdown",
   "id": "4e488cf3",
   "metadata": {},
   "source": [
    "Title word count fall within similar range for tea and coffee posts."
   ]
  },
  {
   "cell_type": "markdown",
   "id": "dadfbd1f",
   "metadata": {},
   "source": [
    "#### Create self text word count column"
   ]
  },
  {
   "cell_type": "code",
   "execution_count": 714,
   "id": "1f88eadc",
   "metadata": {},
   "outputs": [
    {
     "name": "stderr",
     "output_type": "stream",
     "text": [
      "C:\\Users\\yongl\\AppData\\Local\\Temp/ipykernel_34828/676897181.py:1: SettingWithCopyWarning: \n",
      "A value is trying to be set on a copy of a slice from a DataFrame.\n",
      "Try using .loc[row_indexer,col_indexer] = value instead\n",
      "\n",
      "See the caveats in the documentation: https://pandas.pydata.org/pandas-docs/stable/user_guide/indexing.html#returning-a-view-versus-a-copy\n",
      "  tea['selftext_word_count'] = tea['selftext_cleaned'].str.split(\" \").map(len)\n",
      "C:\\Users\\yongl\\AppData\\Local\\Temp/ipykernel_34828/676897181.py:2: SettingWithCopyWarning: \n",
      "A value is trying to be set on a copy of a slice from a DataFrame.\n",
      "Try using .loc[row_indexer,col_indexer] = value instead\n",
      "\n",
      "See the caveats in the documentation: https://pandas.pydata.org/pandas-docs/stable/user_guide/indexing.html#returning-a-view-versus-a-copy\n",
      "  coffee['selftext_word_count'] = coffee['selftext_cleaned'].str.split(\" \").map(len)\n"
     ]
    }
   ],
   "source": [
    "tea['selftext_word_count'] = tea['selftext_cleaned'].str.split(\" \").map(len)\n",
    "coffee['selftext_word_count'] = coffee['selftext_cleaned'].str.split(\" \").map(len)"
   ]
  },
  {
   "cell_type": "code",
   "execution_count": 715,
   "id": "15e94226",
   "metadata": {},
   "outputs": [
    {
     "data": {
      "text/plain": [
       "count    950.000000\n",
       "mean      44.865263\n",
       "std       84.646633\n",
       "min        2.000000\n",
       "25%        2.000000\n",
       "50%        2.000000\n",
       "75%       64.000000\n",
       "max      939.000000\n",
       "Name: selftext_word_count, dtype: float64"
      ]
     },
     "execution_count": 715,
     "metadata": {},
     "output_type": "execute_result"
    }
   ],
   "source": [
    "tea['selftext_word_count'].describe() "
   ]
  },
  {
   "cell_type": "code",
   "execution_count": 716,
   "id": "2f8d3052",
   "metadata": {},
   "outputs": [
    {
     "data": {
      "text/plain": [
       "count     628.000000\n",
       "mean      173.221338\n",
       "std       215.442959\n",
       "min         2.000000\n",
       "25%        78.000000\n",
       "50%       125.000000\n",
       "75%       204.250000\n",
       "max      4131.000000\n",
       "Name: selftext_word_count, dtype: float64"
      ]
     },
     "execution_count": 716,
     "metadata": {},
     "output_type": "execute_result"
    }
   ],
   "source": [
    "coffee['selftext_word_count'].describe()"
   ]
  },
  {
   "cell_type": "code",
   "execution_count": 717,
   "id": "8b373f64",
   "metadata": {},
   "outputs": [
    {
     "data": {
      "text/plain": [
       "Text(0.5, 1.0, 'self text word count for coffee')"
      ]
     },
     "execution_count": 717,
     "metadata": {},
     "output_type": "execute_result"
    },
    {
     "data": {
      "image/png": "[encoded data removed]",
      "text/plain": [
       "<Figure size 720x288 with 2 Axes>"
      ]
     },
     "metadata": {
      "needs_background": "light"
     },
     "output_type": "display_data"
    }
   ],
   "source": [
    "#visualising distribution of word count for self text\n",
    "\n",
    "plt.figure(figsize=(10,4))\n",
    "plt.tight_layout()\n",
    "\n",
    "plt.subplot(1,2,1)\n",
    "sns.histplot(data = tea['selftext_word_count'], kde = False).set_title(\n",
    "    'self text word count for tea',fontsize=16)\n",
    "\n",
    "plt.subplot(1,2,2)\n",
    "sns.histplot(data = coffee['selftext_word_count'], kde = False).set_title(\n",
    "    'self text word count for coffee',fontsize=16)"
   ]
  },
  {
   "cell_type": "markdown",
   "id": "16e0cf66",
   "metadata": {},
   "source": [
    "Self text for Coffee posts tend to be longer. The mean self text length for tea is about 45 words, while that for coffee is about 173."
   ]
  },
  {
   "cell_type": "code",
   "execution_count": 718,
   "id": "9f70cb55",
   "metadata": {
    "scrolled": true
   },
   "outputs": [
    {
     "data": {
      "text/plain": [
       "Text(0.5, 1.0, 'self text word count for coffee')"
      ]
     },
     "execution_count": 718,
     "metadata": {},
     "output_type": "execute_result"
    },
    {
     "data": {
      "image/png": "[encoded data removed]",
      "text/plain": [
       "<Figure size 720x288 with 2 Axes>"
      ]
     },
     "metadata": {
      "needs_background": "light"
     },
     "output_type": "display_data"
    }
   ],
   "source": [
    "#visualising range of word count for self text\n",
    "\n",
    "plt.figure(figsize=(10,4))\n",
    "plt.tight_layout()\n",
    "\n",
    "plt.subplot(1,2,1)\n",
    "sns.boxplot(data=tea['selftext_word_count'], orient='h').set_title(\n",
    "    'self text word count for tea',fontsize=16)\n",
    "#plt.setp(ax[0][1].get_xticklabels(), fontsize=14);\n",
    "\n",
    "plt.subplot(1,2,2)\n",
    "sns.boxplot(data=coffee['selftext_word_count'], orient='h').set_title(\n",
    "    'self text word count for coffee',fontsize=16)\n",
    "#plt.setp(ax[1][0].get_xticklabels(), fontsize=14);\n"
   ]
  },
  {
   "cell_type": "markdown",
   "id": "3991ed45",
   "metadata": {},
   "source": [
    "#### Examining long posts"
   ]
  },
  {
   "cell_type": "markdown",
   "id": "e5147f76",
   "metadata": {},
   "source": [
    "There are self text posts which are extremely long compared to others. "
   ]
  },
  {
   "cell_type": "code",
   "execution_count": 719,
   "id": "45a87a52",
   "metadata": {
    "scrolled": true
   },
   "outputs": [
    {
     "name": "stdout",
     "output_type": "stream",
     "text": [
      "Length of longest coffee post: 4131\n"
     ]
    }
   ],
   "source": [
    "#there is one extremely long coffee post based on the boxplot \n",
    "print(f\"Length of longest coffee post: {coffee['selftext_word_count'].max()}\") #4131"
   ]
  },
  {
   "cell_type": "code",
   "execution_count": 720,
   "id": "f4d7eafa",
   "metadata": {},
   "outputs": [
    {
     "name": "stdout",
     "output_type": "stream",
     "text": [
      "Number of tea posts longer than 600 words: 4\n"
     ]
    }
   ],
   "source": [
    "print(f\"Number of tea posts longer than 600 words: {(tea['selftext_word_count']>600).sum()}\") #using 600 words as an arbitrary marker for long tea posts based on boxplot "
   ]
  },
  {
   "cell_type": "code",
   "execution_count": 721,
   "id": "e4cb0f08",
   "metadata": {},
   "outputs": [
    {
     "data": {
      "text/plain": [
       "514    i added wifi to my bonavita kettle  github link   \\n\\nq   why not just buy a coffee maker with a timer  \\n\\na   aww  aren t you just so cute  \\n\\n\\nthis morning when  i picked up my phone and began browsing reddit while the drowsiness wore off  after   minutes on my phone  my white noise generator shut off  knowing i was actually getting trying to wake up     minutes later  the blinds in my ro...\n",
       "Name: alltext_cleaned, dtype: object"
      ]
     },
     "execution_count": 721,
     "metadata": {},
     "output_type": "execute_result"
    }
   ],
   "source": [
    "#checking the very long coffee post\n",
    "coffee[coffee['selftext_word_count'] == 4131]['alltext_cleaned']"
   ]
  },
  {
   "cell_type": "code",
   "execution_count": 722,
   "id": "ab76dd8d",
   "metadata": {},
   "outputs": [
    {
     "data": {
      "text/html": [
       "<div>\n",
       "<style scoped>\n",
       "    .dataframe tbody tr th:only-of-type {\n",
       "        vertical-align: middle;\n",
       "    }\n",
       "\n",
       "    .dataframe tbody tr th {\n",
       "        vertical-align: top;\n",
       "    }\n",
       "\n",
       "    .dataframe thead th {\n",
       "        text-align: right;\n",
       "    }\n",
       "</style>\n",
       "<table border=\"1\" class=\"dataframe\">\n",
       "  <thead>\n",
       "    <tr style=\"text-align: right;\">\n",
       "      <th></th>\n",
       "      <th>selftext_cleaned</th>\n",
       "    </tr>\n",
       "  </thead>\n",
       "  <tbody>\n",
       "    <tr>\n",
       "      <th>173</th>\n",
       "      <td>hey  guys  discovering reddit and the tea world in it  i was surprised that some of the people who drink tea bags are sure that by choosing a  good  promoted  brand   they are into in the tea they are drinking and fully understand what it is about  i do not want to offend consumers of tea bags  just want to maybe open their eyes to the undeniable benefits of loose leaf or pressed tea  which a ...</td>\n",
       "    </tr>\n",
       "    <tr>\n",
       "      <th>275</th>\n",
       "      <td>i’ve been a part of this sub for quite a while  two things i see posted again and again are “where can i buy real yixing ” and “is this pot i got second hand real yixing”  \\n\\nthis post is an attempt to answer both of those as well clarify a lot of misconception about the craft in general  i spend most of my day authenticating and translating teapot seals and every summer i visit  not recently...</td>\n",
       "    </tr>\n",
       "    <tr>\n",
       "      <th>477</th>\n",
       "      <td>there is so much information about the most famous chinese tea  west lake long jing tea online  that you may feel overwhelmed and clueless to buy one small batch to try  as a long jing tea producer and vendor  i’ve got a few tips to share if you want to make sure the long jing tea you buy online is authentic  hope it will be helpful to you   \\n\\n two major longjing varieties   \\n\\n \\n\\n      t...</td>\n",
       "    </tr>\n",
       "    <tr>\n",
       "      <th>771</th>\n",
       "      <td>this may bore some of you to death  but for others this might be quite interesting  we had some of our teas sent to  element  in oregon and had them prepare an analytics report for us regarding the caffeine content of some of our brewed teas \\n\\nwe tested multiple teas at   different brewing conditions  one is with our recommended brewing instructions  and one is with boiling water    see the ...</td>\n",
       "    </tr>\n",
       "  </tbody>\n",
       "</table>\n",
       "</div>"
      ],
      "text/plain": [
       "                                                                                                                                                                                                                                                                                                                                                                                                    selftext_cleaned\n",
       "173  hey  guys  discovering reddit and the tea world in it  i was surprised that some of the people who drink tea bags are sure that by choosing a  good  promoted  brand   they are into in the tea they are drinking and fully understand what it is about  i do not want to offend consumers of tea bags  just want to maybe open their eyes to the undeniable benefits of loose leaf or pressed tea  which a ...\n",
       "275  i’ve been a part of this sub for quite a while  two things i see posted again and again are “where can i buy real yixing ” and “is this pot i got second hand real yixing”  \\n\\nthis post is an attempt to answer both of those as well clarify a lot of misconception about the craft in general  i spend most of my day authenticating and translating teapot seals and every summer i visit  not recently...\n",
       "477  there is so much information about the most famous chinese tea  west lake long jing tea online  that you may feel overwhelmed and clueless to buy one small batch to try  as a long jing tea producer and vendor  i’ve got a few tips to share if you want to make sure the long jing tea you buy online is authentic  hope it will be helpful to you   \\n\\n two major longjing varieties   \\n\\n \\n\\n      t...\n",
       "771  this may bore some of you to death  but for others this might be quite interesting  we had some of our teas sent to  element  in oregon and had them prepare an analytics report for us regarding the caffeine content of some of our brewed teas \\n\\nwe tested multiple teas at   different brewing conditions  one is with our recommended brewing instructions  and one is with boiling water    see the ..."
      ]
     },
     "execution_count": 722,
     "metadata": {},
     "output_type": "execute_result"
    }
   ],
   "source": [
    "#checking the very long tea posts\n",
    "tea[tea['selftext_word_count']>600][['selftext_cleaned']]"
   ]
  },
  {
   "cell_type": "markdown",
   "id": "904f9fcd",
   "metadata": {},
   "source": [
    "These posts look genuine, and with no further information available on the context, we will just keep these long posts."
   ]
  },
  {
   "cell_type": "markdown",
   "id": "3ebfbbac",
   "metadata": {},
   "source": [
    "## EDA on word counts"
   ]
  },
  {
   "cell_type": "markdown",
   "id": "35f83183",
   "metadata": {},
   "source": [
    "#### Top 15 single words for tea posts"
   ]
  },
  {
   "cell_type": "code",
   "execution_count": 723,
   "id": "11a171e9",
   "metadata": {},
   "outputs": [],
   "source": [
    "#function to generate a dataframe of words\n",
    "def generate_counts(df, col_name, num_words):\n",
    "    count_vect = CountVectorizer(ngram_range = (num_words, num_words), stop_words='english', min_df=3) # Create an instance of CountVectorizer and pass in the clean_text function as the analyzer parameter\n",
    "    X_counts = count_vect.fit_transform(df[col_name]) # X_counts stores the vectorized version of the data\n",
    "    return pd.DataFrame(X_counts.todense(), columns = count_vect.get_feature_names()) #transforms spare array to a df"
   ]
  },
  {
   "cell_type": "code",
   "execution_count": 724,
   "id": "bb285b02",
   "metadata": {},
   "outputs": [
    {
     "data": {
      "text/html": [
       "<div>\n",
       "<style scoped>\n",
       "    .dataframe tbody tr th:only-of-type {\n",
       "        vertical-align: middle;\n",
       "    }\n",
       "\n",
       "    .dataframe tbody tr th {\n",
       "        vertical-align: top;\n",
       "    }\n",
       "\n",
       "    .dataframe thead th {\n",
       "        text-align: right;\n",
       "    }\n",
       "</style>\n",
       "<table border=\"1\" class=\"dataframe\">\n",
       "  <thead>\n",
       "    <tr style=\"text-align: right;\">\n",
       "      <th></th>\n",
       "      <th>able</th>\n",
       "      <th>absolutely</th>\n",
       "      <th>acceptable</th>\n",
       "      <th>access</th>\n",
       "      <th>accessories</th>\n",
       "      <th>according</th>\n",
       "      <th>actual</th>\n",
       "      <th>actually</th>\n",
       "      <th>adagio</th>\n",
       "      <th>add</th>\n",
       "      <th>...</th>\n",
       "      <th>yesterday</th>\n",
       "      <th>yi</th>\n",
       "      <th>yin</th>\n",
       "      <th>yixing</th>\n",
       "      <th>yorkshire</th>\n",
       "      <th>young</th>\n",
       "      <th>ys</th>\n",
       "      <th>yunnan</th>\n",
       "      <th>yuuki</th>\n",
       "      <th>zero</th>\n",
       "    </tr>\n",
       "  </thead>\n",
       "  <tbody>\n",
       "    <tr>\n",
       "      <th>0</th>\n",
       "      <td>0</td>\n",
       "      <td>0</td>\n",
       "      <td>0</td>\n",
       "      <td>0</td>\n",
       "      <td>0</td>\n",
       "      <td>0</td>\n",
       "      <td>0</td>\n",
       "      <td>0</td>\n",
       "      <td>0</td>\n",
       "      <td>0</td>\n",
       "      <td>...</td>\n",
       "      <td>0</td>\n",
       "      <td>0</td>\n",
       "      <td>0</td>\n",
       "      <td>0</td>\n",
       "      <td>0</td>\n",
       "      <td>0</td>\n",
       "      <td>0</td>\n",
       "      <td>0</td>\n",
       "      <td>0</td>\n",
       "      <td>0</td>\n",
       "    </tr>\n",
       "    <tr>\n",
       "      <th>1</th>\n",
       "      <td>0</td>\n",
       "      <td>0</td>\n",
       "      <td>0</td>\n",
       "      <td>0</td>\n",
       "      <td>0</td>\n",
       "      <td>0</td>\n",
       "      <td>0</td>\n",
       "      <td>0</td>\n",
       "      <td>0</td>\n",
       "      <td>0</td>\n",
       "      <td>...</td>\n",
       "      <td>0</td>\n",
       "      <td>0</td>\n",
       "      <td>0</td>\n",
       "      <td>0</td>\n",
       "      <td>0</td>\n",
       "      <td>0</td>\n",
       "      <td>0</td>\n",
       "      <td>0</td>\n",
       "      <td>0</td>\n",
       "      <td>0</td>\n",
       "    </tr>\n",
       "    <tr>\n",
       "      <th>2</th>\n",
       "      <td>0</td>\n",
       "      <td>0</td>\n",
       "      <td>0</td>\n",
       "      <td>0</td>\n",
       "      <td>0</td>\n",
       "      <td>0</td>\n",
       "      <td>0</td>\n",
       "      <td>0</td>\n",
       "      <td>0</td>\n",
       "      <td>0</td>\n",
       "      <td>...</td>\n",
       "      <td>0</td>\n",
       "      <td>0</td>\n",
       "      <td>0</td>\n",
       "      <td>0</td>\n",
       "      <td>0</td>\n",
       "      <td>0</td>\n",
       "      <td>0</td>\n",
       "      <td>0</td>\n",
       "      <td>0</td>\n",
       "      <td>0</td>\n",
       "    </tr>\n",
       "    <tr>\n",
       "      <th>3</th>\n",
       "      <td>0</td>\n",
       "      <td>0</td>\n",
       "      <td>0</td>\n",
       "      <td>0</td>\n",
       "      <td>0</td>\n",
       "      <td>0</td>\n",
       "      <td>0</td>\n",
       "      <td>0</td>\n",
       "      <td>0</td>\n",
       "      <td>0</td>\n",
       "      <td>...</td>\n",
       "      <td>0</td>\n",
       "      <td>0</td>\n",
       "      <td>0</td>\n",
       "      <td>0</td>\n",
       "      <td>0</td>\n",
       "      <td>0</td>\n",
       "      <td>0</td>\n",
       "      <td>0</td>\n",
       "      <td>0</td>\n",
       "      <td>0</td>\n",
       "    </tr>\n",
       "    <tr>\n",
       "      <th>4</th>\n",
       "      <td>0</td>\n",
       "      <td>0</td>\n",
       "      <td>0</td>\n",
       "      <td>0</td>\n",
       "      <td>0</td>\n",
       "      <td>0</td>\n",
       "      <td>0</td>\n",
       "      <td>0</td>\n",
       "      <td>0</td>\n",
       "      <td>0</td>\n",
       "      <td>...</td>\n",
       "      <td>0</td>\n",
       "      <td>0</td>\n",
       "      <td>0</td>\n",
       "      <td>0</td>\n",
       "      <td>0</td>\n",
       "      <td>0</td>\n",
       "      <td>0</td>\n",
       "      <td>0</td>\n",
       "      <td>0</td>\n",
       "      <td>0</td>\n",
       "    </tr>\n",
       "  </tbody>\n",
       "</table>\n",
       "<p>5 rows × 1269 columns</p>\n",
       "</div>"
      ],
      "text/plain": [
       "   able  absolutely  acceptable  access  accessories  according  actual  \\\n",
       "0     0           0           0       0            0          0       0   \n",
       "1     0           0           0       0            0          0       0   \n",
       "2     0           0           0       0            0          0       0   \n",
       "3     0           0           0       0            0          0       0   \n",
       "4     0           0           0       0            0          0       0   \n",
       "\n",
       "   actually  adagio  add  ...  yesterday  yi  yin  yixing  yorkshire  young  \\\n",
       "0         0       0    0  ...          0   0    0       0          0      0   \n",
       "1         0       0    0  ...          0   0    0       0          0      0   \n",
       "2         0       0    0  ...          0   0    0       0          0      0   \n",
       "3         0       0    0  ...          0   0    0       0          0      0   \n",
       "4         0       0    0  ...          0   0    0       0          0      0   \n",
       "\n",
       "   ys  yunnan  yuuki  zero  \n",
       "0   0       0      0     0  \n",
       "1   0       0      0     0  \n",
       "2   0       0      0     0  \n",
       "3   0       0      0     0  \n",
       "4   0       0      0     0  \n",
       "\n",
       "[5 rows x 1269 columns]"
      ]
     },
     "execution_count": 724,
     "metadata": {},
     "output_type": "execute_result"
    }
   ],
   "source": [
    "#create dataframe of words for tea posts\n",
    "tea_counts_df = generate_counts(tea, 'alltext_cleaned', 1)\n",
    "\n",
    "tea_counts_df.head()"
   ]
  },
  {
   "cell_type": "code",
   "execution_count": 725,
   "id": "83336809",
   "metadata": {},
   "outputs": [
    {
     "data": {
      "image/png": "[encoded data removed]",
      "text/plain": [
       "<Figure size 432x288 with 1 Axes>"
      ]
     },
     "metadata": {
      "needs_background": "light"
     },
     "output_type": "display_data"
    }
   ],
   "source": [
    "#top 15 most common words for tea\n",
    "tea_counts_df.sum().sort_values(ascending = False).head(20).plot(kind='barh');"
   ]
  },
  {
   "cell_type": "markdown",
   "id": "b62264d7",
   "metadata": {},
   "source": [
    "#### Top 15 single words for coffee posts"
   ]
  },
  {
   "cell_type": "code",
   "execution_count": 726,
   "id": "e1b77639",
   "metadata": {},
   "outputs": [
    {
     "data": {
      "text/html": [
       "<div>\n",
       "<style scoped>\n",
       "    .dataframe tbody tr th:only-of-type {\n",
       "        vertical-align: middle;\n",
       "    }\n",
       "\n",
       "    .dataframe tbody tr th {\n",
       "        vertical-align: top;\n",
       "    }\n",
       "\n",
       "    .dataframe thead th {\n",
       "        text-align: right;\n",
       "    }\n",
       "</style>\n",
       "<table border=\"1\" class=\"dataframe\">\n",
       "  <thead>\n",
       "    <tr style=\"text-align: right;\">\n",
       "      <th></th>\n",
       "      <th>ability</th>\n",
       "      <th>able</th>\n",
       "      <th>absolute</th>\n",
       "      <th>absolutely</th>\n",
       "      <th>access</th>\n",
       "      <th>accident</th>\n",
       "      <th>accidentally</th>\n",
       "      <th>according</th>\n",
       "      <th>accuracy</th>\n",
       "      <th>accurate</th>\n",
       "      <th>...</th>\n",
       "      <th>year</th>\n",
       "      <th>years</th>\n",
       "      <th>yes</th>\n",
       "      <th>yesterday</th>\n",
       "      <th>yield</th>\n",
       "      <th>yields</th>\n",
       "      <th>yirgacheffe</th>\n",
       "      <th>youtube</th>\n",
       "      <th>zero</th>\n",
       "      <th>zpresso</th>\n",
       "    </tr>\n",
       "  </thead>\n",
       "  <tbody>\n",
       "    <tr>\n",
       "      <th>0</th>\n",
       "      <td>0</td>\n",
       "      <td>0</td>\n",
       "      <td>0</td>\n",
       "      <td>0</td>\n",
       "      <td>0</td>\n",
       "      <td>0</td>\n",
       "      <td>0</td>\n",
       "      <td>0</td>\n",
       "      <td>0</td>\n",
       "      <td>0</td>\n",
       "      <td>...</td>\n",
       "      <td>0</td>\n",
       "      <td>0</td>\n",
       "      <td>0</td>\n",
       "      <td>0</td>\n",
       "      <td>0</td>\n",
       "      <td>0</td>\n",
       "      <td>0</td>\n",
       "      <td>0</td>\n",
       "      <td>0</td>\n",
       "      <td>0</td>\n",
       "    </tr>\n",
       "    <tr>\n",
       "      <th>1</th>\n",
       "      <td>0</td>\n",
       "      <td>0</td>\n",
       "      <td>0</td>\n",
       "      <td>0</td>\n",
       "      <td>0</td>\n",
       "      <td>0</td>\n",
       "      <td>0</td>\n",
       "      <td>0</td>\n",
       "      <td>0</td>\n",
       "      <td>0</td>\n",
       "      <td>...</td>\n",
       "      <td>0</td>\n",
       "      <td>0</td>\n",
       "      <td>0</td>\n",
       "      <td>0</td>\n",
       "      <td>0</td>\n",
       "      <td>0</td>\n",
       "      <td>0</td>\n",
       "      <td>0</td>\n",
       "      <td>1</td>\n",
       "      <td>0</td>\n",
       "    </tr>\n",
       "    <tr>\n",
       "      <th>2</th>\n",
       "      <td>0</td>\n",
       "      <td>0</td>\n",
       "      <td>0</td>\n",
       "      <td>0</td>\n",
       "      <td>0</td>\n",
       "      <td>0</td>\n",
       "      <td>0</td>\n",
       "      <td>0</td>\n",
       "      <td>0</td>\n",
       "      <td>0</td>\n",
       "      <td>...</td>\n",
       "      <td>0</td>\n",
       "      <td>0</td>\n",
       "      <td>0</td>\n",
       "      <td>0</td>\n",
       "      <td>0</td>\n",
       "      <td>0</td>\n",
       "      <td>0</td>\n",
       "      <td>0</td>\n",
       "      <td>0</td>\n",
       "      <td>0</td>\n",
       "    </tr>\n",
       "    <tr>\n",
       "      <th>3</th>\n",
       "      <td>0</td>\n",
       "      <td>0</td>\n",
       "      <td>0</td>\n",
       "      <td>0</td>\n",
       "      <td>0</td>\n",
       "      <td>0</td>\n",
       "      <td>0</td>\n",
       "      <td>0</td>\n",
       "      <td>0</td>\n",
       "      <td>0</td>\n",
       "      <td>...</td>\n",
       "      <td>0</td>\n",
       "      <td>0</td>\n",
       "      <td>0</td>\n",
       "      <td>0</td>\n",
       "      <td>0</td>\n",
       "      <td>0</td>\n",
       "      <td>0</td>\n",
       "      <td>0</td>\n",
       "      <td>0</td>\n",
       "      <td>0</td>\n",
       "    </tr>\n",
       "    <tr>\n",
       "      <th>4</th>\n",
       "      <td>0</td>\n",
       "      <td>0</td>\n",
       "      <td>0</td>\n",
       "      <td>0</td>\n",
       "      <td>0</td>\n",
       "      <td>0</td>\n",
       "      <td>1</td>\n",
       "      <td>0</td>\n",
       "      <td>0</td>\n",
       "      <td>0</td>\n",
       "      <td>...</td>\n",
       "      <td>0</td>\n",
       "      <td>0</td>\n",
       "      <td>0</td>\n",
       "      <td>0</td>\n",
       "      <td>0</td>\n",
       "      <td>0</td>\n",
       "      <td>0</td>\n",
       "      <td>0</td>\n",
       "      <td>0</td>\n",
       "      <td>0</td>\n",
       "    </tr>\n",
       "  </tbody>\n",
       "</table>\n",
       "<p>5 rows × 2147 columns</p>\n",
       "</div>"
      ],
      "text/plain": [
       "   ability  able  absolute  absolutely  access  accident  accidentally  \\\n",
       "0        0     0         0           0       0         0             0   \n",
       "1        0     0         0           0       0         0             0   \n",
       "2        0     0         0           0       0         0             0   \n",
       "3        0     0         0           0       0         0             0   \n",
       "4        0     0         0           0       0         0             1   \n",
       "\n",
       "   according  accuracy  accurate  ...  year  years  yes  yesterday  yield  \\\n",
       "0          0         0         0  ...     0      0    0          0      0   \n",
       "1          0         0         0  ...     0      0    0          0      0   \n",
       "2          0         0         0  ...     0      0    0          0      0   \n",
       "3          0         0         0  ...     0      0    0          0      0   \n",
       "4          0         0         0  ...     0      0    0          0      0   \n",
       "\n",
       "   yields  yirgacheffe  youtube  zero  zpresso  \n",
       "0       0            0        0     0        0  \n",
       "1       0            0        0     1        0  \n",
       "2       0            0        0     0        0  \n",
       "3       0            0        0     0        0  \n",
       "4       0            0        0     0        0  \n",
       "\n",
       "[5 rows x 2147 columns]"
      ]
     },
     "execution_count": 726,
     "metadata": {},
     "output_type": "execute_result"
    }
   ],
   "source": [
    "#create dataframe of words for coffee posts\n",
    "coffee_counts_df = generate_counts(coffee, 'alltext_cleaned', 1)\n",
    "\n",
    "coffee_counts_df.head()"
   ]
  },
  {
   "cell_type": "code",
   "execution_count": 727,
   "id": "34311d24",
   "metadata": {
    "scrolled": true
   },
   "outputs": [
    {
     "data": {
      "image/png": "[encoded data removed]",
      "text/plain": [
       "<Figure size 432x288 with 1 Axes>"
      ]
     },
     "metadata": {
      "needs_background": "light"
     },
     "output_type": "display_data"
    }
   ],
   "source": [
    "#top 15 most common words for coffee\n",
    "coffee_counts_df.sum().sort_values(ascending = False).head(20).plot(kind='barh');"
   ]
  },
  {
   "cell_type": "code",
   "execution_count": 728,
   "id": "b3c8d6db",
   "metadata": {},
   "outputs": [
    {
     "name": "stdout",
     "output_type": "stream",
     "text": [
      "Top 20 tea words: ['tea', 'like', 'teas', 'just', 've', 'green', 'water', 'know', 'good', 'black', 'make', 'time', 'don', 'drink', 'want', 'oolong', 'does', 'leaf', 'loose', 'really']\n",
      "\n",
      "Top 20 coffee words: ['coffee', 'water', 'like', 'just', 've', 'beans', 'brew', 'cup', 'time', 'grind', 'taste', 'use', 'espresso', 'good', 'make', 'grinder', 'know', 'using', 'really', 'machine']\n",
      "\n"
     ]
    }
   ],
   "source": [
    "tea_words = (tea_counts_df.sum().sort_values(ascending = False).head(20)).index.tolist()\n",
    "coffee_words = (coffee_counts_df.sum().sort_values(ascending = False).head(20)).index.tolist()\n",
    "\n",
    "print(f'Top 20 tea words: {tea_words}\\n')\n",
    "print(f'Top 20 coffee words: {coffee_words}\\n')"
   ]
  },
  {
   "cell_type": "markdown",
   "id": "604f6336",
   "metadata": {},
   "source": [
    "## Curate additional stopwords"
   ]
  },
  {
   "cell_type": "markdown",
   "id": "2cde7474",
   "metadata": {},
   "source": [
    "Looking at the top 15 words, we can add some words which we can expect based on our experience in the domain, to be highly correlated to its subreddit topic. We will also remove words that are present within both word lists. \n",
    "1. For tea:\n",
    "* 'tea', 'teas', 'know', 'don', 'drink', 'want', 'does'\n",
    "2. For coffee:\n",
    "* 'coffee', 'taste', 'use', 'using'\n",
    "3. Common words between the 2 lists:\n",
    "* 'like', 'just', 've', 'water', 'know', 'good', 'make', 'time', 'really'"
   ]
  },
  {
   "cell_type": "markdown",
   "id": "0923ae89",
   "metadata": {},
   "source": [
    "As we will later be using the stopwords from the nltk corpus of stopwords for English language, we will check if our additional list of stopwords overlap with the nltk stopwords, and remove the overlaps from our list."
   ]
  },
  {
   "cell_type": "code",
   "execution_count": 729,
   "id": "f95cd2bc",
   "metadata": {},
   "outputs": [
    {
     "name": "stdout",
     "output_type": "stream",
     "text": [
      "Overlap in stopwords with nltk corpus: ['don', 'does', 'just', 've']\n",
      "Number of additional stopwords after removing overlap: 16\n"
     ]
    }
   ],
   "source": [
    "own_stopwords = ['tea', 'teas', 'know', 'don', 'drink', 'want', 'does', 'coffee', 'taste', 'use', \n",
    "                 'using', 'like', 'just', 've', 'water', 'know', 'good', 'make', 'time', 'really' ]\n",
    "\n",
    "#check for overlap of words between the 2 own_stopwords and nltk stopwords\n",
    "print(f\"Overlap in stopwords with nltk corpus: {[x for x in own_stopwords if x in nltk.corpus.stopwords.words('english')]}\")\n",
    "\n",
    "#remove overlap words with ntlk stopword\n",
    "add_stopword = [x for x in own_stopwords if x not in nltk.corpus.stopwords.words('english')]\n",
    "print(f\"Number of additional stopwords after removing overlap: {len(add_stopword)}\")"
   ]
  },
  {
   "cell_type": "markdown",
   "id": "3327c917",
   "metadata": {},
   "source": [
    "The additional stopwords will be added to the nltk stopwords at the stopwords removal stage later."
   ]
  },
  {
   "cell_type": "markdown",
   "id": "f1a7f80f",
   "metadata": {},
   "source": [
    "#### Top 15 bigrams for tea posts"
   ]
  },
  {
   "cell_type": "code",
   "execution_count": 730,
   "id": "dbce16e4",
   "metadata": {},
   "outputs": [
    {
     "data": {
      "text/plain": [
       "green tea     92\n",
       "black tea     77\n",
       "loose leaf    59\n",
       "white tea     48\n",
       "long jing     43\n",
       "tea bags      37\n",
       "tea leaves    34\n",
       "leaf tea      28\n",
       "iced tea      28\n",
       "earl grey     26\n",
       "don know      24\n",
       "make tea      24\n",
       "new tea       22\n",
       "does know     19\n",
       "ve tried      18\n",
       "dtype: int64"
      ]
     },
     "execution_count": 730,
     "metadata": {},
     "output_type": "execute_result"
    }
   ],
   "source": [
    "tea_bigram_df = generate_counts(tea, 'alltext_cleaned', 2)\n",
    "tea_bigram_df.sum().sort_values(ascending = False).head(15)"
   ]
  },
  {
   "cell_type": "markdown",
   "id": "d1411f2c",
   "metadata": {},
   "source": [
    "#### Top 15 bigrams for coffee posts"
   ]
  },
  {
   "cell_type": "code",
   "execution_count": 731,
   "id": "806ad69c",
   "metadata": {},
   "outputs": [
    {
     "data": {
      "text/plain": [
       "french press        106\n",
       "cold brew            71\n",
       "moka pot             67\n",
       "espresso machine     42\n",
       "grind size           41\n",
       "coffee beans         37\n",
       "don know             36\n",
       "cup coffee           36\n",
       "ve tried             35\n",
       "coffee just          28\n",
       "brew time            28\n",
       "good coffee          26\n",
       "coffee water         26\n",
       "coffee maker         25\n",
       "coffee shop          25\n",
       "dtype: int64"
      ]
     },
     "execution_count": 731,
     "metadata": {},
     "output_type": "execute_result"
    }
   ],
   "source": [
    "coffee_bigram_df = generate_counts(coffee, 'alltext_cleaned', 2)\n",
    "coffee_bigram_df.sum().sort_values(ascending = False).head(15)"
   ]
  },
  {
   "cell_type": "markdown",
   "id": "0432c0bd",
   "metadata": {},
   "source": [
    "The most common bigrams are very different as well."
   ]
  },
  {
   "cell_type": "markdown",
   "id": "5396f196",
   "metadata": {},
   "source": [
    "#### Top 15 trigram for tea posts"
   ]
  },
  {
   "cell_type": "code",
   "execution_count": 732,
   "id": "93ebc7ee",
   "metadata": {},
   "outputs": [
    {
     "data": {
      "text/plain": [
       "loose leaf tea           23\n",
       "tea ml water             15\n",
       "sheng pu er               7\n",
       "loose leaf teas           7\n",
       "japanese green tea        7\n",
       "like black tea            6\n",
       "harney amp sons           5\n",
       "tie guan yin              5\n",
       "pu erh tea                5\n",
       "loose leaf black          5\n",
       "international tea day     5\n",
       "bai mu dan                5\n",
       "green tea black           5\n",
       "earl grey tea             5\n",
       "cold brew tea             5\n",
       "dtype: int64"
      ]
     },
     "execution_count": 732,
     "metadata": {},
     "output_type": "execute_result"
    }
   ],
   "source": [
    "tea_trigram_df = generate_counts(tea, 'alltext_cleaned', 3)\n",
    "tea_trigram_df.sum().sort_values(ascending = False).head(15)"
   ]
  },
  {
   "cell_type": "markdown",
   "id": "1b53ea0a",
   "metadata": {},
   "source": [
    "#### Top 15 trigram for coffee posts"
   ]
  },
  {
   "cell_type": "code",
   "execution_count": 733,
   "id": "29e7c950",
   "metadata": {
    "scrolled": false
   },
   "outputs": [
    {
     "data": {
      "text/plain": [
       "pre ground coffee      8\n",
       "local coffee shop      8\n",
       "adjust grind size      5\n",
       "coffee moka pot        5\n",
       "total brew time        5\n",
       "drip coffee maker      5\n",
       "cup moka pot           5\n",
       "zpresso jx pro         5\n",
       "beans local roaster    5\n",
       "coffee don know        5\n",
       "coffee french press    5\n",
       "coffee ml water        4\n",
       "french press coffee    4\n",
       "roast dark roast       4\n",
       "bialetti moka pot      4\n",
       "dtype: int64"
      ]
     },
     "execution_count": 733,
     "metadata": {},
     "output_type": "execute_result"
    }
   ],
   "source": [
    "coffee_trigram_df = generate_counts(coffee, 'alltext_cleaned', 3)\n",
    "coffee_trigram_df.sum().sort_values(ascending = False).head(15)"
   ]
  },
  {
   "cell_type": "markdown",
   "id": "d89beb24",
   "metadata": {},
   "source": [
    "## Tokenisation, Remove Stopwords, Lemmatisation"
   ]
  },
  {
   "cell_type": "markdown",
   "id": "18ce269a",
   "metadata": {},
   "source": [
    "#### Create preprocessing functions"
   ]
  },
  {
   "cell_type": "code",
   "execution_count": 734,
   "id": "04371edb",
   "metadata": {},
   "outputs": [],
   "source": [
    "#create function to carry out tokenisation\n",
    "def make_tokens(df):\n",
    "    def to_tokens(s):\n",
    "        # Instantiate tokenizer.\n",
    "        tokenizer = RegexpTokenizer('\\s+', gaps=True) #splitting our tokens up by spaces.\n",
    "        # Run tokenizer. \n",
    "        return tokenizer.tokenize(s)\n",
    "    #original_cols = ['title', 'selftext', 'alltext'] #defined earlier\n",
    "    cleaned_cols = ['title_cleaned', 'selftext_cleaned', 'alltext_cleaned']\n",
    "    for col in cleaned_cols:\n",
    "        tokenized_col_name = str(col).replace('_cleaned', '_token')# + '_tokens'\n",
    "        df[tokenized_col_name] = df[col].apply(lambda x: to_tokens(x))\n",
    "    return df\n",
    "\n",
    "#create function to remove stopwords\n",
    "def drop_stopwords(df):\n",
    "    def remove_stopwords(tokenized_list):\n",
    "        stopword = nltk.corpus.stopwords.words('english') + add_stopword\n",
    "        # Store in text only if word is not found in stopword i.e. it is not a stopword\n",
    "        text = [word for word in tokenized_list if word not in stopword]\n",
    "        return text\n",
    "\n",
    "    tokenised_cols = ['title_token', 'selftext_token', 'alltext_token']\n",
    "    for col in tokenised_cols:\n",
    "        sw_col_name = str(col).replace('_token', '_sw') #+ '_sw'\n",
    "        df[sw_col_name] = df[col].apply(lambda x: remove_stopwords(x))\n",
    "    return df\n",
    "\n",
    "#create function for lemmatisation\n",
    "def lemmatise(df):\n",
    "    def to_lem(tokenized_sw_list):\n",
    "        # Instantiate lemmatizer.\n",
    "        lemmatizer = WordNetLemmatizer()\n",
    "        # Lemmatize tokenised list\n",
    "        return [lemmatizer.lemmatize(i) for i in tokenized_sw_list] \n",
    "    \n",
    "    tokenised_sw_cols = ['title_sw', 'selftext_sw', 'alltext_sw']\n",
    "    for col in tokenised_sw_cols:\n",
    "        lem_name = str(col).replace('_sw', '_lem') #+ '_lem'\n",
    "        df[lem_name] = df[col].apply(lambda x: to_lem(x))\n",
    "    return df\n",
    "\n",
    "#consolidate all preprocessing processes in one function\n",
    "def preprocessing(df):\n",
    "    make_tokens(df)\n",
    "    drop_stopwords(df)\n",
    "    lemmatise(df)\n",
    "    return df"
   ]
  },
  {
   "cell_type": "code",
   "execution_count": 735,
   "id": "c3884892",
   "metadata": {},
   "outputs": [
    {
     "name": "stderr",
     "output_type": "stream",
     "text": [
      "C:\\Users\\yongl\\AppData\\Local\\Temp/ipykernel_34828/3023615851.py:12: SettingWithCopyWarning: \n",
      "A value is trying to be set on a copy of a slice from a DataFrame.\n",
      "Try using .loc[row_indexer,col_indexer] = value instead\n",
      "\n",
      "See the caveats in the documentation: https://pandas.pydata.org/pandas-docs/stable/user_guide/indexing.html#returning-a-view-versus-a-copy\n",
      "  df[tokenized_col_name] = df[col].apply(lambda x: to_tokens(x))\n",
      "C:\\Users\\yongl\\AppData\\Local\\Temp/ipykernel_34828/3023615851.py:26: SettingWithCopyWarning: \n",
      "A value is trying to be set on a copy of a slice from a DataFrame.\n",
      "Try using .loc[row_indexer,col_indexer] = value instead\n",
      "\n",
      "See the caveats in the documentation: https://pandas.pydata.org/pandas-docs/stable/user_guide/indexing.html#returning-a-view-versus-a-copy\n",
      "  df[sw_col_name] = df[col].apply(lambda x: remove_stopwords(x))\n",
      "C:\\Users\\yongl\\AppData\\Local\\Temp/ipykernel_34828/3023615851.py:40: SettingWithCopyWarning: \n",
      "A value is trying to be set on a copy of a slice from a DataFrame.\n",
      "Try using .loc[row_indexer,col_indexer] = value instead\n",
      "\n",
      "See the caveats in the documentation: https://pandas.pydata.org/pandas-docs/stable/user_guide/indexing.html#returning-a-view-versus-a-copy\n",
      "  df[lem_name] = df[col].apply(lambda x: to_lem(x))\n"
     ]
    },
    {
     "data": {
      "text/html": [
       "<div>\n",
       "<style scoped>\n",
       "    .dataframe tbody tr th:only-of-type {\n",
       "        vertical-align: middle;\n",
       "    }\n",
       "\n",
       "    .dataframe tbody tr th {\n",
       "        vertical-align: top;\n",
       "    }\n",
       "\n",
       "    .dataframe thead th {\n",
       "        text-align: right;\n",
       "    }\n",
       "</style>\n",
       "<table border=\"1\" class=\"dataframe\">\n",
       "  <thead>\n",
       "    <tr style=\"text-align: right;\">\n",
       "      <th></th>\n",
       "      <th>subreddit</th>\n",
       "      <th>title</th>\n",
       "      <th>selftext</th>\n",
       "      <th>alltext</th>\n",
       "      <th>title_cleaned</th>\n",
       "      <th>selftext_cleaned</th>\n",
       "      <th>alltext_cleaned</th>\n",
       "      <th>title_word_count</th>\n",
       "      <th>selftext_word_count</th>\n",
       "      <th>title_token</th>\n",
       "      <th>selftext_token</th>\n",
       "      <th>alltext_token</th>\n",
       "      <th>title_sw</th>\n",
       "      <th>selftext_sw</th>\n",
       "      <th>alltext_sw</th>\n",
       "      <th>title_lem</th>\n",
       "      <th>selftext_lem</th>\n",
       "      <th>alltext_lem</th>\n",
       "    </tr>\n",
       "  </thead>\n",
       "  <tbody>\n",
       "    <tr>\n",
       "      <th>0</th>\n",
       "      <td>Coffee</td>\n",
       "      <td>[MOD] The Daily Question Thread</td>\n",
       "      <td>\\n\\nWelcome to the daily [/r/Coffee](https://www.reddit.com/r/Coffee) question thread!\\n\\nThere are no stupid questions here, ask a question and get an answer! We all have to start somewhere and sometimes it is hard to figure out just what you are doing right or doing wrong. Luckily, the [/r/Coffee](https://www.reddit.com/r/Coffee) community loves to help out.\\n\\nDo you have a question about ...</td>\n",
       "      <td>[MOD] The Daily Question Thread  \\n\\nWelcome to the daily [/r/Coffee](https://www.reddit.com/r/Coffee) question thread!\\n\\nThere are no stupid questions here, ask a question and get an answer! We all have to start somewhere and sometimes it is hard to figure out just what you are doing right or doing wrong. Luckily, the [/r/Coffee](https://www.reddit.com/r/Coffee) community loves to help out.\\...</td>\n",
       "      <td>mod  the daily question thread</td>\n",
       "      <td>\\n\\nwelcome to the daily   r coffee    question thread \\n\\nthere are no stupid questions here  ask a question and get an answer  we all have to start somewhere and sometimes it is hard to figure out just what you are doing right or doing wrong  luckily  the   r coffee    community loves to help out \\n\\ndo you have a question about how to use a specific piece of gear or what gear you should be...</td>\n",
       "      <td>mod  the daily question thread  \\n\\nwelcome to the daily   r coffee    question thread \\n\\nthere are no stupid questions here  ask a question and get an answer  we all have to start somewhere and sometimes it is hard to figure out just what you are doing right or doing wrong  luckily  the   r coffee    community loves to help out \\n\\ndo you have a question about how to use a specific piece of...</td>\n",
       "      <td>7</td>\n",
       "      <td>199</td>\n",
       "      <td>[mod, the, daily, question, thread]</td>\n",
       "      <td>[welcome, to, the, daily, r, coffee, question, thread, there, are, no, stupid, questions, here, ask, a, question, and, get, an, answer, we, all, have, to, start, somewhere, and, sometimes, it, is, hard, to, figure, out, just, what, you, are, doing, right, or, doing, wrong, luckily, the, r, coffee, community, loves, to, help, out, do, you, have, a, question, about, how, to, use, a, specific, pi...</td>\n",
       "      <td>[mod, the, daily, question, thread, welcome, to, the, daily, r, coffee, question, thread, there, are, no, stupid, questions, here, ask, a, question, and, get, an, answer, we, all, have, to, start, somewhere, and, sometimes, it, is, hard, to, figure, out, just, what, you, are, doing, right, or, doing, wrong, luckily, the, r, coffee, community, loves, to, help, out, do, you, have, a, question, a...</td>\n",
       "      <td>[mod, daily, question, thread]</td>\n",
       "      <td>[welcome, daily, r, question, thread, stupid, questions, ask, question, get, answer, start, somewhere, sometimes, hard, figure, right, wrong, luckily, r, community, loves, help, question, specific, piece, gear, gear, buying, much, grind, sure, much, hot, wondering, shelf, life, forget, resources, wiki, great, starter, guides, wiki, guides, page, wiki, gear, price, page, see, gear, r, members, ...</td>\n",
       "      <td>[mod, daily, question, thread, welcome, daily, r, question, thread, stupid, questions, ask, question, get, answer, start, somewhere, sometimes, hard, figure, right, wrong, luckily, r, community, loves, help, question, specific, piece, gear, gear, buying, much, grind, sure, much, hot, wondering, shelf, life, forget, resources, wiki, great, starter, guides, wiki, guides, page, wiki, gear, price,...</td>\n",
       "      <td>[mod, daily, question, thread]</td>\n",
       "      <td>[welcome, daily, r, question, thread, stupid, question, ask, question, get, answer, start, somewhere, sometimes, hard, figure, right, wrong, luckily, r, community, love, help, question, specific, piece, gear, gear, buying, much, grind, sure, much, hot, wondering, shelf, life, forget, resource, wiki, great, starter, guide, wiki, guide, page, wiki, gear, price, page, see, gear, r, member, recomm...</td>\n",
       "      <td>[mod, daily, question, thread, welcome, daily, r, question, thread, stupid, question, ask, question, get, answer, start, somewhere, sometimes, hard, figure, right, wrong, luckily, r, community, love, help, question, specific, piece, gear, gear, buying, much, grind, sure, much, hot, wondering, shelf, life, forget, resource, wiki, great, starter, guide, wiki, guide, page, wiki, gear, price, page...</td>\n",
       "    </tr>\n",
       "    <tr>\n",
       "      <th>1</th>\n",
       "      <td>Coffee</td>\n",
       "      <td>[MOD] The Official Deal Thread</td>\n",
       "      <td>Welcome to the /r/Coffee deal and promotional thread! In this weekly thread, industry folk can post upcoming deals or other promotions their companies are holding, or promote new products to /r/Coffee subscribers! Regular users can also post deals they come across. Come check out some of the roasters and other coffee-related businesses that Redditors work for!\\n\\nNote that this thread will be ...</td>\n",
       "      <td>[MOD] The Official Deal Thread Welcome to the /r/Coffee deal and promotional thread! In this weekly thread, industry folk can post upcoming deals or other promotions their companies are holding, or promote new products to /r/Coffee subscribers! Regular users can also post deals they come across. Come check out some of the roasters and other coffee-related businesses that Redditors work for!\\n\\...</td>\n",
       "      <td>mod  the official deal thread</td>\n",
       "      <td>welcome to the  r coffee deal and promotional thread  in this weekly thread  industry folk can post upcoming deals or other promotions their companies are holding  or promote new products to  r coffee subscribers  regular users can also post deals they come across  come check out some of the roasters and other coffee related businesses that redditors work for \\n\\nnote that this thread will be ...</td>\n",
       "      <td>mod  the official deal thread welcome to the  r coffee deal and promotional thread  in this weekly thread  industry folk can post upcoming deals or other promotions their companies are holding  or promote new products to  r coffee subscribers  regular users can also post deals they come across  come check out some of the roasters and other coffee related businesses that redditors work for \\n\\...</td>\n",
       "      <td>7</td>\n",
       "      <td>572</td>\n",
       "      <td>[mod, the, official, deal, thread]</td>\n",
       "      <td>[welcome, to, the, r, coffee, deal, and, promotional, thread, in, this, weekly, thread, industry, folk, can, post, upcoming, deals, or, other, promotions, their, companies, are, holding, or, promote, new, products, to, r, coffee, subscribers, regular, users, can, also, post, deals, they, come, across, come, check, out, some, of, the, roasters, and, other, coffee, related, businesses, that, red...</td>\n",
       "      <td>[mod, the, official, deal, thread, welcome, to, the, r, coffee, deal, and, promotional, thread, in, this, weekly, thread, industry, folk, can, post, upcoming, deals, or, other, promotions, their, companies, are, holding, or, promote, new, products, to, r, coffee, subscribers, regular, users, can, also, post, deals, they, come, across, come, check, out, some, of, the, roasters, and, other, coff...</td>\n",
       "      <td>[mod, official, deal, thread]</td>\n",
       "      <td>[welcome, r, deal, promotional, thread, weekly, thread, industry, folk, post, upcoming, deals, promotions, companies, holding, promote, new, products, r, subscribers, regular, users, also, post, deals, come, across, come, check, roasters, related, businesses, redditors, work, note, thread, weekly, least, duration, covid, outbreak, since, many, roasters, running, specials, usual, drum, business...</td>\n",
       "      <td>[mod, official, deal, thread, welcome, r, deal, promotional, thread, weekly, thread, industry, folk, post, upcoming, deals, promotions, companies, holding, promote, new, products, r, subscribers, regular, users, also, post, deals, come, across, come, check, roasters, related, businesses, redditors, work, note, thread, weekly, least, duration, covid, outbreak, since, many, roasters, running, sp...</td>\n",
       "      <td>[mod, official, deal, thread]</td>\n",
       "      <td>[welcome, r, deal, promotional, thread, weekly, thread, industry, folk, post, upcoming, deal, promotion, company, holding, promote, new, product, r, subscriber, regular, user, also, post, deal, come, across, come, check, roaster, related, business, redditors, work, note, thread, weekly, least, duration, covid, outbreak, since, many, roaster, running, special, usual, drum, business, encourage, ...</td>\n",
       "      <td>[mod, official, deal, thread, welcome, r, deal, promotional, thread, weekly, thread, industry, folk, post, upcoming, deal, promotion, company, holding, promote, new, product, r, subscriber, regular, user, also, post, deal, come, across, come, check, roaster, related, business, redditors, work, note, thread, weekly, least, duration, covid, outbreak, since, many, roaster, running, special, usual...</td>\n",
       "    </tr>\n",
       "    <tr>\n",
       "      <th>2</th>\n",
       "      <td>Coffee</td>\n",
       "      <td>TIL: The diameters of the Aeropress and Toddy Cold Brew bucket filters are almost exactly the same.</td>\n",
       "      <td>Went to make my annual summer toddy filter purchase today and noticed a few metal options I hadn't seen before, but looked suspiciously like the reusable steel filters for the Aeropress. On a whim, I went into my kitchen and boom: almost a perfect fit. I'll probably double-filter this batch through a french press or something, but should be more than enough to keep the majority of the grinds o...</td>\n",
       "      <td>TIL: The diameters of the Aeropress and Toddy Cold Brew bucket filters are almost exactly the same. Went to make my annual summer toddy filter purchase today and noticed a few metal options I hadn't seen before, but looked suspiciously like the reusable steel filters for the Aeropress. On a whim, I went into my kitchen and boom: almost a perfect fit. I'll probably double-filter this batch thro...</td>\n",
       "      <td>til  the diameters of the aeropress and toddy cold brew bucket filters are almost exactly the same</td>\n",
       "      <td>went to make my annual summer toddy filter purchase today and noticed a few metal options i hadn t seen before  but looked suspiciously like the reusable steel filters for the aeropress  on a whim  i went into my kitchen and boom  almost a perfect fit  i ll probably double filter this batch through a french press or something  but should be more than enough to keep the majority of the grinds o...</td>\n",
       "      <td>til  the diameters of the aeropress and toddy cold brew bucket filters are almost exactly the same  went to make my annual summer toddy filter purchase today and noticed a few metal options i hadn t seen before  but looked suspiciously like the reusable steel filters for the aeropress  on a whim  i went into my kitchen and boom  almost a perfect fit  i ll probably double filter this batch thro...</td>\n",
       "      <td>19</td>\n",
       "      <td>83</td>\n",
       "      <td>[til, the, diameters, of, the, aeropress, and, toddy, cold, brew, bucket, filters, are, almost, exactly, the, same]</td>\n",
       "      <td>[went, to, make, my, annual, summer, toddy, filter, purchase, today, and, noticed, a, few, metal, options, i, hadn, t, seen, before, but, looked, suspiciously, like, the, reusable, steel, filters, for, the, aeropress, on, a, whim, i, went, into, my, kitchen, and, boom, almost, a, perfect, fit, i, ll, probably, double, filter, this, batch, through, a, french, press, or, something, but, should, ...</td>\n",
       "      <td>[til, the, diameters, of, the, aeropress, and, toddy, cold, brew, bucket, filters, are, almost, exactly, the, same, went, to, make, my, annual, summer, toddy, filter, purchase, today, and, noticed, a, few, metal, options, i, hadn, t, seen, before, but, looked, suspiciously, like, the, reusable, steel, filters, for, the, aeropress, on, a, whim, i, went, into, my, kitchen, and, boom, almost, a, ...</td>\n",
       "      <td>[til, diameters, aeropress, toddy, cold, brew, bucket, filters, almost, exactly]</td>\n",
       "      <td>[went, annual, summer, toddy, filter, purchase, today, noticed, metal, options, seen, looked, suspiciously, reusable, steel, filters, aeropress, whim, went, kitchen, boom, almost, perfect, fit, probably, double, filter, batch, french, press, something, enough, keep, majority, grinds, drain]</td>\n",
       "      <td>[til, diameters, aeropress, toddy, cold, brew, bucket, filters, almost, exactly, went, annual, summer, toddy, filter, purchase, today, noticed, metal, options, seen, looked, suspiciously, reusable, steel, filters, aeropress, whim, went, kitchen, boom, almost, perfect, fit, probably, double, filter, batch, french, press, something, enough, keep, majority, grinds, drain]</td>\n",
       "      <td>[til, diameter, aeropress, toddy, cold, brew, bucket, filter, almost, exactly]</td>\n",
       "      <td>[went, annual, summer, toddy, filter, purchase, today, noticed, metal, option, seen, looked, suspiciously, reusable, steel, filter, aeropress, whim, went, kitchen, boom, almost, perfect, fit, probably, double, filter, batch, french, press, something, enough, keep, majority, grind, drain]</td>\n",
       "      <td>[til, diameter, aeropress, toddy, cold, brew, bucket, filter, almost, exactly, went, annual, summer, toddy, filter, purchase, today, noticed, metal, option, seen, looked, suspiciously, reusable, steel, filter, aeropress, whim, went, kitchen, boom, almost, perfect, fit, probably, double, filter, batch, french, press, something, enough, keep, majority, grind, drain]</td>\n",
       "    </tr>\n",
       "    <tr>\n",
       "      <th>3</th>\n",
       "      <td>Coffee</td>\n",
       "      <td>Coffee in Honduras</td>\n",
       "      <td>Honduras may be a tiny country, but its coffee is world-class.\\n\\nAfter traveling and tasting a wide variety of coffees, I've concluded that my statement is true; Honduras has the best coffee I have ever tasted. \\n\\nDo you agree with this? Have you tried Honduran coffee yet?</td>\n",
       "      <td>Coffee in Honduras Honduras may be a tiny country, but its coffee is world-class.\\n\\nAfter traveling and tasting a wide variety of coffees, I've concluded that my statement is true; Honduras has the best coffee I have ever tasted. \\n\\nDo you agree with this? Have you tried Honduran coffee yet?</td>\n",
       "      <td>coffee in honduras</td>\n",
       "      <td>honduras may be a tiny country  but its coffee is world class \\n\\nafter traveling and tasting a wide variety of coffees  i ve concluded that my statement is true  honduras has the best coffee i have ever tasted  \\n\\ndo you agree with this  have you tried honduran coffee yet</td>\n",
       "      <td>coffee in honduras honduras may be a tiny country  but its coffee is world class \\n\\nafter traveling and tasting a wide variety of coffees  i ve concluded that my statement is true  honduras has the best coffee i have ever tasted  \\n\\ndo you agree with this  have you tried honduran coffee yet</td>\n",
       "      <td>3</td>\n",
       "      <td>55</td>\n",
       "      <td>[coffee, in, honduras]</td>\n",
       "      <td>[honduras, may, be, a, tiny, country, but, its, coffee, is, world, class, after, traveling, and, tasting, a, wide, variety, of, coffees, i, ve, concluded, that, my, statement, is, true, honduras, has, the, best, coffee, i, have, ever, tasted, do, you, agree, with, this, have, you, tried, honduran, coffee, yet]</td>\n",
       "      <td>[coffee, in, honduras, honduras, may, be, a, tiny, country, but, its, coffee, is, world, class, after, traveling, and, tasting, a, wide, variety, of, coffees, i, ve, concluded, that, my, statement, is, true, honduras, has, the, best, coffee, i, have, ever, tasted, do, you, agree, with, this, have, you, tried, honduran, coffee, yet]</td>\n",
       "      <td>[honduras]</td>\n",
       "      <td>[honduras, may, tiny, country, world, class, traveling, tasting, wide, variety, coffees, concluded, statement, true, honduras, best, ever, tasted, agree, tried, honduran, yet]</td>\n",
       "      <td>[honduras, honduras, may, tiny, country, world, class, traveling, tasting, wide, variety, coffees, concluded, statement, true, honduras, best, ever, tasted, agree, tried, honduran, yet]</td>\n",
       "      <td>[honduras]</td>\n",
       "      <td>[honduras, may, tiny, country, world, class, traveling, tasting, wide, variety, coffee, concluded, statement, true, honduras, best, ever, tasted, agree, tried, honduran, yet]</td>\n",
       "      <td>[honduras, honduras, may, tiny, country, world, class, traveling, tasting, wide, variety, coffee, concluded, statement, true, honduras, best, ever, tasted, agree, tried, honduran, yet]</td>\n",
       "    </tr>\n",
       "    <tr>\n",
       "      <th>4</th>\n",
       "      <td>Coffee</td>\n",
       "      <td>Where have you tried your best coffee?</td>\n",
       "      <td>I wonder where you have tried your best coffee or what was the best moment when you realized that the coffee is the most delightful? Many of you might share stories about your trips to Europe or other places with the best coffee. I’ve tried the best coffee in my own house.\\n\\n&amp;amp;#x200B;\\n\\nWhen my BF and I decided to purchase a house, the story started. It wasn’t a spontaneous decision. We d...</td>\n",
       "      <td>Where have you tried your best coffee? I wonder where you have tried your best coffee or what was the best moment when you realized that the coffee is the most delightful? Many of you might share stories about your trips to Europe or other places with the best coffee. I’ve tried the best coffee in my own house.\\n\\n&amp;amp;#x200B;\\n\\nWhen my BF and I decided to purchase a house, the story started....</td>\n",
       "      <td>where have you tried your best coffee</td>\n",
       "      <td>i wonder where you have tried your best coffee or what was the best moment when you realized that the coffee is the most delightful  many of you might share stories about your trips to europe or other places with the best coffee  i’ve tried the best coffee in my own house \\n\\n amp  x   b \\n\\nwhen my bf and i decided to purchase a house  the story started  it wasn’t a spontaneous decision  we d...</td>\n",
       "      <td>where have you tried your best coffee  i wonder where you have tried your best coffee or what was the best moment when you realized that the coffee is the most delightful  many of you might share stories about your trips to europe or other places with the best coffee  i’ve tried the best coffee in my own house \\n\\n amp  x   b \\n\\nwhen my bf and i decided to purchase a house  the story started ...</td>\n",
       "      <td>8</td>\n",
       "      <td>467</td>\n",
       "      <td>[where, have, you, tried, your, best, coffee]</td>\n",
       "      <td>[i, wonder, where, you, have, tried, your, best, coffee, or, what, was, the, best, moment, when, you, realized, that, the, coffee, is, the, most, delightful, many, of, you, might, share, stories, about, your, trips, to, europe, or, other, places, with, the, best, coffee, i’ve, tried, the, best, coffee, in, my, own, house, amp, x, b, when, my, bf, and, i, decided, to, purchase, a, house, the, s...</td>\n",
       "      <td>[where, have, you, tried, your, best, coffee, i, wonder, where, you, have, tried, your, best, coffee, or, what, was, the, best, moment, when, you, realized, that, the, coffee, is, the, most, delightful, many, of, you, might, share, stories, about, your, trips, to, europe, or, other, places, with, the, best, coffee, i’ve, tried, the, best, coffee, in, my, own, house, amp, x, b, when, my, bf, an...</td>\n",
       "      <td>[tried, best]</td>\n",
       "      <td>[wonder, tried, best, best, moment, realized, delightful, many, might, share, stories, trips, europe, places, best, i’ve, tried, best, house, amp, x, b, bf, decided, purchase, house, story, started, wasn’t, spontaneous, decision, decided, move, together, rented, small, studio, apartment, used, live, cats, york, terrier, loved, apartment, close, work, downtown, bf, started, stay, often, decided...</td>\n",
       "      <td>[tried, best, wonder, tried, best, best, moment, realized, delightful, many, might, share, stories, trips, europe, places, best, i’ve, tried, best, house, amp, x, b, bf, decided, purchase, house, story, started, wasn’t, spontaneous, decision, decided, move, together, rented, small, studio, apartment, used, live, cats, york, terrier, loved, apartment, close, work, downtown, bf, started, stay, o...</td>\n",
       "      <td>[tried, best]</td>\n",
       "      <td>[wonder, tried, best, best, moment, realized, delightful, many, might, share, story, trip, europe, place, best, i’ve, tried, best, house, amp, x, b, bf, decided, purchase, house, story, started, wasn’t, spontaneous, decision, decided, move, together, rented, small, studio, apartment, used, live, cat, york, terrier, loved, apartment, close, work, downtown, bf, started, stay, often, decided, mov...</td>\n",
       "      <td>[tried, best, wonder, tried, best, best, moment, realized, delightful, many, might, share, story, trip, europe, place, best, i’ve, tried, best, house, amp, x, b, bf, decided, purchase, house, story, started, wasn’t, spontaneous, decision, decided, move, together, rented, small, studio, apartment, used, live, cat, york, terrier, loved, apartment, close, work, downtown, bf, started, stay, often,...</td>\n",
       "    </tr>\n",
       "    <tr>\n",
       "      <th>...</th>\n",
       "      <td>...</td>\n",
       "      <td>...</td>\n",
       "      <td>...</td>\n",
       "      <td>...</td>\n",
       "      <td>...</td>\n",
       "      <td>...</td>\n",
       "      <td>...</td>\n",
       "      <td>...</td>\n",
       "      <td>...</td>\n",
       "      <td>...</td>\n",
       "      <td>...</td>\n",
       "      <td>...</td>\n",
       "      <td>...</td>\n",
       "      <td>...</td>\n",
       "      <td>...</td>\n",
       "      <td>...</td>\n",
       "      <td>...</td>\n",
       "      <td>...</td>\n",
       "    </tr>\n",
       "    <tr>\n",
       "      <th>787</th>\n",
       "      <td>Coffee</td>\n",
       "      <td>Adjusting water hardness for different roasters?</td>\n",
       "      <td>Do you adjust water hardness when switching to another roaster's beans? Some roasters brew w/ very soft water (e.g. \\~20 - 30ppm), while use harder water. My tastebuds aren't particularly sensitive, but even a 50ppm difference makes a noticeable taste difference. \\n\\nHow do you know the water hardness roasters are using? Seems few roasters (like Phil &amp;amp; Sebastian) provide this information?\\...</td>\n",
       "      <td>Adjusting water hardness for different roasters? Do you adjust water hardness when switching to another roaster's beans? Some roasters brew w/ very soft water (e.g. \\~20 - 30ppm), while use harder water. My tastebuds aren't particularly sensitive, but even a 50ppm difference makes a noticeable taste difference. \\n\\nHow do you know the water hardness roasters are using? Seems few roasters (like...</td>\n",
       "      <td>adjusting water hardness for different roasters</td>\n",
       "      <td>do you adjust water hardness when switching to another roaster s beans  some roasters brew w  very soft water  e g  \\        ppm   while use harder water  my tastebuds aren t particularly sensitive  but even a   ppm difference makes a noticeable taste difference  \\n\\nhow do you know the water hardness roasters are using  seems few roasters  like phil  amp  sebastian  provide this information \\...</td>\n",
       "      <td>adjusting water hardness for different roasters  do you adjust water hardness when switching to another roaster s beans  some roasters brew w  very soft water  e g  \\        ppm   while use harder water  my tastebuds aren t particularly sensitive  but even a   ppm difference makes a noticeable taste difference  \\n\\nhow do you know the water hardness roasters are using  seems few roasters  like...</td>\n",
       "      <td>7</td>\n",
       "      <td>133</td>\n",
       "      <td>[adjusting, water, hardness, for, different, roasters]</td>\n",
       "      <td>[do, you, adjust, water, hardness, when, switching, to, another, roaster, s, beans, some, roasters, brew, w, very, soft, water, e, g, \\, ppm, while, use, harder, water, my, tastebuds, aren, t, particularly, sensitive, but, even, a, ppm, difference, makes, a, noticeable, taste, difference, how, do, you, know, the, water, hardness, roasters, are, using, seems, few, roasters, like, phil, amp, seb...</td>\n",
       "      <td>[adjusting, water, hardness, for, different, roasters, do, you, adjust, water, hardness, when, switching, to, another, roaster, s, beans, some, roasters, brew, w, very, soft, water, e, g, \\, ppm, while, use, harder, water, my, tastebuds, aren, t, particularly, sensitive, but, even, a, ppm, difference, makes, a, noticeable, taste, difference, how, do, you, know, the, water, hardness, roasters, ...</td>\n",
       "      <td>[adjusting, hardness, different, roasters]</td>\n",
       "      <td>[adjust, hardness, switching, another, roaster, beans, roasters, brew, w, soft, e, g, \\, ppm, harder, tastebuds, particularly, sensitive, even, ppm, difference, makes, noticeable, difference, hardness, roasters, seems, roasters, phil, amp, sebastian, provide, information, matter, keep, concentrate, third, wave, dilute, ppm, roaster, uses, brew, starting, wonder, waste, effort, curious, hear, t...</td>\n",
       "      <td>[adjusting, hardness, different, roasters, adjust, hardness, switching, another, roaster, beans, roasters, brew, w, soft, e, g, \\, ppm, harder, tastebuds, particularly, sensitive, even, ppm, difference, makes, noticeable, difference, hardness, roasters, seems, roasters, phil, amp, sebastian, provide, information, matter, keep, concentrate, third, wave, dilute, ppm, roaster, uses, brew, startin...</td>\n",
       "      <td>[adjusting, hardness, different, roaster]</td>\n",
       "      <td>[adjust, hardness, switching, another, roaster, bean, roaster, brew, w, soft, e, g, \\, ppm, harder, tastebud, particularly, sensitive, even, ppm, difference, make, noticeable, difference, hardness, roaster, seems, roaster, phil, amp, sebastian, provide, information, matter, keep, concentrate, third, wave, dilute, ppm, roaster, us, brew, starting, wonder, waste, effort, curious, hear, thought, ...</td>\n",
       "      <td>[adjusting, hardness, different, roaster, adjust, hardness, switching, another, roaster, bean, roaster, brew, w, soft, e, g, \\, ppm, harder, tastebud, particularly, sensitive, even, ppm, difference, make, noticeable, difference, hardness, roaster, seems, roaster, phil, amp, sebastian, provide, information, matter, keep, concentrate, third, wave, dilute, ppm, roaster, us, brew, starting, wonder...</td>\n",
       "    </tr>\n",
       "    <tr>\n",
       "      <th>789</th>\n",
       "      <td>Coffee</td>\n",
       "      <td>How do people get a decent cup with Hoffmans Aeropress recipe?</td>\n",
       "      <td>I was not able to get a single tasty cup using Hoffmans AP method. They all have been bitter as they were all way over extracted.\\n\\nWhich makes sense if you look at the aeropress world champion recipes ([https://aeropress.com/pages/wac-recipes](https://aeropress.com/pages/wac-recipes)) or the original one ([https://aeropress.com/pages/how-it-works](https://aeropress.com/pages/how-it-works)). ...</td>\n",
       "      <td>How do people get a decent cup with Hoffmans Aeropress recipe? I was not able to get a single tasty cup using Hoffmans AP method. They all have been bitter as they were all way over extracted.\\n\\nWhich makes sense if you look at the aeropress world champion recipes ([https://aeropress.com/pages/wac-recipes](https://aeropress.com/pages/wac-recipes)) or the original one ([https://aeropress.com/p...</td>\n",
       "      <td>how do people get a decent cup with hoffmans aeropress recipe</td>\n",
       "      <td>i was not able to get a single tasty cup using hoffmans ap method  they all have been bitter as they were all way over extracted \\n\\nwhich makes sense if you look at the aeropress world champion recipes     or the original one      both using half the amount of water and a much lower temperature  i  tried many different beans and really do wonder how people can enjoy a  cup using hoffmans meth...</td>\n",
       "      <td>how do people get a decent cup with hoffmans aeropress recipe  i was not able to get a single tasty cup using hoffmans ap method  they all have been bitter as they were all way over extracted \\n\\nwhich makes sense if you look at the aeropress world champion recipes     or the original one      both using half the amount of water and a much lower temperature  i  tried many different beans and r...</td>\n",
       "      <td>12</td>\n",
       "      <td>319</td>\n",
       "      <td>[how, do, people, get, a, decent, cup, with, hoffmans, aeropress, recipe]</td>\n",
       "      <td>[i, was, not, able, to, get, a, single, tasty, cup, using, hoffmans, ap, method, they, all, have, been, bitter, as, they, were, all, way, over, extracted, which, makes, sense, if, you, look, at, the, aeropress, world, champion, recipes, or, the, original, one, both, using, half, the, amount, of, water, and, a, much, lower, temperature, i, tried, many, different, beans, and, really, do, wonder,...</td>\n",
       "      <td>[how, do, people, get, a, decent, cup, with, hoffmans, aeropress, recipe, i, was, not, able, to, get, a, single, tasty, cup, using, hoffmans, ap, method, they, all, have, been, bitter, as, they, were, all, way, over, extracted, which, makes, sense, if, you, look, at, the, aeropress, world, champion, recipes, or, the, original, one, both, using, half, the, amount, of, water, and, a, much, lower...</td>\n",
       "      <td>[people, get, decent, cup, hoffmans, aeropress, recipe]</td>\n",
       "      <td>[able, get, single, tasty, cup, hoffmans, ap, method, bitter, way, extracted, makes, sense, look, aeropress, world, champion, recipes, original, one, half, amount, much, lower, temperature, tried, many, different, beans, wonder, people, enjoy, cup, hoffmans, method, sorry, ifsounding, rude, tried, many, many, times, able, get, one, single, tasty, cup, wc, recipes, even, corse, grind, also, opp...</td>\n",
       "      <td>[people, get, decent, cup, hoffmans, aeropress, recipe, able, get, single, tasty, cup, hoffmans, ap, method, bitter, way, extracted, makes, sense, look, aeropress, world, champion, recipes, original, one, half, amount, much, lower, temperature, tried, many, different, beans, wonder, people, enjoy, cup, hoffmans, method, sorry, ifsounding, rude, tried, many, many, times, able, get, one, single,...</td>\n",
       "      <td>[people, get, decent, cup, hoffman, aeropress, recipe]</td>\n",
       "      <td>[able, get, single, tasty, cup, hoffman, ap, method, bitter, way, extracted, make, sense, look, aeropress, world, champion, recipe, original, one, half, amount, much, lower, temperature, tried, many, different, bean, wonder, people, enjoy, cup, hoffman, method, sorry, ifsounding, rude, tried, many, many, time, able, get, one, single, tasty, cup, wc, recipe, even, corse, grind, also, opposite, ...</td>\n",
       "      <td>[people, get, decent, cup, hoffman, aeropress, recipe, able, get, single, tasty, cup, hoffman, ap, method, bitter, way, extracted, make, sense, look, aeropress, world, champion, recipe, original, one, half, amount, much, lower, temperature, tried, many, different, bean, wonder, people, enjoy, cup, hoffman, method, sorry, ifsounding, rude, tried, many, many, time, able, get, one, single, tasty,...</td>\n",
       "    </tr>\n",
       "    <tr>\n",
       "      <th>792</th>\n",
       "      <td>Coffee</td>\n",
       "      <td>Poor experience with fellow ode</td>\n",
       "      <td>I purchased my ode in June of 2021. This is when the 1.1 burrs were supposed to be in the machines (anything manufactured after Q1 2021). The machine I received was manufactured in Q4 of 2020 (no 1.1 burrs). I thought ok…. I’ll reach out to customer service and just see if they will send me the burrs as I purchased the machine with the belief that it came with the 1.1 burrs. I was told that du...</td>\n",
       "      <td>Poor experience with fellow ode I purchased my ode in June of 2021. This is when the 1.1 burrs were supposed to be in the machines (anything manufactured after Q1 2021). The machine I received was manufactured in Q4 of 2020 (no 1.1 burrs). I thought ok…. I’ll reach out to customer service and just see if they will send me the burrs as I purchased the machine with the belief that it came with t...</td>\n",
       "      <td>poor experience with fellow ode</td>\n",
       "      <td>i purchased my ode in june of       this is when the     burrs were supposed to be in the machines  anything manufactured after q         the machine i received was manufactured in q  of       no     burrs   i thought ok…  i’ll reach out to customer service and just see if they will send me the burrs as i purchased the machine with the belief that it came with the     burrs  i was told that du...</td>\n",
       "      <td>poor experience with fellow ode i purchased my ode in june of       this is when the     burrs were supposed to be in the machines  anything manufactured after q         the machine i received was manufactured in q  of       no     burrs   i thought ok…  i’ll reach out to customer service and just see if they will send me the burrs as i purchased the machine with the belief that it came with t...</td>\n",
       "      <td>5</td>\n",
       "      <td>228</td>\n",
       "      <td>[poor, experience, with, fellow, ode]</td>\n",
       "      <td>[i, purchased, my, ode, in, june, of, this, is, when, the, burrs, were, supposed, to, be, in, the, machines, anything, manufactured, after, q, the, machine, i, received, was, manufactured, in, q, of, no, burrs, i, thought, ok…, i’ll, reach, out, to, customer, service, and, just, see, if, they, will, send, me, the, burrs, as, i, purchased, the, machine, with, the, belief, that, it, came, with, ...</td>\n",
       "      <td>[poor, experience, with, fellow, ode, i, purchased, my, ode, in, june, of, this, is, when, the, burrs, were, supposed, to, be, in, the, machines, anything, manufactured, after, q, the, machine, i, received, was, manufactured, in, q, of, no, burrs, i, thought, ok…, i’ll, reach, out, to, customer, service, and, just, see, if, they, will, send, me, the, burrs, as, i, purchased, the, machine, with...</td>\n",
       "      <td>[poor, experience, fellow, ode]</td>\n",
       "      <td>[purchased, ode, june, burrs, supposed, machines, anything, manufactured, q, machine, received, manufactured, q, burrs, thought, ok…, i’ll, reach, customer, service, see, send, burrs, purchased, machine, belief, came, burrs, told, purchased, ode, fellow, guaranteeing, burrs, customers, however, anyone, purchases, get, burrs, v, comes, customer, buy, v, burrs, cost, feel, experience, pretty, sh...</td>\n",
       "      <td>[poor, experience, fellow, ode, purchased, ode, june, burrs, supposed, machines, anything, manufactured, q, machine, received, manufactured, q, burrs, thought, ok…, i’ll, reach, customer, service, see, send, burrs, purchased, machine, belief, came, burrs, told, purchased, ode, fellow, guaranteeing, burrs, customers, however, anyone, purchases, get, burrs, v, comes, customer, buy, v, burrs, cos...</td>\n",
       "      <td>[poor, experience, fellow, ode]</td>\n",
       "      <td>[purchased, ode, june, burr, supposed, machine, anything, manufactured, q, machine, received, manufactured, q, burr, thought, ok…, i’ll, reach, customer, service, see, send, burr, purchased, machine, belief, came, burr, told, purchased, ode, fellow, guaranteeing, burr, customer, however, anyone, purchase, get, burr, v, come, customer, buy, v, burr, cost, feel, experience, pretty, shitty, suck,...</td>\n",
       "      <td>[poor, experience, fellow, ode, purchased, ode, june, burr, supposed, machine, anything, manufactured, q, machine, received, manufactured, q, burr, thought, ok…, i’ll, reach, customer, service, see, send, burr, purchased, machine, belief, came, burr, told, purchased, ode, fellow, guaranteeing, burr, customer, however, anyone, purchase, get, burr, v, come, customer, buy, v, burr, cost, feel, ex...</td>\n",
       "    </tr>\n",
       "    <tr>\n",
       "      <th>793</th>\n",
       "      <td>Coffee</td>\n",
       "      <td>Homebuilt Espresso Machine. I was a barista for 7 years, and am sad that I dont serve coffee anymore. I have always been a very mechanical person, therefore I obsessed over this idea for a long time. I spent the last 1 1/2 years designing, coding, and building my own machine. Hope you enjoy :)</td>\n",
       "      <td></td>\n",
       "      <td>Homebuilt Espresso Machine. I was a barista for 7 years, and am sad that I dont serve coffee anymore. I have always been a very mechanical person, therefore I obsessed over this idea for a long time. I spent the last 1 1/2 years designing, coding, and building my own machine. Hope you enjoy :)</td>\n",
       "      <td>homebuilt espresso machine  i was a barista for   years  and am sad that i dont serve coffee anymore  i have always been a very mechanical person  therefore i obsessed over this idea for a long time  i spent the last       years designing  coding  and building my own machine  hope you enjoy</td>\n",
       "      <td></td>\n",
       "      <td>homebuilt espresso machine  i was a barista for   years  and am sad that i dont serve coffee anymore  i have always been a very mechanical person  therefore i obsessed over this idea for a long time  i spent the last       years designing  coding  and building my own machine  hope you enjoy</td>\n",
       "      <td>70</td>\n",
       "      <td>2</td>\n",
       "      <td>[homebuilt, espresso, machine, i, was, a, barista, for, years, and, am, sad, that, i, dont, serve, coffee, anymore, i, have, always, been, a, very, mechanical, person, therefore, i, obsessed, over, this, idea, for, a, long, time, i, spent, the, last, years, designing, coding, and, building, my, own, machine, hope, you, enjoy]</td>\n",
       "      <td>[]</td>\n",
       "      <td>[homebuilt, espresso, machine, i, was, a, barista, for, years, and, am, sad, that, i, dont, serve, coffee, anymore, i, have, always, been, a, very, mechanical, person, therefore, i, obsessed, over, this, idea, for, a, long, time, i, spent, the, last, years, designing, coding, and, building, my, own, machine, hope, you, enjoy]</td>\n",
       "      <td>[homebuilt, espresso, machine, barista, years, sad, dont, serve, anymore, always, mechanical, person, therefore, obsessed, idea, long, spent, last, years, designing, coding, building, machine, hope, enjoy]</td>\n",
       "      <td>[]</td>\n",
       "      <td>[homebuilt, espresso, machine, barista, years, sad, dont, serve, anymore, always, mechanical, person, therefore, obsessed, idea, long, spent, last, years, designing, coding, building, machine, hope, enjoy]</td>\n",
       "      <td>[homebuilt, espresso, machine, barista, year, sad, dont, serve, anymore, always, mechanical, person, therefore, obsessed, idea, long, spent, last, year, designing, coding, building, machine, hope, enjoy]</td>\n",
       "      <td>[]</td>\n",
       "      <td>[homebuilt, espresso, machine, barista, year, sad, dont, serve, anymore, always, mechanical, person, therefore, obsessed, idea, long, spent, last, year, designing, coding, building, machine, hope, enjoy]</td>\n",
       "    </tr>\n",
       "    <tr>\n",
       "      <th>2382</th>\n",
       "      <td>Coffee</td>\n",
       "      <td>I can drink coffee again!</td>\n",
       "      <td>Okay, I’m sure there is a very anti-decaf leaning in this sub, and I understand why. My situation is that my body really rejects stimulants. One cup of regular coffee for me is like six cups in a row for someone else — I get the sweats, nausea, shaking so hard I have to lie down. \\n\\nA few years ago I had a cup of “decaf” to which I reacted this way. Not knowing whether my body’s sensitivity h...</td>\n",
       "      <td>I can drink coffee again! Okay, I’m sure there is a very anti-decaf leaning in this sub, and I understand why. My situation is that my body really rejects stimulants. One cup of regular coffee for me is like six cups in a row for someone else — I get the sweats, nausea, shaking so hard I have to lie down. \\n\\nA few years ago I had a cup of “decaf” to which I reacted this way. Not knowing wheth...</td>\n",
       "      <td>i can drink coffee again</td>\n",
       "      <td>okay  i’m sure there is a very anti decaf leaning in this sub  and i understand why  my situation is that my body really rejects stimulants  one cup of regular coffee for me is like six cups in a row for someone else — i get the sweats  nausea  shaking so hard i have to lie down  \\n\\na few years ago i had a cup of “decaf” to which i reacted this way  not knowing whether my body’s sensitivity h...</td>\n",
       "      <td>i can drink coffee again  okay  i’m sure there is a very anti decaf leaning in this sub  and i understand why  my situation is that my body really rejects stimulants  one cup of regular coffee for me is like six cups in a row for someone else — i get the sweats  nausea  shaking so hard i have to lie down  \\n\\na few years ago i had a cup of “decaf” to which i reacted this way  not knowing wheth...</td>\n",
       "      <td>6</td>\n",
       "      <td>285</td>\n",
       "      <td>[i, can, drink, coffee, again]</td>\n",
       "      <td>[okay, i’m, sure, there, is, a, very, anti, decaf, leaning, in, this, sub, and, i, understand, why, my, situation, is, that, my, body, really, rejects, stimulants, one, cup, of, regular, coffee, for, me, is, like, six, cups, in, a, row, for, someone, else, —, i, get, the, sweats, nausea, shaking, so, hard, i, have, to, lie, down, a, few, years, ago, i, had, a, cup, of, “decaf”, to, which, i, r...</td>\n",
       "      <td>[i, can, drink, coffee, again, okay, i’m, sure, there, is, a, very, anti, decaf, leaning, in, this, sub, and, i, understand, why, my, situation, is, that, my, body, really, rejects, stimulants, one, cup, of, regular, coffee, for, me, is, like, six, cups, in, a, row, for, someone, else, —, i, get, the, sweats, nausea, shaking, so, hard, i, have, to, lie, down, a, few, years, ago, i, had, a, cup...</td>\n",
       "      <td>[]</td>\n",
       "      <td>[okay, i’m, sure, anti, decaf, leaning, sub, understand, situation, body, rejects, stimulants, one, cup, regular, six, cups, row, someone, else, —, get, sweats, nausea, shaking, hard, lie, years, ago, cup, “decaf”, reacted, way, knowing, whether, body’s, sensitivity, skyrocketed, i’m, disabled, ms, things, reactions, things, change, whether, mislabeled, cup, gave, entirely, figured, recently, ...</td>\n",
       "      <td>[okay, i’m, sure, anti, decaf, leaning, sub, understand, situation, body, rejects, stimulants, one, cup, regular, six, cups, row, someone, else, —, get, sweats, nausea, shaking, hard, lie, years, ago, cup, “decaf”, reacted, way, knowing, whether, body’s, sensitivity, skyrocketed, i’m, disabled, ms, things, reactions, things, change, whether, mislabeled, cup, gave, entirely, figured, recently, ...</td>\n",
       "      <td>[]</td>\n",
       "      <td>[okay, i’m, sure, anti, decaf, leaning, sub, understand, situation, body, reject, stimulant, one, cup, regular, six, cup, row, someone, else, —, get, sweat, nausea, shaking, hard, lie, year, ago, cup, “decaf”, reacted, way, knowing, whether, body’s, sensitivity, skyrocketed, i’m, disabled, m, thing, reaction, thing, change, whether, mislabeled, cup, gave, entirely, figured, recently, find, sur...</td>\n",
       "      <td>[okay, i’m, sure, anti, decaf, leaning, sub, understand, situation, body, reject, stimulant, one, cup, regular, six, cup, row, someone, else, —, get, sweat, nausea, shaking, hard, lie, year, ago, cup, “decaf”, reacted, way, knowing, whether, body’s, sensitivity, skyrocketed, i’m, disabled, m, thing, reaction, thing, change, whether, mislabeled, cup, gave, entirely, figured, recently, find, sur...</td>\n",
       "    </tr>\n",
       "  </tbody>\n",
       "</table>\n",
       "<p>628 rows × 18 columns</p>\n",
       "</div>"
      ],
      "text/plain": [
       "     subreddit  \\\n",
       "0       Coffee   \n",
       "1       Coffee   \n",
       "2       Coffee   \n",
       "3       Coffee   \n",
       "4       Coffee   \n",
       "...        ...   \n",
       "787     Coffee   \n",
       "789     Coffee   \n",
       "792     Coffee   \n",
       "793     Coffee   \n",
       "2382    Coffee   \n",
       "\n",
       "                                                                                                                                                                                                                                                                                                       title  \\\n",
       "0                                                                                                                                                                                                                                                                            [MOD] The Daily Question Thread   \n",
       "1                                                                                                                                                                                                                                                                             [MOD] The Official Deal Thread   \n",
       "2                                                                                                                                                                                                        TIL: The diameters of the Aeropress and Toddy Cold Brew bucket filters are almost exactly the same.   \n",
       "3                                                                                                                                                                                                                                                                                         Coffee in Honduras   \n",
       "4                                                                                                                                                                                                                                                                     Where have you tried your best coffee?   \n",
       "...                                                                                                                                                                                                                                                                                                      ...   \n",
       "787                                                                                                                                                                                                                                                         Adjusting water hardness for different roasters?   \n",
       "789                                                                                                                                                                                                                                           How do people get a decent cup with Hoffmans Aeropress recipe?   \n",
       "792                                                                                                                                                                                                                                                                          Poor experience with fellow ode   \n",
       "793   Homebuilt Espresso Machine. I was a barista for 7 years, and am sad that I dont serve coffee anymore. I have always been a very mechanical person, therefore I obsessed over this idea for a long time. I spent the last 1 1/2 years designing, coding, and building my own machine. Hope you enjoy :)   \n",
       "2382                                                                                                                                                                                                                                                                               I can drink coffee again!   \n",
       "\n",
       "                                                                                                                                                                                                                                                                                                                                                                                                             selftext  \\\n",
       "0      \\n\\nWelcome to the daily [/r/Coffee](https://www.reddit.com/r/Coffee) question thread!\\n\\nThere are no stupid questions here, ask a question and get an answer! We all have to start somewhere and sometimes it is hard to figure out just what you are doing right or doing wrong. Luckily, the [/r/Coffee](https://www.reddit.com/r/Coffee) community loves to help out.\\n\\nDo you have a question about ...   \n",
       "1     Welcome to the /r/Coffee deal and promotional thread! In this weekly thread, industry folk can post upcoming deals or other promotions their companies are holding, or promote new products to /r/Coffee subscribers! Regular users can also post deals they come across. Come check out some of the roasters and other coffee-related businesses that Redditors work for!\\n\\nNote that this thread will be ...   \n",
       "2     Went to make my annual summer toddy filter purchase today and noticed a few metal options I hadn't seen before, but looked suspiciously like the reusable steel filters for the Aeropress. On a whim, I went into my kitchen and boom: almost a perfect fit. I'll probably double-filter this batch through a french press or something, but should be more than enough to keep the majority of the grinds o...   \n",
       "3                                                                                                                                 Honduras may be a tiny country, but its coffee is world-class.\\n\\nAfter traveling and tasting a wide variety of coffees, I've concluded that my statement is true; Honduras has the best coffee I have ever tasted. \\n\\nDo you agree with this? Have you tried Honduran coffee yet?   \n",
       "4     I wonder where you have tried your best coffee or what was the best moment when you realized that the coffee is the most delightful? Many of you might share stories about your trips to Europe or other places with the best coffee. I’ve tried the best coffee in my own house.\\n\\n&amp;#x200B;\\n\\nWhen my BF and I decided to purchase a house, the story started. It wasn’t a spontaneous decision. We d...   \n",
       "...                                                                                                                                                                                                                                                                                                                                                                                                               ...   \n",
       "787   Do you adjust water hardness when switching to another roaster's beans? Some roasters brew w/ very soft water (e.g. \\~20 - 30ppm), while use harder water. My tastebuds aren't particularly sensitive, but even a 50ppm difference makes a noticeable taste difference. \\n\\nHow do you know the water hardness roasters are using? Seems few roasters (like Phil &amp; Sebastian) provide this information?\\...   \n",
       "789   I was not able to get a single tasty cup using Hoffmans AP method. They all have been bitter as they were all way over extracted.\\n\\nWhich makes sense if you look at the aeropress world champion recipes ([https://aeropress.com/pages/wac-recipes](https://aeropress.com/pages/wac-recipes)) or the original one ([https://aeropress.com/pages/how-it-works](https://aeropress.com/pages/how-it-works)). ...   \n",
       "792   I purchased my ode in June of 2021. This is when the 1.1 burrs were supposed to be in the machines (anything manufactured after Q1 2021). The machine I received was manufactured in Q4 of 2020 (no 1.1 burrs). I thought ok…. I’ll reach out to customer service and just see if they will send me the burrs as I purchased the machine with the belief that it came with the 1.1 burrs. I was told that du...   \n",
       "793                                                                                                                                                                                                                                                                                                                                                                                                                     \n",
       "2382  Okay, I’m sure there is a very anti-decaf leaning in this sub, and I understand why. My situation is that my body really rejects stimulants. One cup of regular coffee for me is like six cups in a row for someone else — I get the sweats, nausea, shaking so hard I have to lie down. \\n\\nA few years ago I had a cup of “decaf” to which I reacted this way. Not knowing whether my body’s sensitivity h...   \n",
       "\n",
       "                                                                                                                                                                                                                                                                                                                                                                                                              alltext  \\\n",
       "0     [MOD] The Daily Question Thread  \\n\\nWelcome to the daily [/r/Coffee](https://www.reddit.com/r/Coffee) question thread!\\n\\nThere are no stupid questions here, ask a question and get an answer! We all have to start somewhere and sometimes it is hard to figure out just what you are doing right or doing wrong. Luckily, the [/r/Coffee](https://www.reddit.com/r/Coffee) community loves to help out.\\...   \n",
       "1     [MOD] The Official Deal Thread Welcome to the /r/Coffee deal and promotional thread! In this weekly thread, industry folk can post upcoming deals or other promotions their companies are holding, or promote new products to /r/Coffee subscribers! Regular users can also post deals they come across. Come check out some of the roasters and other coffee-related businesses that Redditors work for!\\n\\...   \n",
       "2     TIL: The diameters of the Aeropress and Toddy Cold Brew bucket filters are almost exactly the same. Went to make my annual summer toddy filter purchase today and noticed a few metal options I hadn't seen before, but looked suspiciously like the reusable steel filters for the Aeropress. On a whim, I went into my kitchen and boom: almost a perfect fit. I'll probably double-filter this batch thro...   \n",
       "3                                                                                                              Coffee in Honduras Honduras may be a tiny country, but its coffee is world-class.\\n\\nAfter traveling and tasting a wide variety of coffees, I've concluded that my statement is true; Honduras has the best coffee I have ever tasted. \\n\\nDo you agree with this? Have you tried Honduran coffee yet?   \n",
       "4     Where have you tried your best coffee? I wonder where you have tried your best coffee or what was the best moment when you realized that the coffee is the most delightful? Many of you might share stories about your trips to Europe or other places with the best coffee. I’ve tried the best coffee in my own house.\\n\\n&amp;#x200B;\\n\\nWhen my BF and I decided to purchase a house, the story started....   \n",
       "...                                                                                                                                                                                                                                                                                                                                                                                                               ...   \n",
       "787   Adjusting water hardness for different roasters? Do you adjust water hardness when switching to another roaster's beans? Some roasters brew w/ very soft water (e.g. \\~20 - 30ppm), while use harder water. My tastebuds aren't particularly sensitive, but even a 50ppm difference makes a noticeable taste difference. \\n\\nHow do you know the water hardness roasters are using? Seems few roasters (like...   \n",
       "789   How do people get a decent cup with Hoffmans Aeropress recipe? I was not able to get a single tasty cup using Hoffmans AP method. They all have been bitter as they were all way over extracted.\\n\\nWhich makes sense if you look at the aeropress world champion recipes ([https://aeropress.com/pages/wac-recipes](https://aeropress.com/pages/wac-recipes)) or the original one ([https://aeropress.com/p...   \n",
       "792   Poor experience with fellow ode I purchased my ode in June of 2021. This is when the 1.1 burrs were supposed to be in the machines (anything manufactured after Q1 2021). The machine I received was manufactured in Q4 of 2020 (no 1.1 burrs). I thought ok…. I’ll reach out to customer service and just see if they will send me the burrs as I purchased the machine with the belief that it came with t...   \n",
       "793                                                                                                          Homebuilt Espresso Machine. I was a barista for 7 years, and am sad that I dont serve coffee anymore. I have always been a very mechanical person, therefore I obsessed over this idea for a long time. I spent the last 1 1/2 years designing, coding, and building my own machine. Hope you enjoy :)     \n",
       "2382  I can drink coffee again! Okay, I’m sure there is a very anti-decaf leaning in this sub, and I understand why. My situation is that my body really rejects stimulants. One cup of regular coffee for me is like six cups in a row for someone else — I get the sweats, nausea, shaking so hard I have to lie down. \\n\\nA few years ago I had a cup of “decaf” to which I reacted this way. Not knowing wheth...   \n",
       "\n",
       "                                                                                                                                                                                                                                                                                               title_cleaned  \\\n",
       "0                                                                                                                                                                                                                                                                             mod  the daily question thread   \n",
       "1                                                                                                                                                                                                                                                                              mod  the official deal thread   \n",
       "2                                                                                                                                                                                                        til  the diameters of the aeropress and toddy cold brew bucket filters are almost exactly the same    \n",
       "3                                                                                                                                                                                                                                                                                         coffee in honduras   \n",
       "4                                                                                                                                                                                                                                                                     where have you tried your best coffee    \n",
       "...                                                                                                                                                                                                                                                                                                      ...   \n",
       "787                                                                                                                                                                                                                                                         adjusting water hardness for different roasters    \n",
       "789                                                                                                                                                                                                                                           how do people get a decent cup with hoffmans aeropress recipe    \n",
       "792                                                                                                                                                                                                                                                                          poor experience with fellow ode   \n",
       "793   homebuilt espresso machine  i was a barista for   years  and am sad that i dont serve coffee anymore  i have always been a very mechanical person  therefore i obsessed over this idea for a long time  i spent the last       years designing  coding  and building my own machine  hope you enjoy      \n",
       "2382                                                                                                                                                                                                                                                                               i can drink coffee again    \n",
       "\n",
       "                                                                                                                                                                                                                                                                                                                                                                                                     selftext_cleaned  \\\n",
       "0      \\n\\nwelcome to the daily   r coffee    question thread \\n\\nthere are no stupid questions here  ask a question and get an answer  we all have to start somewhere and sometimes it is hard to figure out just what you are doing right or doing wrong  luckily  the   r coffee    community loves to help out \\n\\ndo you have a question about how to use a specific piece of gear or what gear you should be...   \n",
       "1     welcome to the  r coffee deal and promotional thread  in this weekly thread  industry folk can post upcoming deals or other promotions their companies are holding  or promote new products to  r coffee subscribers  regular users can also post deals they come across  come check out some of the roasters and other coffee related businesses that redditors work for \\n\\nnote that this thread will be ...   \n",
       "2     went to make my annual summer toddy filter purchase today and noticed a few metal options i hadn t seen before  but looked suspiciously like the reusable steel filters for the aeropress  on a whim  i went into my kitchen and boom  almost a perfect fit  i ll probably double filter this batch through a french press or something  but should be more than enough to keep the majority of the grinds o...   \n",
       "3                                                                                                                                 honduras may be a tiny country  but its coffee is world class \\n\\nafter traveling and tasting a wide variety of coffees  i ve concluded that my statement is true  honduras has the best coffee i have ever tasted  \\n\\ndo you agree with this  have you tried honduran coffee yet    \n",
       "4     i wonder where you have tried your best coffee or what was the best moment when you realized that the coffee is the most delightful  many of you might share stories about your trips to europe or other places with the best coffee  i’ve tried the best coffee in my own house \\n\\n amp  x   b \\n\\nwhen my bf and i decided to purchase a house  the story started  it wasn’t a spontaneous decision  we d...   \n",
       "...                                                                                                                                                                                                                                                                                                                                                                                                               ...   \n",
       "787   do you adjust water hardness when switching to another roaster s beans  some roasters brew w  very soft water  e g  \\        ppm   while use harder water  my tastebuds aren t particularly sensitive  but even a   ppm difference makes a noticeable taste difference  \\n\\nhow do you know the water hardness roasters are using  seems few roasters  like phil  amp  sebastian  provide this information \\...   \n",
       "789   i was not able to get a single tasty cup using hoffmans ap method  they all have been bitter as they were all way over extracted \\n\\nwhich makes sense if you look at the aeropress world champion recipes     or the original one      both using half the amount of water and a much lower temperature  i  tried many different beans and really do wonder how people can enjoy a  cup using hoffmans meth...   \n",
       "792   i purchased my ode in june of       this is when the     burrs were supposed to be in the machines  anything manufactured after q         the machine i received was manufactured in q  of       no     burrs   i thought ok…  i’ll reach out to customer service and just see if they will send me the burrs as i purchased the machine with the belief that it came with the     burrs  i was told that du...   \n",
       "793                                                                                                                                                                                                                                                                                                                                                                                                                     \n",
       "2382  okay  i’m sure there is a very anti decaf leaning in this sub  and i understand why  my situation is that my body really rejects stimulants  one cup of regular coffee for me is like six cups in a row for someone else — i get the sweats  nausea  shaking so hard i have to lie down  \\n\\na few years ago i had a cup of “decaf” to which i reacted this way  not knowing whether my body’s sensitivity h...   \n",
       "\n",
       "                                                                                                                                                                                                                                                                                                                                                                                                      alltext_cleaned  \\\n",
       "0      mod  the daily question thread  \\n\\nwelcome to the daily   r coffee    question thread \\n\\nthere are no stupid questions here  ask a question and get an answer  we all have to start somewhere and sometimes it is hard to figure out just what you are doing right or doing wrong  luckily  the   r coffee    community loves to help out \\n\\ndo you have a question about how to use a specific piece of...   \n",
       "1      mod  the official deal thread welcome to the  r coffee deal and promotional thread  in this weekly thread  industry folk can post upcoming deals or other promotions their companies are holding  or promote new products to  r coffee subscribers  regular users can also post deals they come across  come check out some of the roasters and other coffee related businesses that redditors work for \\n\\...   \n",
       "2     til  the diameters of the aeropress and toddy cold brew bucket filters are almost exactly the same  went to make my annual summer toddy filter purchase today and noticed a few metal options i hadn t seen before  but looked suspiciously like the reusable steel filters for the aeropress  on a whim  i went into my kitchen and boom  almost a perfect fit  i ll probably double filter this batch thro...   \n",
       "3                                                                                                              coffee in honduras honduras may be a tiny country  but its coffee is world class \\n\\nafter traveling and tasting a wide variety of coffees  i ve concluded that my statement is true  honduras has the best coffee i have ever tasted  \\n\\ndo you agree with this  have you tried honduran coffee yet    \n",
       "4     where have you tried your best coffee  i wonder where you have tried your best coffee or what was the best moment when you realized that the coffee is the most delightful  many of you might share stories about your trips to europe or other places with the best coffee  i’ve tried the best coffee in my own house \\n\\n amp  x   b \\n\\nwhen my bf and i decided to purchase a house  the story started ...   \n",
       "...                                                                                                                                                                                                                                                                                                                                                                                                               ...   \n",
       "787   adjusting water hardness for different roasters  do you adjust water hardness when switching to another roaster s beans  some roasters brew w  very soft water  e g  \\        ppm   while use harder water  my tastebuds aren t particularly sensitive  but even a   ppm difference makes a noticeable taste difference  \\n\\nhow do you know the water hardness roasters are using  seems few roasters  like...   \n",
       "789   how do people get a decent cup with hoffmans aeropress recipe  i was not able to get a single tasty cup using hoffmans ap method  they all have been bitter as they were all way over extracted \\n\\nwhich makes sense if you look at the aeropress world champion recipes     or the original one      both using half the amount of water and a much lower temperature  i  tried many different beans and r...   \n",
       "792   poor experience with fellow ode i purchased my ode in june of       this is when the     burrs were supposed to be in the machines  anything manufactured after q         the machine i received was manufactured in q  of       no     burrs   i thought ok…  i’ll reach out to customer service and just see if they will send me the burrs as i purchased the machine with the belief that it came with t...   \n",
       "793                                                                                                          homebuilt espresso machine  i was a barista for   years  and am sad that i dont serve coffee anymore  i have always been a very mechanical person  therefore i obsessed over this idea for a long time  i spent the last       years designing  coding  and building my own machine  hope you enjoy        \n",
       "2382  i can drink coffee again  okay  i’m sure there is a very anti decaf leaning in this sub  and i understand why  my situation is that my body really rejects stimulants  one cup of regular coffee for me is like six cups in a row for someone else — i get the sweats  nausea  shaking so hard i have to lie down  \\n\\na few years ago i had a cup of “decaf” to which i reacted this way  not knowing wheth...   \n",
       "\n",
       "      title_word_count  selftext_word_count  \\\n",
       "0                    7                  199   \n",
       "1                    7                  572   \n",
       "2                   19                   83   \n",
       "3                    3                   55   \n",
       "4                    8                  467   \n",
       "...                ...                  ...   \n",
       "787                  7                  133   \n",
       "789                 12                  319   \n",
       "792                  5                  228   \n",
       "793                 70                    2   \n",
       "2382                 6                  285   \n",
       "\n",
       "                                                                                                                                                                                                                                                                                                                                  title_token  \\\n",
       "0                                                                                                                                                                                                                                                                                                         [mod, the, daily, question, thread]   \n",
       "1                                                                                                                                                                                                                                                                                                          [mod, the, official, deal, thread]   \n",
       "2                                                                                                                                                                                                                         [til, the, diameters, of, the, aeropress, and, toddy, cold, brew, bucket, filters, are, almost, exactly, the, same]   \n",
       "3                                                                                                                                                                                                                                                                                                                      [coffee, in, honduras]   \n",
       "4                                                                                                                                                                                                                                                                                               [where, have, you, tried, your, best, coffee]   \n",
       "...                                                                                                                                                                                                                                                                                                                                       ...   \n",
       "787                                                                                                                                                                                                                                                                                    [adjusting, water, hardness, for, different, roasters]   \n",
       "789                                                                                                                                                                                                                                                                 [how, do, people, get, a, decent, cup, with, hoffmans, aeropress, recipe]   \n",
       "792                                                                                                                                                                                                                                                                                                     [poor, experience, with, fellow, ode]   \n",
       "793   [homebuilt, espresso, machine, i, was, a, barista, for, years, and, am, sad, that, i, dont, serve, coffee, anymore, i, have, always, been, a, very, mechanical, person, therefore, i, obsessed, over, this, idea, for, a, long, time, i, spent, the, last, years, designing, coding, and, building, my, own, machine, hope, you, enjoy]   \n",
       "2382                                                                                                                                                                                                                                                                                                           [i, can, drink, coffee, again]   \n",
       "\n",
       "                                                                                                                                                                                                                                                                                                                                                                                                       selftext_token  \\\n",
       "0     [welcome, to, the, daily, r, coffee, question, thread, there, are, no, stupid, questions, here, ask, a, question, and, get, an, answer, we, all, have, to, start, somewhere, and, sometimes, it, is, hard, to, figure, out, just, what, you, are, doing, right, or, doing, wrong, luckily, the, r, coffee, community, loves, to, help, out, do, you, have, a, question, about, how, to, use, a, specific, pi...   \n",
       "1     [welcome, to, the, r, coffee, deal, and, promotional, thread, in, this, weekly, thread, industry, folk, can, post, upcoming, deals, or, other, promotions, their, companies, are, holding, or, promote, new, products, to, r, coffee, subscribers, regular, users, can, also, post, deals, they, come, across, come, check, out, some, of, the, roasters, and, other, coffee, related, businesses, that, red...   \n",
       "2     [went, to, make, my, annual, summer, toddy, filter, purchase, today, and, noticed, a, few, metal, options, i, hadn, t, seen, before, but, looked, suspiciously, like, the, reusable, steel, filters, for, the, aeropress, on, a, whim, i, went, into, my, kitchen, and, boom, almost, a, perfect, fit, i, ll, probably, double, filter, this, batch, through, a, french, press, or, something, but, should, ...   \n",
       "3                                                                                             [honduras, may, be, a, tiny, country, but, its, coffee, is, world, class, after, traveling, and, tasting, a, wide, variety, of, coffees, i, ve, concluded, that, my, statement, is, true, honduras, has, the, best, coffee, i, have, ever, tasted, do, you, agree, with, this, have, you, tried, honduran, coffee, yet]   \n",
       "4     [i, wonder, where, you, have, tried, your, best, coffee, or, what, was, the, best, moment, when, you, realized, that, the, coffee, is, the, most, delightful, many, of, you, might, share, stories, about, your, trips, to, europe, or, other, places, with, the, best, coffee, i’ve, tried, the, best, coffee, in, my, own, house, amp, x, b, when, my, bf, and, i, decided, to, purchase, a, house, the, s...   \n",
       "...                                                                                                                                                                                                                                                                                                                                                                                                               ...   \n",
       "787   [do, you, adjust, water, hardness, when, switching, to, another, roaster, s, beans, some, roasters, brew, w, very, soft, water, e, g, \\, ppm, while, use, harder, water, my, tastebuds, aren, t, particularly, sensitive, but, even, a, ppm, difference, makes, a, noticeable, taste, difference, how, do, you, know, the, water, hardness, roasters, are, using, seems, few, roasters, like, phil, amp, seb...   \n",
       "789   [i, was, not, able, to, get, a, single, tasty, cup, using, hoffmans, ap, method, they, all, have, been, bitter, as, they, were, all, way, over, extracted, which, makes, sense, if, you, look, at, the, aeropress, world, champion, recipes, or, the, original, one, both, using, half, the, amount, of, water, and, a, much, lower, temperature, i, tried, many, different, beans, and, really, do, wonder,...   \n",
       "792   [i, purchased, my, ode, in, june, of, this, is, when, the, burrs, were, supposed, to, be, in, the, machines, anything, manufactured, after, q, the, machine, i, received, was, manufactured, in, q, of, no, burrs, i, thought, ok…, i’ll, reach, out, to, customer, service, and, just, see, if, they, will, send, me, the, burrs, as, i, purchased, the, machine, with, the, belief, that, it, came, with, ...   \n",
       "793                                                                                                                                                                                                                                                                                                                                                                                                                []   \n",
       "2382  [okay, i’m, sure, there, is, a, very, anti, decaf, leaning, in, this, sub, and, i, understand, why, my, situation, is, that, my, body, really, rejects, stimulants, one, cup, of, regular, coffee, for, me, is, like, six, cups, in, a, row, for, someone, else, —, i, get, the, sweats, nausea, shaking, so, hard, i, have, to, lie, down, a, few, years, ago, i, had, a, cup, of, “decaf”, to, which, i, r...   \n",
       "\n",
       "                                                                                                                                                                                                                                                                                                                                                                                                        alltext_token  \\\n",
       "0     [mod, the, daily, question, thread, welcome, to, the, daily, r, coffee, question, thread, there, are, no, stupid, questions, here, ask, a, question, and, get, an, answer, we, all, have, to, start, somewhere, and, sometimes, it, is, hard, to, figure, out, just, what, you, are, doing, right, or, doing, wrong, luckily, the, r, coffee, community, loves, to, help, out, do, you, have, a, question, a...   \n",
       "1     [mod, the, official, deal, thread, welcome, to, the, r, coffee, deal, and, promotional, thread, in, this, weekly, thread, industry, folk, can, post, upcoming, deals, or, other, promotions, their, companies, are, holding, or, promote, new, products, to, r, coffee, subscribers, regular, users, can, also, post, deals, they, come, across, come, check, out, some, of, the, roasters, and, other, coff...   \n",
       "2     [til, the, diameters, of, the, aeropress, and, toddy, cold, brew, bucket, filters, are, almost, exactly, the, same, went, to, make, my, annual, summer, toddy, filter, purchase, today, and, noticed, a, few, metal, options, i, hadn, t, seen, before, but, looked, suspiciously, like, the, reusable, steel, filters, for, the, aeropress, on, a, whim, i, went, into, my, kitchen, and, boom, almost, a, ...   \n",
       "3                                                                       [coffee, in, honduras, honduras, may, be, a, tiny, country, but, its, coffee, is, world, class, after, traveling, and, tasting, a, wide, variety, of, coffees, i, ve, concluded, that, my, statement, is, true, honduras, has, the, best, coffee, i, have, ever, tasted, do, you, agree, with, this, have, you, tried, honduran, coffee, yet]   \n",
       "4     [where, have, you, tried, your, best, coffee, i, wonder, where, you, have, tried, your, best, coffee, or, what, was, the, best, moment, when, you, realized, that, the, coffee, is, the, most, delightful, many, of, you, might, share, stories, about, your, trips, to, europe, or, other, places, with, the, best, coffee, i’ve, tried, the, best, coffee, in, my, own, house, amp, x, b, when, my, bf, an...   \n",
       "...                                                                                                                                                                                                                                                                                                                                                                                                               ...   \n",
       "787   [adjusting, water, hardness, for, different, roasters, do, you, adjust, water, hardness, when, switching, to, another, roaster, s, beans, some, roasters, brew, w, very, soft, water, e, g, \\, ppm, while, use, harder, water, my, tastebuds, aren, t, particularly, sensitive, but, even, a, ppm, difference, makes, a, noticeable, taste, difference, how, do, you, know, the, water, hardness, roasters, ...   \n",
       "789   [how, do, people, get, a, decent, cup, with, hoffmans, aeropress, recipe, i, was, not, able, to, get, a, single, tasty, cup, using, hoffmans, ap, method, they, all, have, been, bitter, as, they, were, all, way, over, extracted, which, makes, sense, if, you, look, at, the, aeropress, world, champion, recipes, or, the, original, one, both, using, half, the, amount, of, water, and, a, much, lower...   \n",
       "792   [poor, experience, with, fellow, ode, i, purchased, my, ode, in, june, of, this, is, when, the, burrs, were, supposed, to, be, in, the, machines, anything, manufactured, after, q, the, machine, i, received, was, manufactured, in, q, of, no, burrs, i, thought, ok…, i’ll, reach, out, to, customer, service, and, just, see, if, they, will, send, me, the, burrs, as, i, purchased, the, machine, with...   \n",
       "793                                                                           [homebuilt, espresso, machine, i, was, a, barista, for, years, and, am, sad, that, i, dont, serve, coffee, anymore, i, have, always, been, a, very, mechanical, person, therefore, i, obsessed, over, this, idea, for, a, long, time, i, spent, the, last, years, designing, coding, and, building, my, own, machine, hope, you, enjoy]   \n",
       "2382  [i, can, drink, coffee, again, okay, i’m, sure, there, is, a, very, anti, decaf, leaning, in, this, sub, and, i, understand, why, my, situation, is, that, my, body, really, rejects, stimulants, one, cup, of, regular, coffee, for, me, is, like, six, cups, in, a, row, for, someone, else, —, i, get, the, sweats, nausea, shaking, so, hard, i, have, to, lie, down, a, few, years, ago, i, had, a, cup...   \n",
       "\n",
       "                                                                                                                                                                                                           title_sw  \\\n",
       "0                                                                                                                                                                                    [mod, daily, question, thread]   \n",
       "1                                                                                                                                                                                     [mod, official, deal, thread]   \n",
       "2                                                                                                                                  [til, diameters, aeropress, toddy, cold, brew, bucket, filters, almost, exactly]   \n",
       "3                                                                                                                                                                                                        [honduras]   \n",
       "4                                                                                                                                                                                                     [tried, best]   \n",
       "...                                                                                                                                                                                                             ...   \n",
       "787                                                                                                                                                                      [adjusting, hardness, different, roasters]   \n",
       "789                                                                                                                                                         [people, get, decent, cup, hoffmans, aeropress, recipe]   \n",
       "792                                                                                                                                                                                 [poor, experience, fellow, ode]   \n",
       "793   [homebuilt, espresso, machine, barista, years, sad, dont, serve, anymore, always, mechanical, person, therefore, obsessed, idea, long, spent, last, years, designing, coding, building, machine, hope, enjoy]   \n",
       "2382                                                                                                                                                                                                             []   \n",
       "\n",
       "                                                                                                                                                                                                                                                                                                                                                                                                          selftext_sw  \\\n",
       "0     [welcome, daily, r, question, thread, stupid, questions, ask, question, get, answer, start, somewhere, sometimes, hard, figure, right, wrong, luckily, r, community, loves, help, question, specific, piece, gear, gear, buying, much, grind, sure, much, hot, wondering, shelf, life, forget, resources, wiki, great, starter, guides, wiki, guides, page, wiki, gear, price, page, see, gear, r, members, ...   \n",
       "1     [welcome, r, deal, promotional, thread, weekly, thread, industry, folk, post, upcoming, deals, promotions, companies, holding, promote, new, products, r, subscribers, regular, users, also, post, deals, come, across, come, check, roasters, related, businesses, redditors, work, note, thread, weekly, least, duration, covid, outbreak, since, many, roasters, running, specials, usual, drum, business...   \n",
       "2                                                                                                                 [went, annual, summer, toddy, filter, purchase, today, noticed, metal, options, seen, looked, suspiciously, reusable, steel, filters, aeropress, whim, went, kitchen, boom, almost, perfect, fit, probably, double, filter, batch, french, press, something, enough, keep, majority, grinds, drain]   \n",
       "3                                                                                                                                                                                                                                     [honduras, may, tiny, country, world, class, traveling, tasting, wide, variety, coffees, concluded, statement, true, honduras, best, ever, tasted, agree, tried, honduran, yet]   \n",
       "4     [wonder, tried, best, best, moment, realized, delightful, many, might, share, stories, trips, europe, places, best, i’ve, tried, best, house, amp, x, b, bf, decided, purchase, house, story, started, wasn’t, spontaneous, decision, decided, move, together, rented, small, studio, apartment, used, live, cats, york, terrier, loved, apartment, close, work, downtown, bf, started, stay, often, decided...   \n",
       "...                                                                                                                                                                                                                                                                                                                                                                                                               ...   \n",
       "787   [adjust, hardness, switching, another, roaster, beans, roasters, brew, w, soft, e, g, \\, ppm, harder, tastebuds, particularly, sensitive, even, ppm, difference, makes, noticeable, difference, hardness, roasters, seems, roasters, phil, amp, sebastian, provide, information, matter, keep, concentrate, third, wave, dilute, ppm, roaster, uses, brew, starting, wonder, waste, effort, curious, hear, t...   \n",
       "789   [able, get, single, tasty, cup, hoffmans, ap, method, bitter, way, extracted, makes, sense, look, aeropress, world, champion, recipes, original, one, half, amount, much, lower, temperature, tried, many, different, beans, wonder, people, enjoy, cup, hoffmans, method, sorry, ifsounding, rude, tried, many, many, times, able, get, one, single, tasty, cup, wc, recipes, even, corse, grind, also, opp...   \n",
       "792   [purchased, ode, june, burrs, supposed, machines, anything, manufactured, q, machine, received, manufactured, q, burrs, thought, ok…, i’ll, reach, customer, service, see, send, burrs, purchased, machine, belief, came, burrs, told, purchased, ode, fellow, guaranteeing, burrs, customers, however, anyone, purchases, get, burrs, v, comes, customer, buy, v, burrs, cost, feel, experience, pretty, sh...   \n",
       "793                                                                                                                                                                                                                                                                                                                                                                                                                []   \n",
       "2382  [okay, i’m, sure, anti, decaf, leaning, sub, understand, situation, body, rejects, stimulants, one, cup, regular, six, cups, row, someone, else, —, get, sweats, nausea, shaking, hard, lie, years, ago, cup, “decaf”, reacted, way, knowing, whether, body’s, sensitivity, skyrocketed, i’m, disabled, ms, things, reactions, things, change, whether, mislabeled, cup, gave, entirely, figured, recently, ...   \n",
       "\n",
       "                                                                                                                                                                                                                                                                                                                                                                                                           alltext_sw  \\\n",
       "0     [mod, daily, question, thread, welcome, daily, r, question, thread, stupid, questions, ask, question, get, answer, start, somewhere, sometimes, hard, figure, right, wrong, luckily, r, community, loves, help, question, specific, piece, gear, gear, buying, much, grind, sure, much, hot, wondering, shelf, life, forget, resources, wiki, great, starter, guides, wiki, guides, page, wiki, gear, price,...   \n",
       "1     [mod, official, deal, thread, welcome, r, deal, promotional, thread, weekly, thread, industry, folk, post, upcoming, deals, promotions, companies, holding, promote, new, products, r, subscribers, regular, users, also, post, deals, come, across, come, check, roasters, related, businesses, redditors, work, note, thread, weekly, least, duration, covid, outbreak, since, many, roasters, running, sp...   \n",
       "2                                 [til, diameters, aeropress, toddy, cold, brew, bucket, filters, almost, exactly, went, annual, summer, toddy, filter, purchase, today, noticed, metal, options, seen, looked, suspiciously, reusable, steel, filters, aeropress, whim, went, kitchen, boom, almost, perfect, fit, probably, double, filter, batch, french, press, something, enough, keep, majority, grinds, drain]   \n",
       "3                                                                                                                                                                                                                           [honduras, honduras, may, tiny, country, world, class, traveling, tasting, wide, variety, coffees, concluded, statement, true, honduras, best, ever, tasted, agree, tried, honduran, yet]   \n",
       "4     [tried, best, wonder, tried, best, best, moment, realized, delightful, many, might, share, stories, trips, europe, places, best, i’ve, tried, best, house, amp, x, b, bf, decided, purchase, house, story, started, wasn’t, spontaneous, decision, decided, move, together, rented, small, studio, apartment, used, live, cats, york, terrier, loved, apartment, close, work, downtown, bf, started, stay, o...   \n",
       "...                                                                                                                                                                                                                                                                                                                                                                                                               ...   \n",
       "787   [adjusting, hardness, different, roasters, adjust, hardness, switching, another, roaster, beans, roasters, brew, w, soft, e, g, \\, ppm, harder, tastebuds, particularly, sensitive, even, ppm, difference, makes, noticeable, difference, hardness, roasters, seems, roasters, phil, amp, sebastian, provide, information, matter, keep, concentrate, third, wave, dilute, ppm, roaster, uses, brew, startin...   \n",
       "789   [people, get, decent, cup, hoffmans, aeropress, recipe, able, get, single, tasty, cup, hoffmans, ap, method, bitter, way, extracted, makes, sense, look, aeropress, world, champion, recipes, original, one, half, amount, much, lower, temperature, tried, many, different, beans, wonder, people, enjoy, cup, hoffmans, method, sorry, ifsounding, rude, tried, many, many, times, able, get, one, single,...   \n",
       "792   [poor, experience, fellow, ode, purchased, ode, june, burrs, supposed, machines, anything, manufactured, q, machine, received, manufactured, q, burrs, thought, ok…, i’ll, reach, customer, service, see, send, burrs, purchased, machine, belief, came, burrs, told, purchased, ode, fellow, guaranteeing, burrs, customers, however, anyone, purchases, get, burrs, v, comes, customer, buy, v, burrs, cos...   \n",
       "793                                                                                                                                                                                                     [homebuilt, espresso, machine, barista, years, sad, dont, serve, anymore, always, mechanical, person, therefore, obsessed, idea, long, spent, last, years, designing, coding, building, machine, hope, enjoy]   \n",
       "2382  [okay, i’m, sure, anti, decaf, leaning, sub, understand, situation, body, rejects, stimulants, one, cup, regular, six, cups, row, someone, else, —, get, sweats, nausea, shaking, hard, lie, years, ago, cup, “decaf”, reacted, way, knowing, whether, body’s, sensitivity, skyrocketed, i’m, disabled, ms, things, reactions, things, change, whether, mislabeled, cup, gave, entirely, figured, recently, ...   \n",
       "\n",
       "                                                                                                                                                                                                        title_lem  \\\n",
       "0                                                                                                                                                                                  [mod, daily, question, thread]   \n",
       "1                                                                                                                                                                                   [mod, official, deal, thread]   \n",
       "2                                                                                                                                  [til, diameter, aeropress, toddy, cold, brew, bucket, filter, almost, exactly]   \n",
       "3                                                                                                                                                                                                      [honduras]   \n",
       "4                                                                                                                                                                                                   [tried, best]   \n",
       "...                                                                                                                                                                                                           ...   \n",
       "787                                                                                                                                                                     [adjusting, hardness, different, roaster]   \n",
       "789                                                                                                                                                        [people, get, decent, cup, hoffman, aeropress, recipe]   \n",
       "792                                                                                                                                                                               [poor, experience, fellow, ode]   \n",
       "793   [homebuilt, espresso, machine, barista, year, sad, dont, serve, anymore, always, mechanical, person, therefore, obsessed, idea, long, spent, last, year, designing, coding, building, machine, hope, enjoy]   \n",
       "2382                                                                                                                                                                                                           []   \n",
       "\n",
       "                                                                                                                                                                                                                                                                                                                                                                                                         selftext_lem  \\\n",
       "0     [welcome, daily, r, question, thread, stupid, question, ask, question, get, answer, start, somewhere, sometimes, hard, figure, right, wrong, luckily, r, community, love, help, question, specific, piece, gear, gear, buying, much, grind, sure, much, hot, wondering, shelf, life, forget, resource, wiki, great, starter, guide, wiki, guide, page, wiki, gear, price, page, see, gear, r, member, recomm...   \n",
       "1     [welcome, r, deal, promotional, thread, weekly, thread, industry, folk, post, upcoming, deal, promotion, company, holding, promote, new, product, r, subscriber, regular, user, also, post, deal, come, across, come, check, roaster, related, business, redditors, work, note, thread, weekly, least, duration, covid, outbreak, since, many, roaster, running, special, usual, drum, business, encourage, ...   \n",
       "2                                                                                                                    [went, annual, summer, toddy, filter, purchase, today, noticed, metal, option, seen, looked, suspiciously, reusable, steel, filter, aeropress, whim, went, kitchen, boom, almost, perfect, fit, probably, double, filter, batch, french, press, something, enough, keep, majority, grind, drain]   \n",
       "3                                                                                                                                                                                                                                      [honduras, may, tiny, country, world, class, traveling, tasting, wide, variety, coffee, concluded, statement, true, honduras, best, ever, tasted, agree, tried, honduran, yet]   \n",
       "4     [wonder, tried, best, best, moment, realized, delightful, many, might, share, story, trip, europe, place, best, i’ve, tried, best, house, amp, x, b, bf, decided, purchase, house, story, started, wasn’t, spontaneous, decision, decided, move, together, rented, small, studio, apartment, used, live, cat, york, terrier, loved, apartment, close, work, downtown, bf, started, stay, often, decided, mov...   \n",
       "...                                                                                                                                                                                                                                                                                                                                                                                                               ...   \n",
       "787   [adjust, hardness, switching, another, roaster, bean, roaster, brew, w, soft, e, g, \\, ppm, harder, tastebud, particularly, sensitive, even, ppm, difference, make, noticeable, difference, hardness, roaster, seems, roaster, phil, amp, sebastian, provide, information, matter, keep, concentrate, third, wave, dilute, ppm, roaster, us, brew, starting, wonder, waste, effort, curious, hear, thought, ...   \n",
       "789   [able, get, single, tasty, cup, hoffman, ap, method, bitter, way, extracted, make, sense, look, aeropress, world, champion, recipe, original, one, half, amount, much, lower, temperature, tried, many, different, bean, wonder, people, enjoy, cup, hoffman, method, sorry, ifsounding, rude, tried, many, many, time, able, get, one, single, tasty, cup, wc, recipe, even, corse, grind, also, opposite, ...   \n",
       "792   [purchased, ode, june, burr, supposed, machine, anything, manufactured, q, machine, received, manufactured, q, burr, thought, ok…, i’ll, reach, customer, service, see, send, burr, purchased, machine, belief, came, burr, told, purchased, ode, fellow, guaranteeing, burr, customer, however, anyone, purchase, get, burr, v, come, customer, buy, v, burr, cost, feel, experience, pretty, shitty, suck,...   \n",
       "793                                                                                                                                                                                                                                                                                                                                                                                                                []   \n",
       "2382  [okay, i’m, sure, anti, decaf, leaning, sub, understand, situation, body, reject, stimulant, one, cup, regular, six, cup, row, someone, else, —, get, sweat, nausea, shaking, hard, lie, year, ago, cup, “decaf”, reacted, way, knowing, whether, body’s, sensitivity, skyrocketed, i’m, disabled, m, thing, reaction, thing, change, whether, mislabeled, cup, gave, entirely, figured, recently, find, sur...   \n",
       "\n",
       "                                                                                                                                                                                                                                                                                                                                                                                                          alltext_lem  \n",
       "0     [mod, daily, question, thread, welcome, daily, r, question, thread, stupid, question, ask, question, get, answer, start, somewhere, sometimes, hard, figure, right, wrong, luckily, r, community, love, help, question, specific, piece, gear, gear, buying, much, grind, sure, much, hot, wondering, shelf, life, forget, resource, wiki, great, starter, guide, wiki, guide, page, wiki, gear, price, page...  \n",
       "1     [mod, official, deal, thread, welcome, r, deal, promotional, thread, weekly, thread, industry, folk, post, upcoming, deal, promotion, company, holding, promote, new, product, r, subscriber, regular, user, also, post, deal, come, across, come, check, roaster, related, business, redditors, work, note, thread, weekly, least, duration, covid, outbreak, since, many, roaster, running, special, usual...  \n",
       "2                                      [til, diameter, aeropress, toddy, cold, brew, bucket, filter, almost, exactly, went, annual, summer, toddy, filter, purchase, today, noticed, metal, option, seen, looked, suspiciously, reusable, steel, filter, aeropress, whim, went, kitchen, boom, almost, perfect, fit, probably, double, filter, batch, french, press, something, enough, keep, majority, grind, drain]  \n",
       "3                                                                                                                                                                                                                            [honduras, honduras, may, tiny, country, world, class, traveling, tasting, wide, variety, coffee, concluded, statement, true, honduras, best, ever, tasted, agree, tried, honduran, yet]  \n",
       "4     [tried, best, wonder, tried, best, best, moment, realized, delightful, many, might, share, story, trip, europe, place, best, i’ve, tried, best, house, amp, x, b, bf, decided, purchase, house, story, started, wasn’t, spontaneous, decision, decided, move, together, rented, small, studio, apartment, used, live, cat, york, terrier, loved, apartment, close, work, downtown, bf, started, stay, often,...  \n",
       "...                                                                                                                                                                                                                                                                                                                                                                                                               ...  \n",
       "787   [adjusting, hardness, different, roaster, adjust, hardness, switching, another, roaster, bean, roaster, brew, w, soft, e, g, \\, ppm, harder, tastebud, particularly, sensitive, even, ppm, difference, make, noticeable, difference, hardness, roaster, seems, roaster, phil, amp, sebastian, provide, information, matter, keep, concentrate, third, wave, dilute, ppm, roaster, us, brew, starting, wonder...  \n",
       "789   [people, get, decent, cup, hoffman, aeropress, recipe, able, get, single, tasty, cup, hoffman, ap, method, bitter, way, extracted, make, sense, look, aeropress, world, champion, recipe, original, one, half, amount, much, lower, temperature, tried, many, different, bean, wonder, people, enjoy, cup, hoffman, method, sorry, ifsounding, rude, tried, many, many, time, able, get, one, single, tasty,...  \n",
       "792   [poor, experience, fellow, ode, purchased, ode, june, burr, supposed, machine, anything, manufactured, q, machine, received, manufactured, q, burr, thought, ok…, i’ll, reach, customer, service, see, send, burr, purchased, machine, belief, came, burr, told, purchased, ode, fellow, guaranteeing, burr, customer, however, anyone, purchase, get, burr, v, come, customer, buy, v, burr, cost, feel, ex...  \n",
       "793                                                                                                                                                                                                       [homebuilt, espresso, machine, barista, year, sad, dont, serve, anymore, always, mechanical, person, therefore, obsessed, idea, long, spent, last, year, designing, coding, building, machine, hope, enjoy]  \n",
       "2382  [okay, i’m, sure, anti, decaf, leaning, sub, understand, situation, body, reject, stimulant, one, cup, regular, six, cup, row, someone, else, —, get, sweat, nausea, shaking, hard, lie, year, ago, cup, “decaf”, reacted, way, knowing, whether, body’s, sensitivity, skyrocketed, i’m, disabled, m, thing, reaction, thing, change, whether, mislabeled, cup, gave, entirely, figured, recently, find, sur...  \n",
       "\n",
       "[628 rows x 18 columns]"
      ]
     },
     "execution_count": 735,
     "metadata": {},
     "output_type": "execute_result"
    }
   ],
   "source": [
    "# carry out preprocessing steps on tea and coffee\n",
    "preprocessing(tea)\n",
    "preprocessing(coffee)"
   ]
  },
  {
   "cell_type": "markdown",
   "id": "995a76cf",
   "metadata": {},
   "source": [
    "## Merge tea and coffee to single dataframe"
   ]
  },
  {
   "cell_type": "code",
   "execution_count": 736,
   "id": "c1c63670",
   "metadata": {},
   "outputs": [
    {
     "name": "stdout",
     "output_type": "stream",
     "text": [
      "Shape of cleaned tea dataframe: (950, 18)\n",
      "Shape of cleaned coffee dataframe: (628, 18)\n",
      "Shape of merged dataframe: (1578, 18)\n"
     ]
    }
   ],
   "source": [
    "#checking shape of dfs to be merged\n",
    "print(f\"Shape of cleaned tea dataframe: {tea.shape}\") #(950, 18)\n",
    "print(f\"Shape of cleaned coffee dataframe: {coffee.shape}\") #(628, 18)\n",
    "\n",
    "merged  = pd.concat([tea, coffee], axis = 0, ignore_index=True) \n",
    "print(f\"Shape of merged dataframe: {merged.shape}\") #(1578, 18)"
   ]
  },
  {
   "cell_type": "markdown",
   "id": "200f001a",
   "metadata": {},
   "source": [
    "## Dummify subreddit target variable"
   ]
  },
  {
   "cell_type": "code",
   "execution_count": 738,
   "id": "e1d8ab25",
   "metadata": {},
   "outputs": [
    {
     "data": {
      "image/png": "[encoded data removed]",
      "text/plain": [
       "<Figure size 432x288 with 1 Axes>"
      ]
     },
     "metadata": {
      "needs_background": "light"
     },
     "output_type": "display_data"
    }
   ],
   "source": [
    "merged['subreddit'].value_counts().plot(kind = 'barh', yticks=merged.index)\n",
    "plt.title(\"Number of cleaned posts\", y=1.02);"
   ]
  },
  {
   "cell_type": "code",
   "execution_count": 684,
   "id": "07e0c80d",
   "metadata": {},
   "outputs": [
    {
     "data": {
      "text/plain": [
       "1    950\n",
       "0    628\n",
       "Name: subreddit, dtype: int64"
      ]
     },
     "execution_count": 684,
     "metadata": {},
     "output_type": "execute_result"
    }
   ],
   "source": [
    "#dummify subreddit column: 1 for tea, 0 for coffee\n",
    "def is_tea(x):\n",
    "    if x == 'tea':\n",
    "        return 1\n",
    "    elif x == 'Coffee':\n",
    "        return 0\n",
    "\n",
    "merged['subreddit'] = merged['subreddit'].apply(lambda x: is_tea(x))\n",
    "merged['subreddit'].value_counts()#checking results of merging"
   ]
  },
  {
   "cell_type": "markdown",
   "id": "5162a309",
   "metadata": {},
   "source": [
    "## Export combined dataframe to csv"
   ]
  },
  {
   "cell_type": "code",
   "execution_count": 685,
   "id": "4ebcc8eb",
   "metadata": {},
   "outputs": [],
   "source": [
    "merged.to_csv('data/merged.csv')"
   ]
  },
  {
   "cell_type": "markdown",
   "id": "ac90b0f5",
   "metadata": {},
   "source": [
    "End of notebook on Data Cleaning and Preprocessing"
   ]
  }
 ],
 "metadata": {
  "kernelspec": {
   "display_name": "Python 3 (ipykernel)",
   "language": "python",
   "name": "python3"
  },
  "language_info": {
   "codemirror_mode": {
    "name": "ipython",
    "version": 3
   },
   "file_extension": ".py",
   "mimetype": "text/x-python",
   "name": "python",
   "nbconvert_exporter": "python",
   "pygments_lexer": "ipython3",
   "version": "3.9.7"
  }
 },
 "nbformat": 4,
 "nbformat_minor": 5
}
