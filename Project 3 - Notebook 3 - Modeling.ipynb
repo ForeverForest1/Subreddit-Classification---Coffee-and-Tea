{
 "cells": [
  {
   "cell_type": "markdown",
   "id": "8e5a532c",
   "metadata": {},
   "source": [
    "## Overview\n",
    "\n",
    "In this final notebook, the cleaned and processed subreddit posts from notebook 2 were used to train a model made up of a vectoriser and a classifier. The trained model was then used to derive a list of words which had a higher likelihood of predicting which subreddit a post belonged to. The notebook concluded with a discussion on the results, limitations and possible future directions for this project. Accuracy was used as the primary criteria to evaluate and find the best model in this project, as there is no particular need in our context to optimise a particular classification metric. \n",
    "\n",
    "The following steps were carried out on the earlier processed subreddit posts:\n",
    "\n",
    "1. Split data into training and test sets\n",
    "2. Establish null model, using the proportion of the majority subreddit as the baseline accuracy\n",
    "3. Set up modeling pipe\n",
    "* A total of four modeling pipes were set up, with each pipe made up of 1 vectoriser and 1 classifier. The four pipes come from a permutation of 2 vectorisers and 2 classifiers.\n",
    "* The two vectorisers used are: i) CountVectorizer and ii) Term Frequency–Inverse Document Frequency (TF-IDF) Vectorizer\n",
    "* The two classifiers used are: i) Multinomial Naive Bayes and ii) Logistic Regression\n",
    "4. Optimise the hyperparameters, train and score the models using GridSearchCV\n",
    "5. Find the GridSearchCV best score, train and test score, and other classification metrics for each modeling pipe.\n",
    "6. Select the model with the best accuracy, based on the test score.\n",
    "7. Find the top 10 words which had a higher likelihood to predict which subreddit a post came from, r/tea or r/Coffee\n",
    "\n",
    "Our final chosen model was a combination of **TF-IDF vectoriser and Multinomial Naive Bayes classifier**, with an **accuracy of 0.93**."
   ]
  },
  {
   "cell_type": "markdown",
   "id": "8c1a9992",
   "metadata": {},
   "source": [
    "## Import Python modules"
   ]
  },
  {
   "cell_type": "code",
   "execution_count": 45,
   "id": "6c10e5dd",
   "metadata": {},
   "outputs": [],
   "source": [
    "import pandas as pd\n",
    "import numpy as np\n",
    "import time\n",
    "import string\n",
    "import seaborn as sns\n",
    "import matplotlib.pyplot as plt\n",
    "from IPython.display import display_html\n",
    "\n",
    "from nltk.tokenize import sent_tokenize, word_tokenize, RegexpTokenizer\n",
    "from nltk.stem import WordNetLemmatizer\n",
    "from nltk.stem.porter import PorterStemmer\n",
    "from nltk.corpus import stopwords\n",
    "\n",
    "from sklearn.feature_extraction.text import CountVectorizer, TfidfVectorizer\n",
    "from sklearn.model_selection import train_test_split, GridSearchCV\n",
    "from sklearn.pipeline import Pipeline\n",
    "from sklearn.naive_bayes import MultinomialNB\n",
    "from sklearn.linear_model import LogisticRegression\n",
    "from sklearn.metrics import confusion_matrix, plot_confusion_matrix, classification_report, accuracy_score, plot_roc_curve, roc_auc_score, recall_score, precision_score, f1_score, roc_curve\n",
    "\n",
    "# this setting widens how many characters pandas will display in a column:\n",
    "pd.options.display.max_colwidth = 400"
   ]
  },
  {
   "cell_type": "markdown",
   "id": "9de278c7",
   "metadata": {},
   "source": [
    "## Import dataset from earlier notebook"
   ]
  },
  {
   "cell_type": "code",
   "execution_count": 3,
   "id": "40aa7888",
   "metadata": {},
   "outputs": [
    {
     "name": "stdout",
     "output_type": "stream",
     "text": [
      " Shape of imported data: (1578, 19)\n"
     ]
    }
   ],
   "source": [
    "df_merged = pd.read_csv('data/merged.csv')\n",
    "\n",
    "print(f\" Shape of imported data: {df_merged.shape}\")"
   ]
  },
  {
   "cell_type": "code",
   "execution_count": 4,
   "id": "32bfccc7",
   "metadata": {
    "scrolled": true
   },
   "outputs": [
    {
     "data": {
      "text/html": [
       "<div>\n",
       "<style scoped>\n",
       "    .dataframe tbody tr th:only-of-type {\n",
       "        vertical-align: middle;\n",
       "    }\n",
       "\n",
       "    .dataframe tbody tr th {\n",
       "        vertical-align: top;\n",
       "    }\n",
       "\n",
       "    .dataframe thead th {\n",
       "        text-align: right;\n",
       "    }\n",
       "</style>\n",
       "<table border=\"1\" class=\"dataframe\">\n",
       "  <thead>\n",
       "    <tr style=\"text-align: right;\">\n",
       "      <th></th>\n",
       "      <th>Unnamed: 0</th>\n",
       "      <th>subreddit</th>\n",
       "      <th>title</th>\n",
       "      <th>selftext</th>\n",
       "      <th>alltext</th>\n",
       "      <th>title_cleaned</th>\n",
       "      <th>selftext_cleaned</th>\n",
       "      <th>alltext_cleaned</th>\n",
       "      <th>title_word_count</th>\n",
       "      <th>selftext_word_count</th>\n",
       "      <th>title_token</th>\n",
       "      <th>selftext_token</th>\n",
       "      <th>alltext_token</th>\n",
       "      <th>title_sw</th>\n",
       "      <th>selftext_sw</th>\n",
       "      <th>alltext_sw</th>\n",
       "      <th>title_lem</th>\n",
       "      <th>selftext_lem</th>\n",
       "      <th>alltext_lem</th>\n",
       "    </tr>\n",
       "  </thead>\n",
       "  <tbody>\n",
       "    <tr>\n",
       "      <th>0</th>\n",
       "      <td>0</td>\n",
       "      <td>1</td>\n",
       "      <td>What's in your cup? Daily discussion, questions and stories - May 23, 2022</td>\n",
       "      <td>What are you drinking today?  What questions have been on your mind?  Any stories to share?  And don't worry, no one will make fun of you for what you drink or the questions you ask. \\n\\nYou can also talk about anything else on your mind, from your specific routine while making tea, or how you've been on an oolong kick lately. Feel free to link to pictures in here, as well.  You can even talk ...</td>\n",
       "      <td>What's in your cup? Daily discussion, questions and stories - May 23, 2022 What are you drinking today?  What questions have been on your mind?  Any stories to share?  And don't worry, no one will make fun of you for what you drink or the questions you ask. \\n\\nYou can also talk about anything else on your mind, from your specific routine while making tea, or how you've been on an oolong kick ...</td>\n",
       "      <td>what s in your cup  daily discussion  questions and stories   may</td>\n",
       "      <td>what are you drinking today   what questions have been on your mind   any stories to share   and don t worry  no one will make fun of you for what you drink or the questions you ask  \\n\\nyou can also talk about anything else on your mind  from your specific routine while making tea  or how you ve been on an oolong kick lately  feel free to link to pictures in here  as well   you can even talk ...</td>\n",
       "      <td>what s in your cup  daily discussion  questions and stories   may          what are you drinking today   what questions have been on your mind   any stories to share   and don t worry  no one will make fun of you for what you drink or the questions you ask  \\n\\nyou can also talk about anything else on your mind  from your specific routine while making tea  or how you ve been on an oolong kick ...</td>\n",
       "      <td>24</td>\n",
       "      <td>115</td>\n",
       "      <td>['what', 's', 'in', 'your', 'cup', 'daily', 'discussion', 'questions', 'and', 'stories', 'may']</td>\n",
       "      <td>['what', 'are', 'you', 'drinking', 'today', 'what', 'questions', 'have', 'been', 'on', 'your', 'mind', 'any', 'stories', 'to', 'share', 'and', 'don', 't', 'worry', 'no', 'one', 'will', 'make', 'fun', 'of', 'you', 'for', 'what', 'you', 'drink', 'or', 'the', 'questions', 'you', 'ask', 'you', 'can', 'also', 'talk', 'about', 'anything', 'else', 'on', 'your', 'mind', 'from', 'your', 'specific', 'ro...</td>\n",
       "      <td>['what', 's', 'in', 'your', 'cup', 'daily', 'discussion', 'questions', 'and', 'stories', 'may', 'what', 'are', 'you', 'drinking', 'today', 'what', 'questions', 'have', 'been', 'on', 'your', 'mind', 'any', 'stories', 'to', 'share', 'and', 'don', 't', 'worry', 'no', 'one', 'will', 'make', 'fun', 'of', 'you', 'for', 'what', 'you', 'drink', 'or', 'the', 'questions', 'you', 'ask', 'you', 'can', 'al...</td>\n",
       "      <td>['cup', 'daily', 'discussion', 'questions', 'stories', 'may']</td>\n",
       "      <td>['drinking', 'today', 'questions', 'mind', 'stories', 'share', 'worry', 'one', 'fun', 'questions', 'ask', 'also', 'talk', 'anything', 'else', 'mind', 'specific', 'routine', 'making', 'oolong', 'kick', 'lately', 'feel', 'free', 'link', 'pictures', 'well', 'even', 'talk', 'non', 'related', 'topics', 'maybe', 'advice', 'guy', 'gal', 'talk', 'life', 'general']</td>\n",
       "      <td>['cup', 'daily', 'discussion', 'questions', 'stories', 'may', 'drinking', 'today', 'questions', 'mind', 'stories', 'share', 'worry', 'one', 'fun', 'questions', 'ask', 'also', 'talk', 'anything', 'else', 'mind', 'specific', 'routine', 'making', 'oolong', 'kick', 'lately', 'feel', 'free', 'link', 'pictures', 'well', 'even', 'talk', 'non', 'related', 'topics', 'maybe', 'advice', 'guy', 'gal', 'ta...</td>\n",
       "      <td>['cup', 'daily', 'discussion', 'question', 'story', 'may']</td>\n",
       "      <td>['drinking', 'today', 'question', 'mind', 'story', 'share', 'worry', 'one', 'fun', 'question', 'ask', 'also', 'talk', 'anything', 'else', 'mind', 'specific', 'routine', 'making', 'oolong', 'kick', 'lately', 'feel', 'free', 'link', 'picture', 'well', 'even', 'talk', 'non', 'related', 'topic', 'maybe', 'advice', 'guy', 'gal', 'talk', 'life', 'general']</td>\n",
       "      <td>['cup', 'daily', 'discussion', 'question', 'story', 'may', 'drinking', 'today', 'question', 'mind', 'story', 'share', 'worry', 'one', 'fun', 'question', 'ask', 'also', 'talk', 'anything', 'else', 'mind', 'specific', 'routine', 'making', 'oolong', 'kick', 'lately', 'feel', 'free', 'link', 'picture', 'well', 'even', 'talk', 'non', 'related', 'topic', 'maybe', 'advice', 'guy', 'gal', 'talk', 'lif...</td>\n",
       "    </tr>\n",
       "    <tr>\n",
       "      <th>1</th>\n",
       "      <td>1</td>\n",
       "      <td>1</td>\n",
       "      <td>Marketing Monday! - May 23, 2022</td>\n",
       "      <td>We realize there are lots of people involved in the tea industry here, so this thread is a weekly feature where anyone can promote their current projects without worrying about the self-promotion rules.  Feel free to include links to your shop, crowdfunding sites, surveys, sales, or discount codes.  The rule against claims of health benefits remains in effect here.  It should go without saying...</td>\n",
       "      <td>Marketing Monday! - May 23, 2022 We realize there are lots of people involved in the tea industry here, so this thread is a weekly feature where anyone can promote their current projects without worrying about the self-promotion rules.  Feel free to include links to your shop, crowdfunding sites, surveys, sales, or discount codes.  The rule against claims of health benefits remains in effect h...</td>\n",
       "      <td>marketing monday    may</td>\n",
       "      <td>we realize there are lots of people involved in the tea industry here  so this thread is a weekly feature where anyone can promote their current projects without worrying about the self promotion rules   feel free to include links to your shop  crowdfunding sites  surveys  sales  or discount codes   the rule against claims of health benefits remains in effect here   it should go without saying...</td>\n",
       "      <td>marketing monday    may          we realize there are lots of people involved in the tea industry here  so this thread is a weekly feature where anyone can promote their current projects without worrying about the self promotion rules   feel free to include links to your shop  crowdfunding sites  surveys  sales  or discount codes   the rule against claims of health benefits remains in effect h...</td>\n",
       "      <td>15</td>\n",
       "      <td>118</td>\n",
       "      <td>['marketing', 'monday', 'may']</td>\n",
       "      <td>['we', 'realize', 'there', 'are', 'lots', 'of', 'people', 'involved', 'in', 'the', 'tea', 'industry', 'here', 'so', 'this', 'thread', 'is', 'a', 'weekly', 'feature', 'where', 'anyone', 'can', 'promote', 'their', 'current', 'projects', 'without', 'worrying', 'about', 'the', 'self', 'promotion', 'rules', 'feel', 'free', 'to', 'include', 'links', 'to', 'your', 'shop', 'crowdfunding', 'sites', 'su...</td>\n",
       "      <td>['marketing', 'monday', 'may', 'we', 'realize', 'there', 'are', 'lots', 'of', 'people', 'involved', 'in', 'the', 'tea', 'industry', 'here', 'so', 'this', 'thread', 'is', 'a', 'weekly', 'feature', 'where', 'anyone', 'can', 'promote', 'their', 'current', 'projects', 'without', 'worrying', 'about', 'the', 'self', 'promotion', 'rules', 'feel', 'free', 'to', 'include', 'links', 'to', 'your', 'shop'...</td>\n",
       "      <td>['marketing', 'monday', 'may']</td>\n",
       "      <td>['realize', 'lots', 'people', 'involved', 'industry', 'thread', 'weekly', 'feature', 'anyone', 'promote', 'current', 'projects', 'without', 'worrying', 'self', 'promotion', 'rules', 'feel', 'free', 'include', 'links', 'shop', 'crowdfunding', 'sites', 'surveys', 'sales', 'discount', 'codes', 'rule', 'claims', 'health', 'benefits', 'remains', 'effect', 'go', 'without', 'saying', 'still', 'expect...</td>\n",
       "      <td>['marketing', 'monday', 'may', 'realize', 'lots', 'people', 'involved', 'industry', 'thread', 'weekly', 'feature', 'anyone', 'promote', 'current', 'projects', 'without', 'worrying', 'self', 'promotion', 'rules', 'feel', 'free', 'include', 'links', 'shop', 'crowdfunding', 'sites', 'surveys', 'sales', 'discount', 'codes', 'rule', 'claims', 'health', 'benefits', 'remains', 'effect', 'go', 'withou...</td>\n",
       "      <td>['marketing', 'monday', 'may']</td>\n",
       "      <td>['realize', 'lot', 'people', 'involved', 'industry', 'thread', 'weekly', 'feature', 'anyone', 'promote', 'current', 'project', 'without', 'worrying', 'self', 'promotion', 'rule', 'feel', 'free', 'include', 'link', 'shop', 'crowdfunding', 'site', 'survey', 'sale', 'discount', 'code', 'rule', 'claim', 'health', 'benefit', 'remains', 'effect', 'go', 'without', 'saying', 'still', 'expect', 'people...</td>\n",
       "      <td>['marketing', 'monday', 'may', 'realize', 'lot', 'people', 'involved', 'industry', 'thread', 'weekly', 'feature', 'anyone', 'promote', 'current', 'project', 'without', 'worrying', 'self', 'promotion', 'rule', 'feel', 'free', 'include', 'link', 'shop', 'crowdfunding', 'site', 'survey', 'sale', 'discount', 'code', 'rule', 'claim', 'health', 'benefit', 'remains', 'effect', 'go', 'without', 'sayin...</td>\n",
       "    </tr>\n",
       "    <tr>\n",
       "      <th>2</th>\n",
       "      <td>2</td>\n",
       "      <td>1</td>\n",
       "      <td>I’m in London. I like tea. (Thank you for the recommendations)</td>\n",
       "      <td></td>\n",
       "      <td>I’m in London. I like tea. (Thank you for the recommendations)</td>\n",
       "      <td>i’m in london  i like tea   thank you for the recommendations</td>\n",
       "      <td></td>\n",
       "      <td>i’m in london  i like tea   thank you for the recommendations</td>\n",
       "      <td>15</td>\n",
       "      <td>2</td>\n",
       "      <td>['i’m', 'in', 'london', 'i', 'like', 'tea', 'thank', 'you', 'for', 'the', 'recommendations']</td>\n",
       "      <td>[]</td>\n",
       "      <td>['i’m', 'in', 'london', 'i', 'like', 'tea', 'thank', 'you', 'for', 'the', 'recommendations']</td>\n",
       "      <td>['i’m', 'london', 'thank', 'recommendations']</td>\n",
       "      <td>[]</td>\n",
       "      <td>['i’m', 'london', 'thank', 'recommendations']</td>\n",
       "      <td>['i’m', 'london', 'thank', 'recommendation']</td>\n",
       "      <td>[]</td>\n",
       "      <td>['i’m', 'london', 'thank', 'recommendation']</td>\n",
       "    </tr>\n",
       "  </tbody>\n",
       "</table>\n",
       "</div>"
      ],
      "text/plain": [
       "   Unnamed: 0  subreddit  \\\n",
       "0           0          1   \n",
       "1           1          1   \n",
       "2           2          1   \n",
       "\n",
       "                                                                        title  \\\n",
       "0  What's in your cup? Daily discussion, questions and stories - May 23, 2022   \n",
       "1                                            Marketing Monday! - May 23, 2022   \n",
       "2              I’m in London. I like tea. (Thank you for the recommendations)   \n",
       "\n",
       "                                                                                                                                                                                                                                                                                                                                                                                                          selftext  \\\n",
       "0  What are you drinking today?  What questions have been on your mind?  Any stories to share?  And don't worry, no one will make fun of you for what you drink or the questions you ask. \\n\\nYou can also talk about anything else on your mind, from your specific routine while making tea, or how you've been on an oolong kick lately. Feel free to link to pictures in here, as well.  You can even talk ...   \n",
       "1  We realize there are lots of people involved in the tea industry here, so this thread is a weekly feature where anyone can promote their current projects without worrying about the self-promotion rules.  Feel free to include links to your shop, crowdfunding sites, surveys, sales, or discount codes.  The rule against claims of health benefits remains in effect here.  It should go without saying...   \n",
       "2                                                                                                                                                                                                                                                                                                                                                                                                                    \n",
       "\n",
       "                                                                                                                                                                                                                                                                                                                                                                                                           alltext  \\\n",
       "0  What's in your cup? Daily discussion, questions and stories - May 23, 2022 What are you drinking today?  What questions have been on your mind?  Any stories to share?  And don't worry, no one will make fun of you for what you drink or the questions you ask. \\n\\nYou can also talk about anything else on your mind, from your specific routine while making tea, or how you've been on an oolong kick ...   \n",
       "1  Marketing Monday! - May 23, 2022 We realize there are lots of people involved in the tea industry here, so this thread is a weekly feature where anyone can promote their current projects without worrying about the self-promotion rules.  Feel free to include links to your shop, crowdfunding sites, surveys, sales, or discount codes.  The rule against claims of health benefits remains in effect h...   \n",
       "2                                                                                                                                                                                                                                                                                                                                                 I’m in London. I like tea. (Thank you for the recommendations)     \n",
       "\n",
       "                                                                title_cleaned  \\\n",
       "0  what s in your cup  daily discussion  questions and stories   may            \n",
       "1                                            marketing monday    may            \n",
       "2              i’m in london  i like tea   thank you for the recommendations    \n",
       "\n",
       "                                                                                                                                                                                                                                                                                                                                                                                                  selftext_cleaned  \\\n",
       "0  what are you drinking today   what questions have been on your mind   any stories to share   and don t worry  no one will make fun of you for what you drink or the questions you ask  \\n\\nyou can also talk about anything else on your mind  from your specific routine while making tea  or how you ve been on an oolong kick lately  feel free to link to pictures in here  as well   you can even talk ...   \n",
       "1  we realize there are lots of people involved in the tea industry here  so this thread is a weekly feature where anyone can promote their current projects without worrying about the self promotion rules   feel free to include links to your shop  crowdfunding sites  surveys  sales  or discount codes   the rule against claims of health benefits remains in effect here   it should go without saying...   \n",
       "2                                                                                                                                                                                                                                                                                                                                                                                                                    \n",
       "\n",
       "                                                                                                                                                                                                                                                                                                                                                                                                   alltext_cleaned  \\\n",
       "0  what s in your cup  daily discussion  questions and stories   may          what are you drinking today   what questions have been on your mind   any stories to share   and don t worry  no one will make fun of you for what you drink or the questions you ask  \\n\\nyou can also talk about anything else on your mind  from your specific routine while making tea  or how you ve been on an oolong kick ...   \n",
       "1  marketing monday    may          we realize there are lots of people involved in the tea industry here  so this thread is a weekly feature where anyone can promote their current projects without worrying about the self promotion rules   feel free to include links to your shop  crowdfunding sites  surveys  sales  or discount codes   the rule against claims of health benefits remains in effect h...   \n",
       "2                                                                                                                                                                                                                                                                                                                                                 i’m in london  i like tea   thank you for the recommendations      \n",
       "\n",
       "   title_word_count  selftext_word_count  \\\n",
       "0                24                  115   \n",
       "1                15                  118   \n",
       "2                15                    2   \n",
       "\n",
       "                                                                                       title_token  \\\n",
       "0  ['what', 's', 'in', 'your', 'cup', 'daily', 'discussion', 'questions', 'and', 'stories', 'may']   \n",
       "1                                                                   ['marketing', 'monday', 'may']   \n",
       "2     ['i’m', 'in', 'london', 'i', 'like', 'tea', 'thank', 'you', 'for', 'the', 'recommendations']   \n",
       "\n",
       "                                                                                                                                                                                                                                                                                                                                                                                                    selftext_token  \\\n",
       "0  ['what', 'are', 'you', 'drinking', 'today', 'what', 'questions', 'have', 'been', 'on', 'your', 'mind', 'any', 'stories', 'to', 'share', 'and', 'don', 't', 'worry', 'no', 'one', 'will', 'make', 'fun', 'of', 'you', 'for', 'what', 'you', 'drink', 'or', 'the', 'questions', 'you', 'ask', 'you', 'can', 'also', 'talk', 'about', 'anything', 'else', 'on', 'your', 'mind', 'from', 'your', 'specific', 'ro...   \n",
       "1  ['we', 'realize', 'there', 'are', 'lots', 'of', 'people', 'involved', 'in', 'the', 'tea', 'industry', 'here', 'so', 'this', 'thread', 'is', 'a', 'weekly', 'feature', 'where', 'anyone', 'can', 'promote', 'their', 'current', 'projects', 'without', 'worrying', 'about', 'the', 'self', 'promotion', 'rules', 'feel', 'free', 'to', 'include', 'links', 'to', 'your', 'shop', 'crowdfunding', 'sites', 'su...   \n",
       "2                                                                                                                                                                                                                                                                                                                                                                                                               []   \n",
       "\n",
       "                                                                                                                                                                                                                                                                                                                                                                                                     alltext_token  \\\n",
       "0  ['what', 's', 'in', 'your', 'cup', 'daily', 'discussion', 'questions', 'and', 'stories', 'may', 'what', 'are', 'you', 'drinking', 'today', 'what', 'questions', 'have', 'been', 'on', 'your', 'mind', 'any', 'stories', 'to', 'share', 'and', 'don', 't', 'worry', 'no', 'one', 'will', 'make', 'fun', 'of', 'you', 'for', 'what', 'you', 'drink', 'or', 'the', 'questions', 'you', 'ask', 'you', 'can', 'al...   \n",
       "1  ['marketing', 'monday', 'may', 'we', 'realize', 'there', 'are', 'lots', 'of', 'people', 'involved', 'in', 'the', 'tea', 'industry', 'here', 'so', 'this', 'thread', 'is', 'a', 'weekly', 'feature', 'where', 'anyone', 'can', 'promote', 'their', 'current', 'projects', 'without', 'worrying', 'about', 'the', 'self', 'promotion', 'rules', 'feel', 'free', 'to', 'include', 'links', 'to', 'your', 'shop'...   \n",
       "2                                                                                                                                                                                                                                                                                                                     ['i’m', 'in', 'london', 'i', 'like', 'tea', 'thank', 'you', 'for', 'the', 'recommendations']   \n",
       "\n",
       "                                                        title_sw  \\\n",
       "0  ['cup', 'daily', 'discussion', 'questions', 'stories', 'may']   \n",
       "1                                 ['marketing', 'monday', 'may']   \n",
       "2                  ['i’m', 'london', 'thank', 'recommendations']   \n",
       "\n",
       "                                                                                                                                                                                                                                                                                                                                                                                                       selftext_sw  \\\n",
       "0                                           ['drinking', 'today', 'questions', 'mind', 'stories', 'share', 'worry', 'one', 'fun', 'questions', 'ask', 'also', 'talk', 'anything', 'else', 'mind', 'specific', 'routine', 'making', 'oolong', 'kick', 'lately', 'feel', 'free', 'link', 'pictures', 'well', 'even', 'talk', 'non', 'related', 'topics', 'maybe', 'advice', 'guy', 'gal', 'talk', 'life', 'general']   \n",
       "1  ['realize', 'lots', 'people', 'involved', 'industry', 'thread', 'weekly', 'feature', 'anyone', 'promote', 'current', 'projects', 'without', 'worrying', 'self', 'promotion', 'rules', 'feel', 'free', 'include', 'links', 'shop', 'crowdfunding', 'sites', 'surveys', 'sales', 'discount', 'codes', 'rule', 'claims', 'health', 'benefits', 'remains', 'effect', 'go', 'without', 'saying', 'still', 'expect...   \n",
       "2                                                                                                                                                                                                                                                                                                                                                                                                               []   \n",
       "\n",
       "                                                                                                                                                                                                                                                                                                                                                                                                        alltext_sw  \\\n",
       "0  ['cup', 'daily', 'discussion', 'questions', 'stories', 'may', 'drinking', 'today', 'questions', 'mind', 'stories', 'share', 'worry', 'one', 'fun', 'questions', 'ask', 'also', 'talk', 'anything', 'else', 'mind', 'specific', 'routine', 'making', 'oolong', 'kick', 'lately', 'feel', 'free', 'link', 'pictures', 'well', 'even', 'talk', 'non', 'related', 'topics', 'maybe', 'advice', 'guy', 'gal', 'ta...   \n",
       "1  ['marketing', 'monday', 'may', 'realize', 'lots', 'people', 'involved', 'industry', 'thread', 'weekly', 'feature', 'anyone', 'promote', 'current', 'projects', 'without', 'worrying', 'self', 'promotion', 'rules', 'feel', 'free', 'include', 'links', 'shop', 'crowdfunding', 'sites', 'surveys', 'sales', 'discount', 'codes', 'rule', 'claims', 'health', 'benefits', 'remains', 'effect', 'go', 'withou...   \n",
       "2                                                                                                                                                                                                                                                                                                                                                                    ['i’m', 'london', 'thank', 'recommendations']   \n",
       "\n",
       "                                                    title_lem  \\\n",
       "0  ['cup', 'daily', 'discussion', 'question', 'story', 'may']   \n",
       "1                              ['marketing', 'monday', 'may']   \n",
       "2                ['i’m', 'london', 'thank', 'recommendation']   \n",
       "\n",
       "                                                                                                                                                                                                                                                                                                                                                                                                      selftext_lem  \\\n",
       "0                                                 ['drinking', 'today', 'question', 'mind', 'story', 'share', 'worry', 'one', 'fun', 'question', 'ask', 'also', 'talk', 'anything', 'else', 'mind', 'specific', 'routine', 'making', 'oolong', 'kick', 'lately', 'feel', 'free', 'link', 'picture', 'well', 'even', 'talk', 'non', 'related', 'topic', 'maybe', 'advice', 'guy', 'gal', 'talk', 'life', 'general']   \n",
       "1  ['realize', 'lot', 'people', 'involved', 'industry', 'thread', 'weekly', 'feature', 'anyone', 'promote', 'current', 'project', 'without', 'worrying', 'self', 'promotion', 'rule', 'feel', 'free', 'include', 'link', 'shop', 'crowdfunding', 'site', 'survey', 'sale', 'discount', 'code', 'rule', 'claim', 'health', 'benefit', 'remains', 'effect', 'go', 'without', 'saying', 'still', 'expect', 'people...   \n",
       "2                                                                                                                                                                                                                                                                                                                                                                                                               []   \n",
       "\n",
       "                                                                                                                                                                                                                                                                                                                                                                                                       alltext_lem  \n",
       "0  ['cup', 'daily', 'discussion', 'question', 'story', 'may', 'drinking', 'today', 'question', 'mind', 'story', 'share', 'worry', 'one', 'fun', 'question', 'ask', 'also', 'talk', 'anything', 'else', 'mind', 'specific', 'routine', 'making', 'oolong', 'kick', 'lately', 'feel', 'free', 'link', 'picture', 'well', 'even', 'talk', 'non', 'related', 'topic', 'maybe', 'advice', 'guy', 'gal', 'talk', 'lif...  \n",
       "1  ['marketing', 'monday', 'may', 'realize', 'lot', 'people', 'involved', 'industry', 'thread', 'weekly', 'feature', 'anyone', 'promote', 'current', 'project', 'without', 'worrying', 'self', 'promotion', 'rule', 'feel', 'free', 'include', 'link', 'shop', 'crowdfunding', 'site', 'survey', 'sale', 'discount', 'code', 'rule', 'claim', 'health', 'benefit', 'remains', 'effect', 'go', 'without', 'sayin...  \n",
       "2                                                                                                                                                                                                                                                                                                                                                                     ['i’m', 'london', 'thank', 'recommendation']  "
      ]
     },
     "execution_count": 4,
     "metadata": {},
     "output_type": "execute_result"
    }
   ],
   "source": [
    "#checking looks of imported data\n",
    "df_merged.head(3)"
   ]
  },
  {
   "cell_type": "markdown",
   "id": "0b0c9797",
   "metadata": {},
   "source": [
    "#### Select and rename columns"
   ]
  },
  {
   "cell_type": "code",
   "execution_count": 5,
   "id": "49ae88b0",
   "metadata": {},
   "outputs": [
    {
     "name": "stdout",
     "output_type": "stream",
     "text": [
      "Check column names: ['subreddit', 'text']\n"
     ]
    },
    {
     "name": "stderr",
     "output_type": "stream",
     "text": [
      "C:\\Users\\yongl\\anaconda3\\lib\\site-packages\\pandas\\core\\frame.py:5039: SettingWithCopyWarning: \n",
      "A value is trying to be set on a copy of a slice from a DataFrame\n",
      "\n",
      "See the caveats in the documentation: https://pandas.pydata.org/pandas-docs/stable/user_guide/indexing.html#returning-a-view-versus-a-copy\n",
      "  return super().rename(\n"
     ]
    },
    {
     "data": {
      "text/html": [
       "<div>\n",
       "<style scoped>\n",
       "    .dataframe tbody tr th:only-of-type {\n",
       "        vertical-align: middle;\n",
       "    }\n",
       "\n",
       "    .dataframe tbody tr th {\n",
       "        vertical-align: top;\n",
       "    }\n",
       "\n",
       "    .dataframe thead th {\n",
       "        text-align: right;\n",
       "    }\n",
       "</style>\n",
       "<table border=\"1\" class=\"dataframe\">\n",
       "  <thead>\n",
       "    <tr style=\"text-align: right;\">\n",
       "      <th></th>\n",
       "      <th>subreddit</th>\n",
       "      <th>text</th>\n",
       "    </tr>\n",
       "  </thead>\n",
       "  <tbody>\n",
       "    <tr>\n",
       "      <th>0</th>\n",
       "      <td>1</td>\n",
       "      <td>['cup', 'daily', 'discussion', 'question', 'story', 'may', 'drinking', 'today', 'question', 'mind', 'story', 'share', 'worry', 'one', 'fun', 'question', 'ask', 'also', 'talk', 'anything', 'else', 'mind', 'specific', 'routine', 'making', 'oolong', 'kick', 'lately', 'feel', 'free', 'link', 'picture', 'well', 'even', 'talk', 'non', 'related', 'topic', 'maybe', 'advice', 'guy', 'gal', 'talk', 'lif...</td>\n",
       "    </tr>\n",
       "    <tr>\n",
       "      <th>1</th>\n",
       "      <td>1</td>\n",
       "      <td>['marketing', 'monday', 'may', 'realize', 'lot', 'people', 'involved', 'industry', 'thread', 'weekly', 'feature', 'anyone', 'promote', 'current', 'project', 'without', 'worrying', 'self', 'promotion', 'rule', 'feel', 'free', 'include', 'link', 'shop', 'crowdfunding', 'site', 'survey', 'sale', 'discount', 'code', 'rule', 'claim', 'health', 'benefit', 'remains', 'effect', 'go', 'without', 'sayin...</td>\n",
       "    </tr>\n",
       "    <tr>\n",
       "      <th>2</th>\n",
       "      <td>1</td>\n",
       "      <td>['i’m', 'london', 'thank', 'recommendation']</td>\n",
       "    </tr>\n",
       "  </tbody>\n",
       "</table>\n",
       "</div>"
      ],
      "text/plain": [
       "   subreddit  \\\n",
       "0          1   \n",
       "1          1   \n",
       "2          1   \n",
       "\n",
       "                                                                                                                                                                                                                                                                                                                                                                                                              text  \n",
       "0  ['cup', 'daily', 'discussion', 'question', 'story', 'may', 'drinking', 'today', 'question', 'mind', 'story', 'share', 'worry', 'one', 'fun', 'question', 'ask', 'also', 'talk', 'anything', 'else', 'mind', 'specific', 'routine', 'making', 'oolong', 'kick', 'lately', 'feel', 'free', 'link', 'picture', 'well', 'even', 'talk', 'non', 'related', 'topic', 'maybe', 'advice', 'guy', 'gal', 'talk', 'lif...  \n",
       "1  ['marketing', 'monday', 'may', 'realize', 'lot', 'people', 'involved', 'industry', 'thread', 'weekly', 'feature', 'anyone', 'promote', 'current', 'project', 'without', 'worrying', 'self', 'promotion', 'rule', 'feel', 'free', 'include', 'link', 'shop', 'crowdfunding', 'site', 'survey', 'sale', 'discount', 'code', 'rule', 'claim', 'health', 'benefit', 'remains', 'effect', 'go', 'without', 'sayin...  \n",
       "2                                                                                                                                                                                                                                                                                                                                                                     ['i’m', 'london', 'thank', 'recommendation']  "
      ]
     },
     "execution_count": 5,
     "metadata": {},
     "output_type": "execute_result"
    }
   ],
   "source": [
    "df = df_merged[['subreddit','alltext_lem']]\n",
    "df.rename(columns = {'alltext_lem': 'text'}, inplace = True)\n",
    "\n",
    "print(f\"Check column names: {df.columns.tolist()}\")\n",
    "df.head(3)"
   ]
  },
  {
   "cell_type": "markdown",
   "id": "038b4050",
   "metadata": {},
   "source": [
    "## Split data into training and testing dataset"
   ]
  },
  {
   "cell_type": "code",
   "execution_count": 6,
   "id": "a5ba2e5b",
   "metadata": {},
   "outputs": [],
   "source": [
    "# Define training and testing sets.\n",
    "X = df['text']\n",
    "y = df['subreddit']\n",
    "\n",
    "X_train, X_test, y_train, y_test = train_test_split(X,\n",
    "                                                    y,\n",
    "                                                    test_size=0.33,\n",
    "                                                    stratify=y,\n",
    "                                                    random_state=42)"
   ]
  },
  {
   "cell_type": "markdown",
   "id": "e78489f6",
   "metadata": {},
   "source": [
    "## Null model"
   ]
  },
  {
   "cell_type": "code",
   "execution_count": 7,
   "id": "efd7f626",
   "metadata": {},
   "outputs": [
    {
     "name": "stdout",
     "output_type": "stream",
     "text": [
      "Proportion of tea posts: 0.6020278833967047\n",
      "Proportion of coffee posts: 0.3979721166032953\n"
     ]
    }
   ],
   "source": [
    "# Check proportion of tea and coffee posts\n",
    "print(f\"Proportion of tea posts: {y.value_counts(normalize = True)[1]}\")\n",
    "print(f\"Proportion of coffee posts: {y.value_counts(normalize = True)[0]}\")"
   ]
  },
  {
   "cell_type": "markdown",
   "id": "9fd2efb2",
   "metadata": {},
   "source": [
    "Our null model to classify which subreddit a new reddit post comes from, is based on the subreddit where the majority of posts come from. As there are more posts from 'tea', our null model predicts that there will be a 60% chance that a new post will come from the 'tea' subreddit."
   ]
  },
  {
   "cell_type": "code",
   "execution_count": 8,
   "id": "7beddd6e",
   "metadata": {},
   "outputs": [
    {
     "name": "stdout",
     "output_type": "stream",
     "text": [
      "baseline accuracy: 0.6020278833967047\n"
     ]
    }
   ],
   "source": [
    "print(f'baseline accuracy: {y.value_counts(normalize = True)[1]}')"
   ]
  },
  {
   "cell_type": "markdown",
   "id": "fd9f8a87",
   "metadata": {},
   "source": [
    "## Setting up modeling pipelines"
   ]
  },
  {
   "cell_type": "markdown",
   "id": "fa25ccb0",
   "metadata": {},
   "source": [
    "1. We will be testing vectorizer-model combinations using the following: \n",
    "* 2 vectorizers - CountVectorizer and Term Frequency-Inverse Document Frequency (TF-IDF); and \n",
    "* 2 models - Multinomial Naive Bayes and Logistic Regression\n",
    "\n",
    "2. Hence we will be setting up 4 pipelines in total, with permutations of the 2 vectorizers and 2 models:\n",
    "* pipe_cm: CountVectorizer and Multinomial Naive Bayes\n",
    "* pipe_cl: CountVectorizer and Logistic Regression\n",
    "* pipe_tm: TF-IDF and Multinomial Naive Bayes\n",
    "* pipe_tl: TF-IDF and Logistic Regression"
   ]
  },
  {
   "cell_type": "code",
   "execution_count": 9,
   "id": "960a3efc",
   "metadata": {},
   "outputs": [],
   "source": [
    "#setting up 4 pipelines\n",
    "\n",
    "pipe_cm = Pipeline([\n",
    "    ('cvec', CountVectorizer()),\n",
    "    ('nb', MultinomialNB())\n",
    "])\n",
    "\n",
    "pipe_cl = Pipeline([\n",
    "    ('cvec', CountVectorizer()),\n",
    "    ('lr', LogisticRegression())\n",
    "])\n",
    "\n",
    "pipe_tm = Pipeline([\n",
    "    ('tvec', TfidfVectorizer()),\n",
    "    ('nb', MultinomialNB())\n",
    "])\n",
    "\n",
    "pipe_tl = Pipeline([\n",
    "    ('tvec', TfidfVectorizer()),\n",
    "    ('lr', LogisticRegression())\n",
    "])\n"
   ]
  },
  {
   "cell_type": "markdown",
   "id": "c5a07cec",
   "metadata": {},
   "source": [
    "## Modeling with GridSearchCV"
   ]
  },
  {
   "cell_type": "markdown",
   "id": "e02d920b",
   "metadata": {},
   "source": [
    "#### Create modeling functions (try to add a params = None)"
   ]
  },
  {
   "cell_type": "code",
   "execution_count": 81,
   "id": "b3b19e57",
   "metadata": {},
   "outputs": [],
   "source": [
    "#create function for GridSearchCV for CrossVectorizer pipelines \n",
    "def gs_cv(pipe, name):\n",
    "    \n",
    "    #setting up initial pipe parameters\n",
    "    pipe_cv_params = {\n",
    "    'cvec__max_features': [1_000, 2_000, 3_000, 4_000, 5_000],\n",
    "    'cvec__min_df': [2, 3],\n",
    "    'cvec__max_df': [.9, .95],\n",
    "    'cvec__ngram_range': [(1,1), (1,2)]}\n",
    "        \n",
    "    pipe_tvec_params = {\n",
    "    'tvec__max_features': [2_000, 3_000, 4_000, 5_000],\n",
    "    'tvec__stop_words': [None, 'english'],\n",
    "    'tvec__ngram_range': [(1,1), (1,2)]}\n",
    "\n",
    "    if name in ['pipe_cm','pipe_cl']:\n",
    "        pipe_params = pipe_cv_params\n",
    "    elif name in ['pipe_tm', 'pipe_tl']:\n",
    "        pipe_params = pipe_tvec_params\n",
    "\n",
    "    # Instantiate GridSearchCV.\n",
    "    gs = GridSearchCV(pipe, # pipe that we are optimizing\n",
    "                      param_grid=pipe_params, # parameters values are we searching\n",
    "                      cv=5,\n",
    "                     n_jobs = -1) # 5-fold cross-validation.\n",
    "    \n",
    "    # Fit GridSearch to training data.\n",
    "    gs.fit(X_train, y_train)\n",
    "    \n",
    "    return gs\n",
    "\n",
    "def scoring(gs, name):\n",
    "    \n",
    "    results = []\n",
    "    # Best score\n",
    "    best_score = gs.best_score_\n",
    "    results.append(best_score)\n",
    "    #print(f\"Best score for {name}: {best_score}\\n\")\n",
    "    \n",
    "    # Score model on training set.\n",
    "    training_score = gs.score(X_train, y_train)\n",
    "    results.append(training_score)\n",
    "    #print(f\"Score on training set for {name}: {training_score}\\n\")\n",
    "    \n",
    "    # Score model on testing set.\n",
    "    test_score = gs.score(X_test, y_test)\n",
    "    results.append(test_score)\n",
    "    #print(f\"Score on test set for {name}: {gs.score(X_test, y_test)}\\n\")\n",
    "    \n",
    "    #Calculate ROC AUC score.\n",
    "    #auc = roc_auc_score(y_test, gs.predict_proba(X_test)[:,1])\n",
    "    #results.append(auc)\n",
    "    \n",
    "    return pd.DataFrame({name : results}, index = ['best score', 'training score', 'test score'])#, 'ROC AUC'])\n",
    "    \n",
    "#construct function for top keywords, coefficients and impact\n",
    "def keywords(gs): \n",
    "    #construct dataframe of word and coefficients\n",
    "    #access name within pipeline: gs.best_estimator_[0].get_feature_names()\n",
    "    #access coefficients from within pipeline: gs.best_estimator_[1].coef_ OR gs.best_estimator_.named_steps.lr.coef_\n",
    "    word_coef = pd.DataFrame({'word': (gs.best_estimator_[0].get_feature_names()),'coef': gs.best_estimator_[1].coef_.T.tolist()})\n",
    "\n",
    "    #create impact column\n",
    "    word_coef['impact'] = word_coef['coef'].apply(lambda x: np.exp(x)[0])\n",
    "\n",
    "    #word_coef.head()\n",
    "    \n",
    "    #find top 20 keywords for tea\n",
    "    tea_word_impact = word_coef.sort_values(by = 'impact', ascending = False).head(20)[['word', 'impact']]\n",
    "\n",
    "    #find top 20 keywords for coffee\n",
    "    coffee_word_impact = word_coef.sort_values(by = 'impact', ascending = True).head(20)[['word', 'impact']]\n",
    "    \n",
    "    return tea_word_impact, coffee_word_impact    \n",
    "\n",
    "#feature importance for multinomial NF models\n",
    "def FeaturesImportanceNB(trfmr, nb):\n",
    "    df = pd.DataFrame()\n",
    "\n",
    "    df['feature'] = trfmr.get_feature_names()\n",
    "    df['log prob diff'] = nb.feature_log_prob_[1,:] - nb.feature_log_prob_[0, :]\n",
    "\n",
    "    df_tea = df.sort_values(by= 'log prob diff', ascending= True).head(10)\n",
    "    df_coffee = df.sort_values(by= 'log prob diff', ascending= False).head(10)\n",
    "\n",
    "    #caption1 = df_tea.style.set_table_attributes(\"style='display:inline'\").set_caption('Coffee Features Importance')\n",
    "    #caption2 = df_coffee.style.set_table_attributes(\"style='display:inline'\").set_caption('Tea Features Importance')\n",
    "    #display_html(caption1._repr_html_()+'&emsp;&emsp;'+caption2._repr_html_(), raw=True)"
   ]
  },
  {
   "cell_type": "markdown",
   "id": "0b9f4919",
   "metadata": {},
   "source": [
    "### Model 1: CountVectorizer and Multinomial Naive Bayes"
   ]
  },
  {
   "cell_type": "markdown",
   "id": "3e65ab8e",
   "metadata": {},
   "source": [
    "#### Optimise GridSearchCV parameters and train model"
   ]
  },
  {
   "cell_type": "code",
   "execution_count": 83,
   "id": "54bf745c",
   "metadata": {
    "scrolled": false
   },
   "outputs": [
    {
     "name": "stdout",
     "output_type": "stream",
     "text": [
      "Best params: {'cvec__max_df': 0.9, 'cvec__max_features': 2000, 'cvec__min_df': 3, 'cvec__ngram_range': (1, 2)}\n",
      "\n",
      "Wall time: 4.46 s\n"
     ]
    },
    {
     "data": {
      "text/html": [
       "<div>\n",
       "<style scoped>\n",
       "    .dataframe tbody tr th:only-of-type {\n",
       "        vertical-align: middle;\n",
       "    }\n",
       "\n",
       "    .dataframe tbody tr th {\n",
       "        vertical-align: top;\n",
       "    }\n",
       "\n",
       "    .dataframe thead th {\n",
       "        text-align: right;\n",
       "    }\n",
       "</style>\n",
       "<table border=\"1\" class=\"dataframe\">\n",
       "  <thead>\n",
       "    <tr style=\"text-align: right;\">\n",
       "      <th></th>\n",
       "      <th>pipe_cm</th>\n",
       "    </tr>\n",
       "  </thead>\n",
       "  <tbody>\n",
       "    <tr>\n",
       "      <th>best score</th>\n",
       "      <td>0.928110</td>\n",
       "    </tr>\n",
       "    <tr>\n",
       "      <th>training score</th>\n",
       "      <td>0.964995</td>\n",
       "    </tr>\n",
       "    <tr>\n",
       "      <th>test score</th>\n",
       "      <td>0.927063</td>\n",
       "    </tr>\n",
       "  </tbody>\n",
       "</table>\n",
       "</div>"
      ],
      "text/plain": [
       "                 pipe_cm\n",
       "best score      0.928110\n",
       "training score  0.964995\n",
       "test score      0.927063"
      ]
     },
     "execution_count": 83,
     "metadata": {},
     "output_type": "execute_result"
    }
   ],
   "source": [
    "%%time\n",
    "#pipe_cm: CountVectorizer and Multinomial Naive Bayes\n",
    "gs_m1 = gs_cv(pipe_cm, 'pipe_cm')\n",
    "print(f\"Best params: {gs_m1.best_params_}\\n\")\n",
    "pipe_cm_results = scoring(gs_m1, 'pipe_cm')\n",
    "\n",
    "pipe_cm_results"
   ]
  },
  {
   "cell_type": "markdown",
   "id": "4a9cc273",
   "metadata": {},
   "source": [
    "#### Plot confusion matrix "
   ]
  },
  {
   "cell_type": "code",
   "execution_count": 14,
   "id": "54ab2d6a",
   "metadata": {},
   "outputs": [
    {
     "data": {
      "image/png": "[encoded data removed]",
      "text/plain": [
       "<Figure size 432x288 with 2 Axes>"
      ]
     },
     "metadata": {
      "needs_background": "light"
     },
     "output_type": "display_data"
    }
   ],
   "source": [
    "#pipe_cm: CountVectorizer and Multinomial Naive Bayes\n",
    "# Get predictions\n",
    "preds_cvec = gs_m1.predict(X_test)\n",
    "\n",
    "# Save confusion matrix values\n",
    "tn, fp, fn, tp = confusion_matrix(y_test, preds_cvec).ravel()\n",
    "# visualize this\n",
    "plot_confusion_matrix(gs_m1, X_test, y_test, cmap='Blues', values_format='d');"
   ]
  },
  {
   "cell_type": "markdown",
   "id": "850cc616",
   "metadata": {},
   "source": [
    "#### Calculate classification metrics"
   ]
  },
  {
   "cell_type": "code",
   "execution_count": 55,
   "id": "d4eb9184",
   "metadata": {},
   "outputs": [
    {
     "name": "stdout",
     "output_type": "stream",
     "text": [
      "              precision    recall  f1-score   support\n",
      "\n",
      "           0       0.91      0.82      0.86       207\n",
      "           1       0.89      0.95      0.92       314\n",
      "\n",
      "    accuracy                           0.90       521\n",
      "   macro avg       0.90      0.88      0.89       521\n",
      "weighted avg       0.90      0.90      0.90       521\n",
      "\n",
      "ROC AUC score: 0.9663528108557186\n"
     ]
    }
   ],
   "source": [
    "#confusion matrix results and classification metrics\n",
    "#print(confusion_matrix(y_test, preds_cvec))\n",
    "print(classification_report(y_test, preds_cvec))\n",
    "#print(f\"Best params: {gs.best_params_}\\n\")\n",
    "#print(f\"Coefficients: {gs_m1.best_estimator_.named_steps.nb.coef_}\\n\")\n",
    "print(f\"ROC AUC score: {roc_auc_score(y_test, gs_m1.predict_proba(X_test)[:,1])}\")"
   ]
  },
  {
   "cell_type": "markdown",
   "id": "42a9bdf9",
   "metadata": {},
   "source": [
    "#### Find top predictor keywords for each subreddit"
   ]
  },
  {
   "cell_type": "code",
   "execution_count": 60,
   "id": "6f73d282",
   "metadata": {},
   "outputs": [],
   "source": [
    "#find predictor words and their impact\n",
    "nb_m1 = gs_m1.best_estimator_.named_steps['nb']\n",
    "cvec_m1 = gs_m1.best_estimator_.named_steps['cvec']\n",
    "FeaturesImportanceNB(cvec_m1, nb_m1)\n",
    "\n",
    "df = pd.DataFrame()\n",
    "\n",
    "df['feature'] = tvec_m3.get_feature_names()\n",
    "df['log prob diff'] = nb_m3.feature_log_prob_[1,:] - nb_m3.feature_log_prob_[0, :]\n",
    "\n",
    "df_tea = df.sort_values(by= 'log prob diff', ascending= False).head(10)\n",
    "df_coffee = df.sort_values(by= 'log prob diff', ascending= True).head(10)"
   ]
  },
  {
   "cell_type": "code",
   "execution_count": 61,
   "id": "04f97c79",
   "metadata": {},
   "outputs": [
    {
     "data": {
      "text/html": [
       "<div>\n",
       "<style scoped>\n",
       "    .dataframe tbody tr th:only-of-type {\n",
       "        vertical-align: middle;\n",
       "    }\n",
       "\n",
       "    .dataframe tbody tr th {\n",
       "        vertical-align: top;\n",
       "    }\n",
       "\n",
       "    .dataframe thead th {\n",
       "        text-align: right;\n",
       "    }\n",
       "</style>\n",
       "<table border=\"1\" class=\"dataframe\">\n",
       "  <thead>\n",
       "    <tr style=\"text-align: right;\">\n",
       "      <th></th>\n",
       "      <th>feature</th>\n",
       "      <th>log prob diff</th>\n",
       "    </tr>\n",
       "  </thead>\n",
       "  <tbody>\n",
       "    <tr>\n",
       "      <th>2694</th>\n",
       "      <td>oolong</td>\n",
       "      <td>2.851576</td>\n",
       "    </tr>\n",
       "    <tr>\n",
       "      <th>4204</th>\n",
       "      <td>teapot</td>\n",
       "      <td>2.590760</td>\n",
       "    </tr>\n",
       "    <tr>\n",
       "      <th>2330</th>\n",
       "      <td>leaf</td>\n",
       "      <td>2.568318</td>\n",
       "    </tr>\n",
       "    <tr>\n",
       "      <th>2467</th>\n",
       "      <td>matcha</td>\n",
       "      <td>2.236945</td>\n",
       "    </tr>\n",
       "    <tr>\n",
       "      <th>2405</th>\n",
       "      <td>loose</td>\n",
       "      <td>2.153259</td>\n",
       "    </tr>\n",
       "    <tr>\n",
       "      <th>3540</th>\n",
       "      <td>sencha</td>\n",
       "      <td>2.098678</td>\n",
       "    </tr>\n",
       "    <tr>\n",
       "      <th>1955</th>\n",
       "      <td>green</td>\n",
       "      <td>1.963594</td>\n",
       "    </tr>\n",
       "    <tr>\n",
       "      <th>570</th>\n",
       "      <td>chai</td>\n",
       "      <td>1.963325</td>\n",
       "    </tr>\n",
       "    <tr>\n",
       "      <th>4820</th>\n",
       "      <td>white</td>\n",
       "      <td>1.945128</td>\n",
       "    </tr>\n",
       "    <tr>\n",
       "      <th>666</th>\n",
       "      <td>collection</td>\n",
       "      <td>1.768956</td>\n",
       "    </tr>\n",
       "  </tbody>\n",
       "</table>\n",
       "</div>"
      ],
      "text/plain": [
       "         feature  log prob diff\n",
       "2694      oolong       2.851576\n",
       "4204      teapot       2.590760\n",
       "2330        leaf       2.568318\n",
       "2467      matcha       2.236945\n",
       "2405       loose       2.153259\n",
       "3540      sencha       2.098678\n",
       "1955       green       1.963594\n",
       "570         chai       1.963325\n",
       "4820       white       1.945128\n",
       "666   collection       1.768956"
      ]
     },
     "execution_count": 61,
     "metadata": {},
     "output_type": "execute_result"
    }
   ],
   "source": [
    "#top keywords for tea\n",
    "df_tea.head(10)"
   ]
  },
  {
   "cell_type": "code",
   "execution_count": 62,
   "id": "582cd965",
   "metadata": {},
   "outputs": [
    {
     "data": {
      "text/html": [
       "<div>\n",
       "<style scoped>\n",
       "    .dataframe tbody tr th:only-of-type {\n",
       "        vertical-align: middle;\n",
       "    }\n",
       "\n",
       "    .dataframe tbody tr th {\n",
       "        vertical-align: top;\n",
       "    }\n",
       "\n",
       "    .dataframe thead th {\n",
       "        text-align: right;\n",
       "    }\n",
       "</style>\n",
       "<table border=\"1\" class=\"dataframe\">\n",
       "  <thead>\n",
       "    <tr style=\"text-align: right;\">\n",
       "      <th></th>\n",
       "      <th>feature</th>\n",
       "      <th>log prob diff</th>\n",
       "    </tr>\n",
       "  </thead>\n",
       "  <tbody>\n",
       "    <tr>\n",
       "      <th>320</th>\n",
       "      <td>bean</td>\n",
       "      <td>-2.569945</td>\n",
       "    </tr>\n",
       "    <tr>\n",
       "      <th>1959</th>\n",
       "      <td>grind</td>\n",
       "      <td>-2.484708</td>\n",
       "    </tr>\n",
       "    <tr>\n",
       "      <th>1961</th>\n",
       "      <td>grinder</td>\n",
       "      <td>-2.465721</td>\n",
       "    </tr>\n",
       "    <tr>\n",
       "      <th>2431</th>\n",
       "      <td>machine</td>\n",
       "      <td>-2.429283</td>\n",
       "    </tr>\n",
       "    <tr>\n",
       "      <th>1478</th>\n",
       "      <td>espresso</td>\n",
       "      <td>-2.376187</td>\n",
       "    </tr>\n",
       "    <tr>\n",
       "      <th>3357</th>\n",
       "      <td>roast</td>\n",
       "      <td>-2.250142</td>\n",
       "    </tr>\n",
       "    <tr>\n",
       "      <th>60</th>\n",
       "      <td>aeropress</td>\n",
       "      <td>-2.052606</td>\n",
       "    </tr>\n",
       "    <tr>\n",
       "      <th>3359</th>\n",
       "      <td>roaster</td>\n",
       "      <td>-1.995707</td>\n",
       "    </tr>\n",
       "    <tr>\n",
       "      <th>1603</th>\n",
       "      <td>extraction</td>\n",
       "      <td>-1.904075</td>\n",
       "    </tr>\n",
       "    <tr>\n",
       "      <th>2933</th>\n",
       "      <td>press</td>\n",
       "      <td>-1.897221</td>\n",
       "    </tr>\n",
       "  </tbody>\n",
       "</table>\n",
       "</div>"
      ],
      "text/plain": [
       "         feature  log prob diff\n",
       "320         bean      -2.569945\n",
       "1959       grind      -2.484708\n",
       "1961     grinder      -2.465721\n",
       "2431     machine      -2.429283\n",
       "1478    espresso      -2.376187\n",
       "3357       roast      -2.250142\n",
       "60     aeropress      -2.052606\n",
       "3359     roaster      -1.995707\n",
       "1603  extraction      -1.904075\n",
       "2933       press      -1.897221"
      ]
     },
     "execution_count": 62,
     "metadata": {},
     "output_type": "execute_result"
    }
   ],
   "source": [
    "#top keywords for coffee\n",
    "df_coffee.head(10)"
   ]
  },
  {
   "cell_type": "markdown",
   "id": "534b1e0e",
   "metadata": {},
   "source": [
    "## Model 2: CountVectorizer and Logistic Regression"
   ]
  },
  {
   "cell_type": "markdown",
   "id": "1bf72c14",
   "metadata": {},
   "source": [
    "#### Optimising GridSearch CV parameters and train model"
   ]
  },
  {
   "cell_type": "code",
   "execution_count": 84,
   "id": "ce3b6eb0",
   "metadata": {},
   "outputs": [
    {
     "name": "stdout",
     "output_type": "stream",
     "text": [
      "{'cvec__max_df': 0.9, 'cvec__max_features': 1000, 'cvec__min_df': 2, 'cvec__ngram_range': (1, 1)}\n",
      "Wall time: 2.5 s\n"
     ]
    },
    {
     "data": {
      "text/html": [
       "<div>\n",
       "<style scoped>\n",
       "    .dataframe tbody tr th:only-of-type {\n",
       "        vertical-align: middle;\n",
       "    }\n",
       "\n",
       "    .dataframe tbody tr th {\n",
       "        vertical-align: top;\n",
       "    }\n",
       "\n",
       "    .dataframe thead th {\n",
       "        text-align: right;\n",
       "    }\n",
       "</style>\n",
       "<table border=\"1\" class=\"dataframe\">\n",
       "  <thead>\n",
       "    <tr style=\"text-align: right;\">\n",
       "      <th></th>\n",
       "      <th>pipe_cl</th>\n",
       "    </tr>\n",
       "  </thead>\n",
       "  <tbody>\n",
       "    <tr>\n",
       "      <th>best score</th>\n",
       "      <td>0.921497</td>\n",
       "    </tr>\n",
       "    <tr>\n",
       "      <th>training score</th>\n",
       "      <td>0.992431</td>\n",
       "    </tr>\n",
       "    <tr>\n",
       "      <th>test score</th>\n",
       "      <td>0.896353</td>\n",
       "    </tr>\n",
       "  </tbody>\n",
       "</table>\n",
       "</div>"
      ],
      "text/plain": [
       "                 pipe_cl\n",
       "best score      0.921497\n",
       "training score  0.992431\n",
       "test score      0.896353"
      ]
     },
     "execution_count": 84,
     "metadata": {},
     "output_type": "execute_result"
    }
   ],
   "source": [
    "%%time\n",
    "#pipe_cl: CountVectorizer and Logistic Regression\n",
    "\n",
    "gs_m2 = gs_cv(pipe_cl, 'pipe_cl')\n",
    "print(gs_m2.best_params_)\n",
    "pipe_cl_results = scoring(gs_m2, 'pipe_cl')\n",
    "pipe_cl_results"
   ]
  },
  {
   "cell_type": "markdown",
   "id": "e9aa7bff",
   "metadata": {},
   "source": [
    "#### Plot confusion matrix"
   ]
  },
  {
   "cell_type": "code",
   "execution_count": 64,
   "id": "7d03e70c",
   "metadata": {},
   "outputs": [
    {
     "data": {
      "image/png": "[encoded data removed]",
      "text/plain": [
       "<Figure size 432x288 with 2 Axes>"
      ]
     },
     "metadata": {
      "needs_background": "light"
     },
     "output_type": "display_data"
    }
   ],
   "source": [
    "#pipe_cl: CountVectorizer and Logistic Regression\n",
    "# Get predictions\n",
    "preds_cvec = gs_m2.predict(X_test)\n",
    "\n",
    "# Save confusion matrix values\n",
    "tn, fp, fn, tp = confusion_matrix(y_test, preds_cvec).ravel()\n",
    "# visualize this\n",
    "plot_confusion_matrix(gs_m2, X_test, y_test, cmap='Greens', values_format='d');"
   ]
  },
  {
   "cell_type": "markdown",
   "id": "1e11390a",
   "metadata": {},
   "source": [
    "#### Calculate classification metrics"
   ]
  },
  {
   "cell_type": "code",
   "execution_count": 65,
   "id": "0b3a353b",
   "metadata": {},
   "outputs": [
    {
     "name": "stdout",
     "output_type": "stream",
     "text": [
      "              precision    recall  f1-score   support\n",
      "\n",
      "           0       0.91      0.82      0.86       207\n",
      "           1       0.89      0.95      0.92       314\n",
      "\n",
      "    accuracy                           0.90       521\n",
      "   macro avg       0.90      0.88      0.89       521\n",
      "weighted avg       0.90      0.90      0.90       521\n",
      "\n",
      "ROC AUC score: 0.9595833717960552\n"
     ]
    }
   ],
   "source": [
    "#confusion matrix results and classification metrics\n",
    "#print(confusion_matrix(y_test, preds_cvec))\n",
    "print(classification_report(y_test, preds_cvec))\n",
    "#print(f\"Best params: {gs.best_params_}\\n\")\n",
    "#print(f\"Coefficients: {gs.best_estimator_.named_steps.lr.coef_}\\n\")\n",
    "print(f\"ROC AUC score: {roc_auc_score(y_test, gs_m2.predict_proba(X_test)[:,1])}\")"
   ]
  },
  {
   "cell_type": "markdown",
   "id": "2821a73a",
   "metadata": {},
   "source": [
    "#### Find top predictor keywords for each subreddit"
   ]
  },
  {
   "cell_type": "code",
   "execution_count": 66,
   "id": "61779cc7",
   "metadata": {
    "scrolled": true
   },
   "outputs": [],
   "source": [
    " #find predictor words and their impact\n",
    "tea_word_impact,  coffee_word_impact = keywords(gs_m2)"
   ]
  },
  {
   "cell_type": "code",
   "execution_count": 67,
   "id": "3f2d9d8d",
   "metadata": {},
   "outputs": [
    {
     "data": {
      "text/html": [
       "<div>\n",
       "<style scoped>\n",
       "    .dataframe tbody tr th:only-of-type {\n",
       "        vertical-align: middle;\n",
       "    }\n",
       "\n",
       "    .dataframe tbody tr th {\n",
       "        vertical-align: top;\n",
       "    }\n",
       "\n",
       "    .dataframe thead th {\n",
       "        text-align: right;\n",
       "    }\n",
       "</style>\n",
       "<table border=\"1\" class=\"dataframe\">\n",
       "  <thead>\n",
       "    <tr style=\"text-align: right;\">\n",
       "      <th></th>\n",
       "      <th>word</th>\n",
       "      <th>impact</th>\n",
       "    </tr>\n",
       "  </thead>\n",
       "  <tbody>\n",
       "    <tr>\n",
       "      <th>505</th>\n",
       "      <td>leaf</td>\n",
       "      <td>3.054599</td>\n",
       "    </tr>\n",
       "    <tr>\n",
       "      <th>886</th>\n",
       "      <td>teapot</td>\n",
       "      <td>2.905124</td>\n",
       "    </tr>\n",
       "    <tr>\n",
       "      <th>555</th>\n",
       "      <td>matcha</td>\n",
       "      <td>2.827130</td>\n",
       "    </tr>\n",
       "    <tr>\n",
       "      <th>84</th>\n",
       "      <td>black</td>\n",
       "      <td>2.810726</td>\n",
       "    </tr>\n",
       "    <tr>\n",
       "      <th>622</th>\n",
       "      <td>oolong</td>\n",
       "      <td>2.656410</td>\n",
       "    </tr>\n",
       "    <tr>\n",
       "      <th>391</th>\n",
       "      <td>green</td>\n",
       "      <td>2.184538</td>\n",
       "    </tr>\n",
       "    <tr>\n",
       "      <th>492</th>\n",
       "      <td>kettle</td>\n",
       "      <td>2.044830</td>\n",
       "    </tr>\n",
       "    <tr>\n",
       "      <th>537</th>\n",
       "      <td>loose</td>\n",
       "      <td>2.029692</td>\n",
       "    </tr>\n",
       "    <tr>\n",
       "      <th>466</th>\n",
       "      <td>infusion</td>\n",
       "      <td>2.000136</td>\n",
       "    </tr>\n",
       "    <tr>\n",
       "      <th>971</th>\n",
       "      <td>white</td>\n",
       "      <td>1.835554</td>\n",
       "    </tr>\n",
       "    <tr>\n",
       "      <th>148</th>\n",
       "      <td>chinese</td>\n",
       "      <td>1.822129</td>\n",
       "    </tr>\n",
       "    <tr>\n",
       "      <th>775</th>\n",
       "      <td>sencha</td>\n",
       "      <td>1.777076</td>\n",
       "    </tr>\n",
       "    <tr>\n",
       "      <th>252</th>\n",
       "      <td>earl</td>\n",
       "      <td>1.709399</td>\n",
       "    </tr>\n",
       "    <tr>\n",
       "      <th>392</th>\n",
       "      <td>grey</td>\n",
       "      <td>1.703905</td>\n",
       "    </tr>\n",
       "    <tr>\n",
       "      <th>559</th>\n",
       "      <td>maybe</td>\n",
       "      <td>1.700700</td>\n",
       "    </tr>\n",
       "    <tr>\n",
       "      <th>50</th>\n",
       "      <td>assam</td>\n",
       "      <td>1.696018</td>\n",
       "    </tr>\n",
       "    <tr>\n",
       "      <th>331</th>\n",
       "      <td>first</td>\n",
       "      <td>1.670019</td>\n",
       "    </tr>\n",
       "    <tr>\n",
       "      <th>136</th>\n",
       "      <td>chai</td>\n",
       "      <td>1.667164</td>\n",
       "    </tr>\n",
       "    <tr>\n",
       "      <th>697</th>\n",
       "      <td>pu</td>\n",
       "      <td>1.655537</td>\n",
       "    </tr>\n",
       "    <tr>\n",
       "      <th>572</th>\n",
       "      <td>mint</td>\n",
       "      <td>1.622627</td>\n",
       "    </tr>\n",
       "  </tbody>\n",
       "</table>\n",
       "</div>"
      ],
      "text/plain": [
       "         word    impact\n",
       "505      leaf  3.054599\n",
       "886    teapot  2.905124\n",
       "555    matcha  2.827130\n",
       "84      black  2.810726\n",
       "622    oolong  2.656410\n",
       "391     green  2.184538\n",
       "492    kettle  2.044830\n",
       "537     loose  2.029692\n",
       "466  infusion  2.000136\n",
       "971     white  1.835554\n",
       "148   chinese  1.822129\n",
       "775    sencha  1.777076\n",
       "252      earl  1.709399\n",
       "392      grey  1.703905\n",
       "559     maybe  1.700700\n",
       "50      assam  1.696018\n",
       "331     first  1.670019\n",
       "136      chai  1.667164\n",
       "697        pu  1.655537\n",
       "572      mint  1.622627"
      ]
     },
     "execution_count": 67,
     "metadata": {},
     "output_type": "execute_result"
    }
   ],
   "source": [
    "#top keywords for tea\n",
    "tea_word_impact"
   ]
  },
  {
   "cell_type": "code",
   "execution_count": 68,
   "id": "807afde6",
   "metadata": {},
   "outputs": [
    {
     "data": {
      "text/html": [
       "<div>\n",
       "<style scoped>\n",
       "    .dataframe tbody tr th:only-of-type {\n",
       "        vertical-align: middle;\n",
       "    }\n",
       "\n",
       "    .dataframe tbody tr th {\n",
       "        vertical-align: top;\n",
       "    }\n",
       "\n",
       "    .dataframe thead th {\n",
       "        text-align: right;\n",
       "    }\n",
       "</style>\n",
       "<table border=\"1\" class=\"dataframe\">\n",
       "  <thead>\n",
       "    <tr style=\"text-align: right;\">\n",
       "      <th></th>\n",
       "      <th>word</th>\n",
       "      <th>impact</th>\n",
       "    </tr>\n",
       "  </thead>\n",
       "  <tbody>\n",
       "    <tr>\n",
       "      <th>69</th>\n",
       "      <td>bean</td>\n",
       "      <td>0.167770</td>\n",
       "    </tr>\n",
       "    <tr>\n",
       "      <th>748</th>\n",
       "      <td>roaster</td>\n",
       "      <td>0.260309</td>\n",
       "    </tr>\n",
       "    <tr>\n",
       "      <th>746</th>\n",
       "      <td>roast</td>\n",
       "      <td>0.261143</td>\n",
       "    </tr>\n",
       "    <tr>\n",
       "      <th>274</th>\n",
       "      <td>espresso</td>\n",
       "      <td>0.274661</td>\n",
       "    </tr>\n",
       "    <tr>\n",
       "      <th>139</th>\n",
       "      <td>change</td>\n",
       "      <td>0.282754</td>\n",
       "    </tr>\n",
       "    <tr>\n",
       "      <th>394</th>\n",
       "      <td>grinder</td>\n",
       "      <td>0.289481</td>\n",
       "    </tr>\n",
       "    <tr>\n",
       "      <th>545</th>\n",
       "      <td>machine</td>\n",
       "      <td>0.300110</td>\n",
       "    </tr>\n",
       "    <tr>\n",
       "      <th>15</th>\n",
       "      <td>aeropress</td>\n",
       "      <td>0.332532</td>\n",
       "    </tr>\n",
       "    <tr>\n",
       "      <th>393</th>\n",
       "      <td>grind</td>\n",
       "      <td>0.337092</td>\n",
       "    </tr>\n",
       "    <tr>\n",
       "      <th>361</th>\n",
       "      <td>funnel</td>\n",
       "      <td>0.349473</td>\n",
       "    </tr>\n",
       "    <tr>\n",
       "      <th>63</th>\n",
       "      <td>barista</td>\n",
       "      <td>0.362178</td>\n",
       "    </tr>\n",
       "    <tr>\n",
       "      <th>907</th>\n",
       "      <td>timemore</td>\n",
       "      <td>0.374961</td>\n",
       "    </tr>\n",
       "    <tr>\n",
       "      <th>94</th>\n",
       "      <td>bonavita</td>\n",
       "      <td>0.395342</td>\n",
       "    </tr>\n",
       "    <tr>\n",
       "      <th>485</th>\n",
       "      <td>james</td>\n",
       "      <td>0.399114</td>\n",
       "    </tr>\n",
       "    <tr>\n",
       "      <th>433</th>\n",
       "      <td>hoffmann</td>\n",
       "      <td>0.416504</td>\n",
       "    </tr>\n",
       "    <tr>\n",
       "      <th>325</th>\n",
       "      <td>find</td>\n",
       "      <td>0.423487</td>\n",
       "    </tr>\n",
       "    <tr>\n",
       "      <th>320</th>\n",
       "      <td>filter</td>\n",
       "      <td>0.427962</td>\n",
       "    </tr>\n",
       "    <tr>\n",
       "      <th>54</th>\n",
       "      <td>available</td>\n",
       "      <td>0.437913</td>\n",
       "    </tr>\n",
       "    <tr>\n",
       "      <th>579</th>\n",
       "      <td>moccamaster</td>\n",
       "      <td>0.439225</td>\n",
       "    </tr>\n",
       "    <tr>\n",
       "      <th>897</th>\n",
       "      <td>thing</td>\n",
       "      <td>0.440293</td>\n",
       "    </tr>\n",
       "  </tbody>\n",
       "</table>\n",
       "</div>"
      ],
      "text/plain": [
       "            word    impact\n",
       "69          bean  0.167770\n",
       "748      roaster  0.260309\n",
       "746        roast  0.261143\n",
       "274     espresso  0.274661\n",
       "139       change  0.282754\n",
       "394      grinder  0.289481\n",
       "545      machine  0.300110\n",
       "15     aeropress  0.332532\n",
       "393        grind  0.337092\n",
       "361       funnel  0.349473\n",
       "63       barista  0.362178\n",
       "907     timemore  0.374961\n",
       "94      bonavita  0.395342\n",
       "485        james  0.399114\n",
       "433     hoffmann  0.416504\n",
       "325         find  0.423487\n",
       "320       filter  0.427962\n",
       "54     available  0.437913\n",
       "579  moccamaster  0.439225\n",
       "897        thing  0.440293"
      ]
     },
     "execution_count": 68,
     "metadata": {},
     "output_type": "execute_result"
    }
   ],
   "source": [
    "#top keywords for coffee\n",
    "coffee_word_impact"
   ]
  },
  {
   "cell_type": "markdown",
   "id": "99e43f66",
   "metadata": {},
   "source": [
    "## Model 3: TF-IDF and Multinomial Naive Bayes"
   ]
  },
  {
   "cell_type": "markdown",
   "id": "e17b2be1",
   "metadata": {},
   "source": [
    "#### Optimising GridSearch CV parameters and train model"
   ]
  },
  {
   "cell_type": "code",
   "execution_count": 85,
   "id": "df15d416",
   "metadata": {
    "scrolled": true
   },
   "outputs": [
    {
     "name": "stdout",
     "output_type": "stream",
     "text": [
      "{'tvec__max_features': 5000, 'tvec__ngram_range': (1, 1), 'tvec__stop_words': None}\n",
      "Wall time: 964 ms\n"
     ]
    },
    {
     "data": {
      "text/html": [
       "<div>\n",
       "<style scoped>\n",
       "    .dataframe tbody tr th:only-of-type {\n",
       "        vertical-align: middle;\n",
       "    }\n",
       "\n",
       "    .dataframe tbody tr th {\n",
       "        vertical-align: top;\n",
       "    }\n",
       "\n",
       "    .dataframe thead th {\n",
       "        text-align: right;\n",
       "    }\n",
       "</style>\n",
       "<table border=\"1\" class=\"dataframe\">\n",
       "  <thead>\n",
       "    <tr style=\"text-align: right;\">\n",
       "      <th></th>\n",
       "      <th>pipe_tm</th>\n",
       "    </tr>\n",
       "  </thead>\n",
       "  <tbody>\n",
       "    <tr>\n",
       "      <th>best score</th>\n",
       "      <td>0.934736</td>\n",
       "    </tr>\n",
       "    <tr>\n",
       "      <th>training score</th>\n",
       "      <td>0.992431</td>\n",
       "    </tr>\n",
       "    <tr>\n",
       "      <th>test score</th>\n",
       "      <td>0.930902</td>\n",
       "    </tr>\n",
       "  </tbody>\n",
       "</table>\n",
       "</div>"
      ],
      "text/plain": [
       "                 pipe_tm\n",
       "best score      0.934736\n",
       "training score  0.992431\n",
       "test score      0.930902"
      ]
     },
     "execution_count": 85,
     "metadata": {},
     "output_type": "execute_result"
    }
   ],
   "source": [
    "%%time\n",
    "#pipe_tm: TF-IDF and Multinomial Naive Bayes\n",
    "\n",
    "gs_m3 = gs_cv(pipe_tm, 'pipe_tm')\n",
    "print(gs_m3.best_params_)\n",
    "pipe_tm_results = scoring(gs_m3, 'pipe_tm')\n",
    "pipe_tm_results"
   ]
  },
  {
   "cell_type": "markdown",
   "id": "656c2d9f",
   "metadata": {},
   "source": [
    "#### Plot confusion matrix"
   ]
  },
  {
   "cell_type": "code",
   "execution_count": 70,
   "id": "88b73dbf",
   "metadata": {},
   "outputs": [
    {
     "data": {
      "image/png": "[encoded data removed]",
      "text/plain": [
       "<Figure size 432x288 with 2 Axes>"
      ]
     },
     "metadata": {
      "needs_background": "light"
     },
     "output_type": "display_data"
    }
   ],
   "source": [
    "#pipe_tm: TF-IDF and Multinomial Naive Bayes\n",
    "# Get predictions\n",
    "preds_tvec = gs_m3.predict(X_test)\n",
    "\n",
    "# Save confusion matrix values\n",
    "tn, fp, fn, tp = confusion_matrix(y_test, preds_tvec).ravel()\n",
    "# visualize this\n",
    "plot_confusion_matrix(gs_m3, X_test, y_test, cmap='Oranges', values_format='d');"
   ]
  },
  {
   "cell_type": "markdown",
   "id": "c5b3cbfc",
   "metadata": {},
   "source": [
    "#### Calculate classification metrics"
   ]
  },
  {
   "cell_type": "code",
   "execution_count": 71,
   "id": "21bccbca",
   "metadata": {},
   "outputs": [
    {
     "name": "stdout",
     "output_type": "stream",
     "text": [
      "              precision    recall  f1-score   support\n",
      "\n",
      "           0       0.93      0.89      0.91       207\n",
      "           1       0.93      0.96      0.94       314\n",
      "\n",
      "    accuracy                           0.93       521\n",
      "   macro avg       0.93      0.92      0.93       521\n",
      "weighted avg       0.93      0.93      0.93       521\n",
      "\n",
      "ROC AUC score: 0.9756915597402998\n"
     ]
    }
   ],
   "source": [
    "#confusion matrix results and classification metrics\n",
    "#print(confusion_matrix(y_test, preds_tvec))\n",
    "print(classification_report(y_test, preds_tvec))\n",
    "#print(f\"Best params: {gs.best_params_}\\n\")\n",
    "#print(f\"Coefficients: {gs.best_estimator_.named_steps.lr.coef_}\\n\")\n",
    "print(f\"ROC AUC score: {roc_auc_score(y_test, gs_m3.predict_proba(X_test)[:,1])}\")"
   ]
  },
  {
   "cell_type": "markdown",
   "id": "c0a174aa",
   "metadata": {},
   "source": [
    "####  Find top predictor keywords for each subreddit"
   ]
  },
  {
   "cell_type": "code",
   "execution_count": 30,
   "id": "54dd01d4",
   "metadata": {},
   "outputs": [],
   "source": [
    "#find predictor words and their impact\n",
    "\n",
    "nb_m3 = gs_m3.best_estimator_.named_steps['nb']\n",
    "tvec_m3 = gs_m3.best_estimator_.named_steps['tvec']\n",
    "FeaturesImportanceNB(tvec_m3, nb_m3)\n",
    "\n",
    "df = pd.DataFrame()\n",
    "\n",
    "df['feature'] = tvec_m3.get_feature_names()\n",
    "df['log prob diff'] = nb_m3.feature_log_prob_[1,:] - nb_m3.feature_log_prob_[0, :]\n",
    "\n",
    "df_tea = df.sort_values(by= 'log prob diff', ascending= False).head(10)\n",
    "df_coffee = df.sort_values(by= 'log prob diff', ascending= True).head(10)"
   ]
  },
  {
   "cell_type": "code",
   "execution_count": 31,
   "id": "33f33f1e",
   "metadata": {},
   "outputs": [
    {
     "data": {
      "text/html": [
       "<div>\n",
       "<style scoped>\n",
       "    .dataframe tbody tr th:only-of-type {\n",
       "        vertical-align: middle;\n",
       "    }\n",
       "\n",
       "    .dataframe tbody tr th {\n",
       "        vertical-align: top;\n",
       "    }\n",
       "\n",
       "    .dataframe thead th {\n",
       "        text-align: right;\n",
       "    }\n",
       "</style>\n",
       "<table border=\"1\" class=\"dataframe\">\n",
       "  <thead>\n",
       "    <tr style=\"text-align: right;\">\n",
       "      <th></th>\n",
       "      <th>feature</th>\n",
       "      <th>log prob diff</th>\n",
       "    </tr>\n",
       "  </thead>\n",
       "  <tbody>\n",
       "    <tr>\n",
       "      <th>2694</th>\n",
       "      <td>oolong</td>\n",
       "      <td>2.851576</td>\n",
       "    </tr>\n",
       "    <tr>\n",
       "      <th>4204</th>\n",
       "      <td>teapot</td>\n",
       "      <td>2.590760</td>\n",
       "    </tr>\n",
       "    <tr>\n",
       "      <th>2330</th>\n",
       "      <td>leaf</td>\n",
       "      <td>2.568318</td>\n",
       "    </tr>\n",
       "    <tr>\n",
       "      <th>2467</th>\n",
       "      <td>matcha</td>\n",
       "      <td>2.236945</td>\n",
       "    </tr>\n",
       "    <tr>\n",
       "      <th>2405</th>\n",
       "      <td>loose</td>\n",
       "      <td>2.153259</td>\n",
       "    </tr>\n",
       "    <tr>\n",
       "      <th>3540</th>\n",
       "      <td>sencha</td>\n",
       "      <td>2.098678</td>\n",
       "    </tr>\n",
       "    <tr>\n",
       "      <th>1955</th>\n",
       "      <td>green</td>\n",
       "      <td>1.963594</td>\n",
       "    </tr>\n",
       "    <tr>\n",
       "      <th>570</th>\n",
       "      <td>chai</td>\n",
       "      <td>1.963325</td>\n",
       "    </tr>\n",
       "    <tr>\n",
       "      <th>4820</th>\n",
       "      <td>white</td>\n",
       "      <td>1.945128</td>\n",
       "    </tr>\n",
       "    <tr>\n",
       "      <th>666</th>\n",
       "      <td>collection</td>\n",
       "      <td>1.768956</td>\n",
       "    </tr>\n",
       "  </tbody>\n",
       "</table>\n",
       "</div>"
      ],
      "text/plain": [
       "         feature  log prob diff\n",
       "2694      oolong       2.851576\n",
       "4204      teapot       2.590760\n",
       "2330        leaf       2.568318\n",
       "2467      matcha       2.236945\n",
       "2405       loose       2.153259\n",
       "3540      sencha       2.098678\n",
       "1955       green       1.963594\n",
       "570         chai       1.963325\n",
       "4820       white       1.945128\n",
       "666   collection       1.768956"
      ]
     },
     "execution_count": 31,
     "metadata": {},
     "output_type": "execute_result"
    }
   ],
   "source": [
    "df_tea.head(10)"
   ]
  },
  {
   "cell_type": "code",
   "execution_count": 72,
   "id": "3613c036",
   "metadata": {},
   "outputs": [
    {
     "data": {
      "text/html": [
       "<div>\n",
       "<style scoped>\n",
       "    .dataframe tbody tr th:only-of-type {\n",
       "        vertical-align: middle;\n",
       "    }\n",
       "\n",
       "    .dataframe tbody tr th {\n",
       "        vertical-align: top;\n",
       "    }\n",
       "\n",
       "    .dataframe thead th {\n",
       "        text-align: right;\n",
       "    }\n",
       "</style>\n",
       "<table border=\"1\" class=\"dataframe\">\n",
       "  <thead>\n",
       "    <tr style=\"text-align: right;\">\n",
       "      <th></th>\n",
       "      <th>feature</th>\n",
       "      <th>log prob diff</th>\n",
       "    </tr>\n",
       "  </thead>\n",
       "  <tbody>\n",
       "    <tr>\n",
       "      <th>320</th>\n",
       "      <td>bean</td>\n",
       "      <td>-2.569945</td>\n",
       "    </tr>\n",
       "    <tr>\n",
       "      <th>1959</th>\n",
       "      <td>grind</td>\n",
       "      <td>-2.484708</td>\n",
       "    </tr>\n",
       "    <tr>\n",
       "      <th>1961</th>\n",
       "      <td>grinder</td>\n",
       "      <td>-2.465721</td>\n",
       "    </tr>\n",
       "    <tr>\n",
       "      <th>2431</th>\n",
       "      <td>machine</td>\n",
       "      <td>-2.429283</td>\n",
       "    </tr>\n",
       "    <tr>\n",
       "      <th>1478</th>\n",
       "      <td>espresso</td>\n",
       "      <td>-2.376187</td>\n",
       "    </tr>\n",
       "    <tr>\n",
       "      <th>3357</th>\n",
       "      <td>roast</td>\n",
       "      <td>-2.250142</td>\n",
       "    </tr>\n",
       "    <tr>\n",
       "      <th>60</th>\n",
       "      <td>aeropress</td>\n",
       "      <td>-2.052606</td>\n",
       "    </tr>\n",
       "    <tr>\n",
       "      <th>3359</th>\n",
       "      <td>roaster</td>\n",
       "      <td>-1.995707</td>\n",
       "    </tr>\n",
       "    <tr>\n",
       "      <th>1603</th>\n",
       "      <td>extraction</td>\n",
       "      <td>-1.904075</td>\n",
       "    </tr>\n",
       "    <tr>\n",
       "      <th>2933</th>\n",
       "      <td>press</td>\n",
       "      <td>-1.897221</td>\n",
       "    </tr>\n",
       "  </tbody>\n",
       "</table>\n",
       "</div>"
      ],
      "text/plain": [
       "         feature  log prob diff\n",
       "320         bean      -2.569945\n",
       "1959       grind      -2.484708\n",
       "1961     grinder      -2.465721\n",
       "2431     machine      -2.429283\n",
       "1478    espresso      -2.376187\n",
       "3357       roast      -2.250142\n",
       "60     aeropress      -2.052606\n",
       "3359     roaster      -1.995707\n",
       "1603  extraction      -1.904075\n",
       "2933       press      -1.897221"
      ]
     },
     "execution_count": 72,
     "metadata": {},
     "output_type": "execute_result"
    }
   ],
   "source": [
    "df_coffee.head(10)"
   ]
  },
  {
   "cell_type": "markdown",
   "id": "8ea3398e",
   "metadata": {},
   "source": [
    "## Model 4: TF-IDF and Logistic Regression"
   ]
  },
  {
   "cell_type": "markdown",
   "id": "5e264600",
   "metadata": {},
   "source": [
    "#### Optimising GridSearch CV parameters"
   ]
  },
  {
   "cell_type": "code",
   "execution_count": 86,
   "id": "085071d0",
   "metadata": {},
   "outputs": [
    {
     "name": "stdout",
     "output_type": "stream",
     "text": [
      "{'tvec__max_features': 3000, 'tvec__ngram_range': (1, 2), 'tvec__stop_words': None}\n",
      "Wall time: 1.17 s\n"
     ]
    },
    {
     "data": {
      "text/html": [
       "<div>\n",
       "<style scoped>\n",
       "    .dataframe tbody tr th:only-of-type {\n",
       "        vertical-align: middle;\n",
       "    }\n",
       "\n",
       "    .dataframe tbody tr th {\n",
       "        vertical-align: top;\n",
       "    }\n",
       "\n",
       "    .dataframe thead th {\n",
       "        text-align: right;\n",
       "    }\n",
       "</style>\n",
       "<table border=\"1\" class=\"dataframe\">\n",
       "  <thead>\n",
       "    <tr style=\"text-align: right;\">\n",
       "      <th></th>\n",
       "      <th>pipe_tl</th>\n",
       "    </tr>\n",
       "  </thead>\n",
       "  <tbody>\n",
       "    <tr>\n",
       "      <th>best score</th>\n",
       "      <td>0.913914</td>\n",
       "    </tr>\n",
       "    <tr>\n",
       "      <th>training score</th>\n",
       "      <td>0.955535</td>\n",
       "    </tr>\n",
       "    <tr>\n",
       "      <th>test score</th>\n",
       "      <td>0.909789</td>\n",
       "    </tr>\n",
       "  </tbody>\n",
       "</table>\n",
       "</div>"
      ],
      "text/plain": [
       "                 pipe_tl\n",
       "best score      0.913914\n",
       "training score  0.955535\n",
       "test score      0.909789"
      ]
     },
     "execution_count": 86,
     "metadata": {},
     "output_type": "execute_result"
    }
   ],
   "source": [
    "%%time\n",
    "#pipe_tl: TF-IDF and Logistic Regression\n",
    "\n",
    "gs_m4 = gs_cv(pipe_tl, 'pipe_tl')\n",
    "print(gs_m4.best_params_)\n",
    "pipe_tl_results = scoring(gs_m4, 'pipe_tl')\n",
    "pipe_tl_results "
   ]
  },
  {
   "cell_type": "markdown",
   "id": "9e9495b0",
   "metadata": {},
   "source": [
    "#### Plot confusion matrix"
   ]
  },
  {
   "cell_type": "code",
   "execution_count": 37,
   "id": "3a3e4768",
   "metadata": {},
   "outputs": [
    {
     "data": {
      "image/png": "[encoded data removed]",
      "text/plain": [
       "<Figure size 432x288 with 2 Axes>"
      ]
     },
     "metadata": {
      "needs_background": "light"
     },
     "output_type": "display_data"
    }
   ],
   "source": [
    "#pipe_tl: TF-IDF and Logistic Regression\n",
    "# Get predictions\n",
    "preds_tvec = gs_m4.predict(X_test)\n",
    "\n",
    "# Save confusion matrix values\n",
    "tn, fp, fn, tp = confusion_matrix(y_test, preds_tvec).ravel()\n",
    "# visualize this\n",
    "plot_confusion_matrix(gs_m4, X_test, y_test, cmap='Purples', values_format='d');"
   ]
  },
  {
   "cell_type": "markdown",
   "id": "5bf8f2cd",
   "metadata": {},
   "source": [
    "#### Calculate classification metrics"
   ]
  },
  {
   "cell_type": "code",
   "execution_count": 38,
   "id": "78d5c8dc",
   "metadata": {},
   "outputs": [
    {
     "name": "stdout",
     "output_type": "stream",
     "text": [
      "[[164  43]\n",
      " [  4 310]]\n",
      "              precision    recall  f1-score   support\n",
      "\n",
      "           0       0.98      0.79      0.87       207\n",
      "           1       0.88      0.99      0.93       314\n",
      "\n",
      "    accuracy                           0.91       521\n",
      "   macro avg       0.93      0.89      0.90       521\n",
      "weighted avg       0.92      0.91      0.91       521\n",
      "\n",
      "ROC AUC score: 0.9705837102680083\n"
     ]
    }
   ],
   "source": [
    "#print(confusion_matrix(y_test, preds_tvec))\n",
    "print(classification_report(y_test, preds_tvec))\n",
    "#print(f\"Best params: {gs.best_params_}\\n\")\n",
    "#print(f\"Coefficients: {gs.best_estimator_.named_steps.lr.coef_}\\n\")\n",
    "print(f\"ROC AUC score: {roc_auc_score(y_test, gs_m4.predict_proba(X_test)[:,1])}\")"
   ]
  },
  {
   "cell_type": "markdown",
   "id": "4b2754a6",
   "metadata": {},
   "source": [
    "#### Find top predictor keywords for each subreddit"
   ]
  },
  {
   "cell_type": "code",
   "execution_count": 78,
   "id": "fdc91a97",
   "metadata": {},
   "outputs": [],
   "source": [
    "#find predictor words and their impact\n",
    "tea_word_impact,  coffee_word_impact = keywords(gs_m4)"
   ]
  },
  {
   "cell_type": "code",
   "execution_count": 79,
   "id": "f06f8ce8",
   "metadata": {},
   "outputs": [
    {
     "data": {
      "text/html": [
       "<div>\n",
       "<style scoped>\n",
       "    .dataframe tbody tr th:only-of-type {\n",
       "        vertical-align: middle;\n",
       "    }\n",
       "\n",
       "    .dataframe tbody tr th {\n",
       "        vertical-align: top;\n",
       "    }\n",
       "\n",
       "    .dataframe thead th {\n",
       "        text-align: right;\n",
       "    }\n",
       "</style>\n",
       "<table border=\"1\" class=\"dataframe\">\n",
       "  <thead>\n",
       "    <tr style=\"text-align: right;\">\n",
       "      <th></th>\n",
       "      <th>word</th>\n",
       "      <th>impact</th>\n",
       "    </tr>\n",
       "  </thead>\n",
       "  <tbody>\n",
       "    <tr>\n",
       "      <th>1494</th>\n",
       "      <td>leaf</td>\n",
       "      <td>7.300345</td>\n",
       "    </tr>\n",
       "    <tr>\n",
       "      <th>1842</th>\n",
       "      <td>oolong</td>\n",
       "      <td>5.767364</td>\n",
       "    </tr>\n",
       "    <tr>\n",
       "      <th>2593</th>\n",
       "      <td>teapot</td>\n",
       "      <td>5.573944</td>\n",
       "    </tr>\n",
       "    <tr>\n",
       "      <th>1142</th>\n",
       "      <td>green</td>\n",
       "      <td>4.841959</td>\n",
       "    </tr>\n",
       "    <tr>\n",
       "      <th>272</th>\n",
       "      <td>black</td>\n",
       "      <td>4.018031</td>\n",
       "    </tr>\n",
       "    <tr>\n",
       "      <th>1624</th>\n",
       "      <td>matcha</td>\n",
       "      <td>3.783588</td>\n",
       "    </tr>\n",
       "    <tr>\n",
       "      <th>1555</th>\n",
       "      <td>loose</td>\n",
       "      <td>3.535867</td>\n",
       "    </tr>\n",
       "    <tr>\n",
       "      <th>2879</th>\n",
       "      <td>white</td>\n",
       "      <td>3.302554</td>\n",
       "    </tr>\n",
       "    <tr>\n",
       "      <th>2303</th>\n",
       "      <td>sencha</td>\n",
       "      <td>2.904729</td>\n",
       "    </tr>\n",
       "    <tr>\n",
       "      <th>438</th>\n",
       "      <td>chai</td>\n",
       "      <td>2.540969</td>\n",
       "    </tr>\n",
       "    <tr>\n",
       "      <th>1556</th>\n",
       "      <td>loose leaf</td>\n",
       "      <td>2.369963</td>\n",
       "    </tr>\n",
       "    <tr>\n",
       "      <th>1441</th>\n",
       "      <td>kettle</td>\n",
       "      <td>2.324045</td>\n",
       "    </tr>\n",
       "    <tr>\n",
       "      <th>463</th>\n",
       "      <td>chinese</td>\n",
       "      <td>2.292700</td>\n",
       "    </tr>\n",
       "    <tr>\n",
       "      <th>1083</th>\n",
       "      <td>gaiwan</td>\n",
       "      <td>2.251003</td>\n",
       "    </tr>\n",
       "    <tr>\n",
       "      <th>1857</th>\n",
       "      <td>order</td>\n",
       "      <td>2.047081</td>\n",
       "    </tr>\n",
       "    <tr>\n",
       "      <th>2052</th>\n",
       "      <td>pu</td>\n",
       "      <td>2.042134</td>\n",
       "    </tr>\n",
       "    <tr>\n",
       "      <th>395</th>\n",
       "      <td>caffeine</td>\n",
       "      <td>2.037029</td>\n",
       "    </tr>\n",
       "    <tr>\n",
       "      <th>518</th>\n",
       "      <td>collection</td>\n",
       "      <td>1.984408</td>\n",
       "    </tr>\n",
       "    <tr>\n",
       "      <th>779</th>\n",
       "      <td>earl</td>\n",
       "      <td>1.972765</td>\n",
       "    </tr>\n",
       "    <tr>\n",
       "      <th>1125</th>\n",
       "      <td>gongfu</td>\n",
       "      <td>1.962211</td>\n",
       "    </tr>\n",
       "  </tbody>\n",
       "</table>\n",
       "</div>"
      ],
      "text/plain": [
       "            word    impact\n",
       "1494        leaf  7.300345\n",
       "1842      oolong  5.767364\n",
       "2593      teapot  5.573944\n",
       "1142       green  4.841959\n",
       "272        black  4.018031\n",
       "1624      matcha  3.783588\n",
       "1555       loose  3.535867\n",
       "2879       white  3.302554\n",
       "2303      sencha  2.904729\n",
       "438         chai  2.540969\n",
       "1556  loose leaf  2.369963\n",
       "1441      kettle  2.324045\n",
       "463      chinese  2.292700\n",
       "1083      gaiwan  2.251003\n",
       "1857       order  2.047081\n",
       "2052          pu  2.042134\n",
       "395     caffeine  2.037029\n",
       "518   collection  1.984408\n",
       "779         earl  1.972765\n",
       "1125      gongfu  1.962211"
      ]
     },
     "execution_count": 79,
     "metadata": {},
     "output_type": "execute_result"
    }
   ],
   "source": [
    "tea_word_impact"
   ]
  },
  {
   "cell_type": "code",
   "execution_count": 80,
   "id": "9b8233c3",
   "metadata": {
    "scrolled": false
   },
   "outputs": [
    {
     "data": {
      "text/html": [
       "<div>\n",
       "<style scoped>\n",
       "    .dataframe tbody tr th:only-of-type {\n",
       "        vertical-align: middle;\n",
       "    }\n",
       "\n",
       "    .dataframe tbody tr th {\n",
       "        vertical-align: top;\n",
       "    }\n",
       "\n",
       "    .dataframe thead th {\n",
       "        text-align: right;\n",
       "    }\n",
       "</style>\n",
       "<table border=\"1\" class=\"dataframe\">\n",
       "  <thead>\n",
       "    <tr style=\"text-align: right;\">\n",
       "      <th></th>\n",
       "      <th>word</th>\n",
       "      <th>impact</th>\n",
       "    </tr>\n",
       "  </thead>\n",
       "  <tbody>\n",
       "    <tr>\n",
       "      <th>209</th>\n",
       "      <td>bean</td>\n",
       "      <td>0.026130</td>\n",
       "    </tr>\n",
       "    <tr>\n",
       "      <th>1580</th>\n",
       "      <td>machine</td>\n",
       "      <td>0.082791</td>\n",
       "    </tr>\n",
       "    <tr>\n",
       "      <th>1157</th>\n",
       "      <td>grinder</td>\n",
       "      <td>0.106142</td>\n",
       "    </tr>\n",
       "    <tr>\n",
       "      <th>837</th>\n",
       "      <td>espresso</td>\n",
       "      <td>0.114002</td>\n",
       "    </tr>\n",
       "    <tr>\n",
       "      <th>1147</th>\n",
       "      <td>grind</td>\n",
       "      <td>0.117104</td>\n",
       "    </tr>\n",
       "    <tr>\n",
       "      <th>2209</th>\n",
       "      <td>roast</td>\n",
       "      <td>0.119866</td>\n",
       "    </tr>\n",
       "    <tr>\n",
       "      <th>1988</th>\n",
       "      <td>pour</td>\n",
       "      <td>0.152086</td>\n",
       "    </tr>\n",
       "    <tr>\n",
       "      <th>2215</th>\n",
       "      <td>roaster</td>\n",
       "      <td>0.173267</td>\n",
       "    </tr>\n",
       "    <tr>\n",
       "      <th>51</th>\n",
       "      <td>aeropress</td>\n",
       "      <td>0.191910</td>\n",
       "    </tr>\n",
       "    <tr>\n",
       "      <th>1171</th>\n",
       "      <td>ground</td>\n",
       "      <td>0.215013</td>\n",
       "    </tr>\n",
       "    <tr>\n",
       "      <th>968</th>\n",
       "      <td>filter</td>\n",
       "      <td>0.232900</td>\n",
       "    </tr>\n",
       "    <tr>\n",
       "      <th>321</th>\n",
       "      <td>brew</td>\n",
       "      <td>0.252244</td>\n",
       "    </tr>\n",
       "    <tr>\n",
       "      <th>2016</th>\n",
       "      <td>press</td>\n",
       "      <td>0.269775</td>\n",
       "    </tr>\n",
       "    <tr>\n",
       "      <th>919</th>\n",
       "      <td>extraction</td>\n",
       "      <td>0.279337</td>\n",
       "    </tr>\n",
       "    <tr>\n",
       "      <th>375</th>\n",
       "      <td>burr</td>\n",
       "      <td>0.281645</td>\n",
       "    </tr>\n",
       "    <tr>\n",
       "      <th>510</th>\n",
       "      <td>coffee</td>\n",
       "      <td>0.312912</td>\n",
       "    </tr>\n",
       "    <tr>\n",
       "      <th>1053</th>\n",
       "      <td>french</td>\n",
       "      <td>0.316660</td>\n",
       "    </tr>\n",
       "    <tr>\n",
       "      <th>1054</th>\n",
       "      <td>french press</td>\n",
       "      <td>0.325809</td>\n",
       "    </tr>\n",
       "    <tr>\n",
       "      <th>2634</th>\n",
       "      <td>thing</td>\n",
       "      <td>0.333402</td>\n",
       "    </tr>\n",
       "    <tr>\n",
       "      <th>1666</th>\n",
       "      <td>method</td>\n",
       "      <td>0.353378</td>\n",
       "    </tr>\n",
       "  </tbody>\n",
       "</table>\n",
       "</div>"
      ],
      "text/plain": [
       "              word    impact\n",
       "209           bean  0.026130\n",
       "1580       machine  0.082791\n",
       "1157       grinder  0.106142\n",
       "837       espresso  0.114002\n",
       "1147         grind  0.117104\n",
       "2209         roast  0.119866\n",
       "1988          pour  0.152086\n",
       "2215       roaster  0.173267\n",
       "51       aeropress  0.191910\n",
       "1171        ground  0.215013\n",
       "968         filter  0.232900\n",
       "321           brew  0.252244\n",
       "2016         press  0.269775\n",
       "919     extraction  0.279337\n",
       "375           burr  0.281645\n",
       "510         coffee  0.312912\n",
       "1053        french  0.316660\n",
       "1054  french press  0.325809\n",
       "2634         thing  0.333402\n",
       "1666        method  0.353378"
      ]
     },
     "execution_count": 80,
     "metadata": {},
     "output_type": "execute_result"
    }
   ],
   "source": [
    "coffee_word_impact"
   ]
  },
  {
   "cell_type": "markdown",
   "id": "dc4381a3",
   "metadata": {},
   "source": [
    "## Results from modeling"
   ]
  },
  {
   "cell_type": "markdown",
   "id": "5bfa67b4",
   "metadata": {},
   "source": [
    "### TF-IDF + Multinomial Naive Bayes chosen as best model"
   ]
  },
  {
   "cell_type": "markdown",
   "id": "10e26084",
   "metadata": {},
   "source": [
    "With the highest accuracy score (test score: 0.930902) amongst the four tested models,  **TF-IDF + Multinomial Naive Bayes** is our chosen combination to classify between tea and coffee subreddit posts. The training score is slightly higher than the test score, which indicates there is likely no overfitting. "
   ]
  },
  {
   "cell_type": "markdown",
   "id": "c8c9a9a7",
   "metadata": {},
   "source": [
    "#### Accuracy scores"
   ]
  },
  {
   "cell_type": "code",
   "execution_count": 87,
   "id": "8fbffaca",
   "metadata": {},
   "outputs": [
    {
     "data": {
      "text/html": [
       "<div>\n",
       "<style scoped>\n",
       "    .dataframe tbody tr th:only-of-type {\n",
       "        vertical-align: middle;\n",
       "    }\n",
       "\n",
       "    .dataframe tbody tr th {\n",
       "        vertical-align: top;\n",
       "    }\n",
       "\n",
       "    .dataframe thead th {\n",
       "        text-align: right;\n",
       "    }\n",
       "</style>\n",
       "<table border=\"1\" class=\"dataframe\">\n",
       "  <thead>\n",
       "    <tr style=\"text-align: right;\">\n",
       "      <th></th>\n",
       "      <th>pipe_cm</th>\n",
       "      <th>pipe_cl</th>\n",
       "      <th>pipe_tm</th>\n",
       "      <th>pipe_tl</th>\n",
       "    </tr>\n",
       "  </thead>\n",
       "  <tbody>\n",
       "    <tr>\n",
       "      <th>best score</th>\n",
       "      <td>0.928110</td>\n",
       "      <td>0.921497</td>\n",
       "      <td>0.934736</td>\n",
       "      <td>0.913914</td>\n",
       "    </tr>\n",
       "    <tr>\n",
       "      <th>training score</th>\n",
       "      <td>0.964995</td>\n",
       "      <td>0.992431</td>\n",
       "      <td>0.992431</td>\n",
       "      <td>0.955535</td>\n",
       "    </tr>\n",
       "    <tr>\n",
       "      <th>test score</th>\n",
       "      <td>0.927063</td>\n",
       "      <td>0.896353</td>\n",
       "      <td>0.930902</td>\n",
       "      <td>0.909789</td>\n",
       "    </tr>\n",
       "  </tbody>\n",
       "</table>\n",
       "</div>"
      ],
      "text/plain": [
       "                 pipe_cm   pipe_cl   pipe_tm   pipe_tl\n",
       "best score      0.928110  0.921497  0.934736  0.913914\n",
       "training score  0.964995  0.992431  0.992431  0.955535\n",
       "test score      0.927063  0.896353  0.930902  0.909789"
      ]
     },
     "execution_count": 87,
     "metadata": {},
     "output_type": "execute_result"
    }
   ],
   "source": [
    "#combine results from all 4 pipes into one table\n",
    "combined_results  = pd.concat([pipe_cm_results, pipe_cl_results, pipe_tm_results, pipe_tl_results], axis = 1) \n",
    "\n",
    "combined_results"
   ]
  },
  {
   "cell_type": "code",
   "execution_count": 99,
   "id": "59b9264f",
   "metadata": {},
   "outputs": [
    {
     "data": {
      "image/png": "[encoded data removed]",
      "text/plain": [
       "<Figure size 432x288 with 1 Axes>"
      ]
     },
     "metadata": {
      "needs_background": "light"
     },
     "output_type": "display_data"
    }
   ],
   "source": [
    "#visualising accuracy scores based on test score\n",
    "base_score = y_test.value_counts(normalize=True)[0]\n",
    "models_accuracy = pd.DataFrame()\n",
    "models_accuracy['score'] = [0.930902,0.927063,0.909789,0.896353,base_score]\n",
    "models_accuracy['model'] = ['TF-IDF + Multinomial Naive Bayes','CountVectorizer + Multinomial Naive Bayes','TF-IDF + Logistic Regression','CountVectorizer + Logistic Regression','baseline']\n",
    "models_accuracy.set_index('model')\n",
    "sorted_df = models_accuracy.sort_values('score',ascending=True)\n",
    "plt.barh(sorted_df['model'],sorted_df['score'],color=['grey', 'grey', 'grey', 'grey', 'blue'])\n",
    "plt.suptitle('Comparison of Model Accuracy Scores', fontsize=16,y=0.93)\n",
    "plt.xlabel('Accuracy Score', fontsize=12)\n",
    "plt.ylabel('Model', fontsize=12)\n",
    "\n",
    "#plt.savefig('accuracy_compare.png')"
   ]
  },
  {
   "cell_type": "markdown",
   "id": "7c7b0d3b",
   "metadata": {},
   "source": [
    "**Close accuracy score for all models** - While the TF-IDF + Multinomial Naive Bayes pipe had the highest accuracy score (0.930902)), the next best CountVectorizer + Multinomial Naive Bayes pipe was only marginally poorer in accuracy (0.927063). Nonetheless, all tested models had relatively high accuracy scores above 0.9 and significantly out-performed our baseline model.  \n",
    "\n",
    "**Naive Bayes classifier outperforms Logistic Regression** - The two Naive Bayes classifier models had higher accuracy scores than the Logistic Regression classifiers. This could be due to the fact that people's preference for tea or coffee tend to be mutually exclusive - hence not likely to make similar posts across 2 subreddits -  which fits well with Naive Bayes' underlying assumption of variable independence."
   ]
  },
  {
   "cell_type": "markdown",
   "id": "76e38799",
   "metadata": {},
   "source": [
    "#### Receiver Operating Characteristic Curve Area Under Curve (ROC AUC)"
   ]
  },
  {
   "cell_type": "code",
   "execution_count": 110,
   "id": "dd892733",
   "metadata": {
    "scrolled": true
   },
   "outputs": [
    {
     "data": {
      "image/png": "[encoded data removed]",
      "text/plain": [
       "<Figure size 720x576 with 1 Axes>"
      ]
     },
     "metadata": {
      "needs_background": "light"
     },
     "output_type": "display_data"
    }
   ],
   "source": [
    "# overlapping ROC curves for all models\n",
    "#set up plotting area\n",
    "plt.figure(figsize=(10, 8)).clf()\n",
    "#pipe_cm: CountVectorizer and Multinomial Naive Bayes\n",
    "y_pred1 = gs_m1.predict_proba(X_test)[:, 1]\n",
    "fpr1, tpr1, _ = roc_curve(y_test, y_pred1)\n",
    "auc1 = round(roc_auc_score(y_test, y_pred1), 4)\n",
    "plt.plot(fpr1,tpr1,label=\"CVEC MNB, AUC=\"+str(\"{:.3f}\".format(auc1)))\n",
    "\n",
    "#pipe_cl: CountVectorizer and Logistic Regression\n",
    "y_pred2 = gs_m2.predict_proba(X_test)[:, 1]\n",
    "fpr2, tpr2, _ = roc_curve(y_test, y_pred2)\n",
    "auc2 = round(roc_auc_score(y_test, y_pred2), 4)\n",
    "plt.plot(fpr2,tpr2,label=\"TFIDF MNB, AUC=\"+str(\"{:.3f}\".format(auc2)))\n",
    "\n",
    "#pipe_tm: TF-IDF and Multinomial Naive Bayes\n",
    "y_pred3 = gs_m3.predict_proba(X_test)[:, 1]\n",
    "fpr3, tpr3, _ = roc_curve(y_test, y_pred3)\n",
    "auc3 = round(roc_auc_score(y_test, y_pred3), 4)\n",
    "plt.plot(fpr3,tpr3,label=\"TFIDF LR, AUC=\"+str(\"{:.3f}\".format(auc3)))\n",
    "\n",
    "#pipe_tl: TF-IDF and Logistic Regression\n",
    "y_pred4 = gs_m4.predict_proba(X_test)[:, 1]\n",
    "fpr4, tpr4, _ = roc_curve(y_test, y_pred4)\n",
    "auc4 = round(roc_auc_score(y_test, y_pred4), 4)\n",
    "plt.plot(fpr4,tpr4,label=\"CVEC LR, AUC=\"+str(\"{:.3f}\".format(auc4)))\n",
    "\n",
    "plt.plot([0, 1], [0, 1],\n",
    "         label='baseline', linestyle='--')\n",
    "plt.suptitle('AUC ROC Curve', fontsize=16,y=0.93)\n",
    "plt.xlabel('False Positive Rate (Positive Label: 1)', fontsize=12)\n",
    "plt.ylabel('True Positive Rate (Positive Label: 1)', fontsize=12)\n",
    "plt.axvline(x=0.04,c='r',label='FP threshold: 0.04')\n",
    "plt.legend()\n",
    "\n",
    "plt.tight_layout()\n",
    "#plt.savefig('auc_roc.png')"
   ]
  },
  {
   "cell_type": "markdown",
   "id": "251e09b5",
   "metadata": {},
   "source": [
    "All the models exhibited relatively good AUC ROC scores (above 95%). In terms of crossing the chosen False Positive threshold of 0.04, the **CountVectorizer + Multinomial Naive Bayes** pipe was the first to cross the threshold (lowest True Positive Rate), while the **TF-IDF + Logistic Regression** was the last (highest True Positive Rate) to cross the threshold. The **TF-IDF + Logistic Regression** pipe had the highest ROC AUC (0.971), though only marginally higher than the rest. The AUC ROC for our chosen combination, **TF-IDF + Multinomial Naive Bayes**, is the lowest, but comparable with the performance of other models, with the largest and lowest ROC AUC values only differing by 0.02. "
   ]
  },
  {
   "cell_type": "markdown",
   "id": "4232f0db",
   "metadata": {},
   "source": [
    "## Predictor words for chosen model (TF-IDF + Multinomial Naive Bayes)"
   ]
  },
  {
   "cell_type": "code",
   "execution_count": 105,
   "id": "7a908da4",
   "metadata": {},
   "outputs": [
    {
     "data": {
      "image/png": "[encoded data removed]",
      "text/plain": [
       "<Figure size 432x288 with 1 Axes>"
      ]
     },
     "metadata": {
      "needs_background": "light"
     },
     "output_type": "display_data"
    }
   ],
   "source": [
    "#df_tea.sort_values(by = 'log prob diff').plot(kind = 'barh')\n",
    "plt.xlabel(\"Importance\", labelpad=14)\n",
    "plt.ylabel(\"Word\", labelpad=14)\n",
    "plt.title(\"Tea predictor words\", y=1.02);\n",
    "#plt.set_yticklabels(ylabel = 'feature',fontdict=None,labelpad=None)\n",
    "ax = df_tea.sort_values(by = 'log prob diff')['log prob diff'].plot(yticks=df_tea.index, kind='barh')\n",
    "ax.set_yticklabels(df_tea['feature'])\n",
    "plt.tight_layout()\n",
    "#plt.savefig('tea_words.png')"
   ]
  },
  {
   "cell_type": "code",
   "execution_count": 106,
   "id": "a2985374",
   "metadata": {},
   "outputs": [
    {
     "data": {
      "image/png": "[encoded data removed]",
      "text/plain": [
       "<Figure size 432x288 with 1 Axes>"
      ]
     },
     "metadata": {
      "needs_background": "light"
     },
     "output_type": "display_data"
    }
   ],
   "source": [
    "#coffee\n",
    "#df_tea.sort_values(by = 'log prob diff').plot(kind = 'barh')\n",
    "plt.xlabel(\"Importance\", labelpad=14)\n",
    "plt.ylabel(\"Word\", labelpad=14)\n",
    "plt.title(\"Coffee predictor words\", y=1.02);\n",
    "#plt.set_yticklabels(ylabel = 'feature',fontdict=None,labelpad=None)\n",
    "ax = df_coffee.sort_values(by = 'log prob diff', ascending = False)['log prob diff'].apply(lambda x: abs(x)).plot(yticks=df_tea.index, kind='barh')\n",
    "ax.set_yticklabels(df_coffee['feature'])\n",
    "plt.tight_layout()\n",
    "#plt.savefig('coffee_words.png')"
   ]
  },
  {
   "cell_type": "markdown",
   "id": "0281ee7d",
   "metadata": {},
   "source": [
    "**Predictor word importance** - One way to interpret the predictor word plots, is that a post containing a predictor word that falls within a category, is more likely to be from that category, up to the number of times indicated in their importance , holding all else constant. Note that the unit of 'Importance' in log product, so it needs to be exponentiated to get the exact number.\n",
    "\n",
    "**Difference in category of predictor words** - Predictor words for tea tend to describe variety and quality of tea, while the words for coffee tend to be related to equipment and technology involved in making coffee. This could also be a contributor for the higher performance for our Naive Bayes models."
   ]
  },
  {
   "cell_type": "markdown",
   "id": "59efc2af",
   "metadata": {},
   "source": [
    "## Conclusion"
   ]
  },
  {
   "cell_type": "markdown",
   "id": "8cf6def5",
   "metadata": {},
   "source": [
    "The key findings can be summarised as follow:\n",
    "1. **Chosen model is `TF-IDF + Multinomial Naive Bayes`** The model had the highest accuracy score of 0.931 based on the test score. The model also exhbited high AUC ROC and good classification metric values, well above our baseline accuracy of 0.602 which was simply based on which subreddit the majority of posts came from.\n",
    "2. **Good performance from all models** - All 4 modeling pipes produced relatively high accuracy scores (lowest 0.896, highest 0.931) and AUC ROC (lowest 0.96, highest 0.976) within a tight range, with similarly good classification metrics. \n",
    "3. **Naive Bayes outperforms Logistic Regression** - The two models with Naive Bayes classifiers had higher accuracy scores than the Logistic Regression models. This is likely due to the mutually exclusive nature of tea and coffee drinkers, which increases the independence of the variables and hence effectiveness of Naive Bayes models.\n",
    "4. **Distinct difference in top predictor words for each subreddit** - Top predictor words for tea tend to describe variety and quality of tea, while the words for coffee tend to be about equipment and technology involved in making coffee.\n"
   ]
  },
  {
   "cell_type": "markdown",
   "id": "df6fde05",
   "metadata": {},
   "source": [
    "## Limitations and Future Directions"
   ]
  },
  {
   "cell_type": "markdown",
   "id": "90248689",
   "metadata": {},
   "source": [
    "1. While this study explored how word counts in title and self text differed between r/tea and r/Coffee posts, the word counts were not used in the modeling. This variable could be considered for future models.\n",
    "2. There are many other features in a Reddit post which could be important in classification, such as date of post, author and the various tags. \n",
    "3. The data for this study came exclusively from Reddit. There could be some bias in the types of users and posts. Expanding data collection to more sources, such as other social media and news platforms, could make the model more robust.\n",
    "4. Expanding the model to be classify multiple categories as F&B businesses and the customer engagement received likely goes beyond just coffee and tea."
   ]
  }
 ],
 "metadata": {
  "kernelspec": {
   "display_name": "Python 3 (ipykernel)",
   "language": "python",
   "name": "python3"
  },
  "language_info": {
   "codemirror_mode": {
    "name": "ipython",
    "version": 3
   },
   "file_extension": ".py",
   "mimetype": "text/x-python",
   "name": "python",
   "nbconvert_exporter": "python",
   "pygments_lexer": "ipython3",
   "version": "3.9.7"
  }
 },
 "nbformat": 4,
 "nbformat_minor": 5
}
